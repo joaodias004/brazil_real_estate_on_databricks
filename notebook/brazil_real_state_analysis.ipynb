{
 "cells": [
  {
   "cell_type": "markdown",
   "metadata": {
    "application/vnd.databricks.v1+cell": {
     "cellMetadata": {},
     "inputWidgets": {},
     "nuid": "3d00ecd2-16fd-4889-92ce-840ae7aa838e",
     "showTitle": false,
     "title": ""
    }
   },
   "source": [
    "Analisando dados do mercado imobiliario Brasileiro"
   ]
  },
  {
   "cell_type": "code",
   "execution_count": null,
   "metadata": {
    "application/vnd.databricks.v1+cell": {
     "cellMetadata": {
      "byteLimit": 2048000,
      "rowLimit": 10000
     },
     "inputWidgets": {},
     "nuid": "5fa36c41-0f77-4087-8e6c-1b7cf3460da8",
     "showTitle": false,
     "title": ""
    }
   },
   "outputs": [],
   "source": [
    "file_loc = \"dbfs:/FileStore/Brasile_real_estate_dataset.csv\""
   ]
  },
  {
   "cell_type": "markdown",
   "metadata": {
    "application/vnd.databricks.v1+cell": {
     "cellMetadata": {},
     "inputWidgets": {},
     "nuid": "2095a1c8-c89f-45e7-8092-a39ab7190a42",
     "showTitle": false,
     "title": ""
    }
   },
   "source": [
    "Importação da biblioteca pandas do Spark como ps"
   ]
  },
  {
   "cell_type": "code",
   "execution_count": null,
   "metadata": {
    "application/vnd.databricks.v1+cell": {
     "cellMetadata": {
      "byteLimit": 2048000,
      "rowLimit": 10000
     },
     "inputWidgets": {},
     "nuid": "f6272583-be19-4cb5-9a9e-63df9d27db79",
     "showTitle": false,
     "title": ""
    }
   },
   "outputs": [],
   "source": [
    "import pyspark.pandas as ps\n",
    "\n",
    "df = ps.read_csv(file_loc)"
   ]
  },
  {
   "cell_type": "markdown",
   "metadata": {
    "application/vnd.databricks.v1+cell": {
     "cellMetadata": {},
     "inputWidgets": {},
     "nuid": "a8847306-d4b0-4164-94ee-3ee84e22ca5b",
     "showTitle": false,
     "title": ""
    }
   },
   "source": [
    "Exibição das primeiras linhas do DataFrame para verificação"
   ]
  },
  {
   "cell_type": "code",
   "execution_count": null,
   "metadata": {
    "application/vnd.databricks.v1+cell": {
     "cellMetadata": {
      "byteLimit": 2048000,
      "rowLimit": 10000
     },
     "inputWidgets": {},
     "nuid": "2f77b3f7-e41d-4aa3-ba45-21ac7b1b9b11",
     "showTitle": false,
     "title": ""
    }
   },
   "outputs": [
    {
     "data": {
      "text/html": [
       "<div>\n",
       "<style scoped>\n",
       "    .dataframe tbody tr th:only-of-type {\n",
       "        vertical-align: middle;\n",
       "    }\n",
       "\n",
       "    .dataframe tbody tr th {\n",
       "        vertical-align: top;\n",
       "    }\n",
       "\n",
       "    .dataframe thead th {\n",
       "        text-align: right;\n",
       "    }\n",
       "</style>\n",
       "<table border=\"1\" class=\"dataframe\">\n",
       "  <thead>\n",
       "    <tr style=\"text-align: right;\">\n",
       "      <th></th>\n",
       "      <th>_c0</th>\n",
       "      <th>property_type</th>\n",
       "      <th>state</th>\n",
       "      <th>region</th>\n",
       "      <th>lat</th>\n",
       "      <th>lon</th>\n",
       "      <th>area_m2</th>\n",
       "      <th>price_brl</th>\n",
       "    </tr>\n",
       "  </thead>\n",
       "  <tbody>\n",
       "    <tr>\n",
       "      <th>0</th>\n",
       "      <td>1</td>\n",
       "      <td>apartment</td>\n",
       "      <td>Pernambuco</td>\n",
       "      <td>Northeast</td>\n",
       "      <td>-8.134204</td>\n",
       "      <td>-34.906326</td>\n",
       "      <td>72</td>\n",
       "      <td>414222.98</td>\n",
       "    </tr>\n",
       "    <tr>\n",
       "      <th>1</th>\n",
       "      <td>2</td>\n",
       "      <td>apartment</td>\n",
       "      <td>Pernambuco</td>\n",
       "      <td>Northeast</td>\n",
       "      <td>-8.126664</td>\n",
       "      <td>-34.903924</td>\n",
       "      <td>136</td>\n",
       "      <td>848408.53</td>\n",
       "    </tr>\n",
       "    <tr>\n",
       "      <th>2</th>\n",
       "      <td>3</td>\n",
       "      <td>apartment</td>\n",
       "      <td>Pernambuco</td>\n",
       "      <td>Northeast</td>\n",
       "      <td>-8.125550</td>\n",
       "      <td>-34.907601</td>\n",
       "      <td>75</td>\n",
       "      <td>299438.28</td>\n",
       "    </tr>\n",
       "    <tr>\n",
       "      <th>3</th>\n",
       "      <td>4</td>\n",
       "      <td>apartment</td>\n",
       "      <td>Pernambuco</td>\n",
       "      <td>Northeast</td>\n",
       "      <td>-8.120249</td>\n",
       "      <td>-34.895920</td>\n",
       "      <td>187</td>\n",
       "      <td>848408.53</td>\n",
       "    </tr>\n",
       "    <tr>\n",
       "      <th>4</th>\n",
       "      <td>5</td>\n",
       "      <td>apartment</td>\n",
       "      <td>Pernambuco</td>\n",
       "      <td>Northeast</td>\n",
       "      <td>-8.142666</td>\n",
       "      <td>-34.906906</td>\n",
       "      <td>80</td>\n",
       "      <td>464129.36</td>\n",
       "    </tr>\n",
       "  </tbody>\n",
       "</table>\n",
       "</div>"
      ]
     },
     "metadata": {
      "application/vnd.databricks.v1+output": {
       "addedWidgets": {},
       "arguments": {},
       "data": "<div>\n<style scoped>\n    .dataframe tbody tr th:only-of-type {\n        vertical-align: middle;\n    }\n\n    .dataframe tbody tr th {\n        vertical-align: top;\n    }\n\n    .dataframe thead th {\n        text-align: right;\n    }\n</style>\n<table border=\"1\" class=\"dataframe\">\n  <thead>\n    <tr style=\"text-align: right;\">\n      <th></th>\n      <th>_c0</th>\n      <th>property_type</th>\n      <th>state</th>\n      <th>region</th>\n      <th>lat</th>\n      <th>lon</th>\n      <th>area_m2</th>\n      <th>price_brl</th>\n    </tr>\n  </thead>\n  <tbody>\n    <tr>\n      <th>0</th>\n      <td>1</td>\n      <td>apartment</td>\n      <td>Pernambuco</td>\n      <td>Northeast</td>\n      <td>-8.134204</td>\n      <td>-34.906326</td>\n      <td>72</td>\n      <td>414222.98</td>\n    </tr>\n    <tr>\n      <th>1</th>\n      <td>2</td>\n      <td>apartment</td>\n      <td>Pernambuco</td>\n      <td>Northeast</td>\n      <td>-8.126664</td>\n      <td>-34.903924</td>\n      <td>136</td>\n      <td>848408.53</td>\n    </tr>\n    <tr>\n      <th>2</th>\n      <td>3</td>\n      <td>apartment</td>\n      <td>Pernambuco</td>\n      <td>Northeast</td>\n      <td>-8.125550</td>\n      <td>-34.907601</td>\n      <td>75</td>\n      <td>299438.28</td>\n    </tr>\n    <tr>\n      <th>3</th>\n      <td>4</td>\n      <td>apartment</td>\n      <td>Pernambuco</td>\n      <td>Northeast</td>\n      <td>-8.120249</td>\n      <td>-34.895920</td>\n      <td>187</td>\n      <td>848408.53</td>\n    </tr>\n    <tr>\n      <th>4</th>\n      <td>5</td>\n      <td>apartment</td>\n      <td>Pernambuco</td>\n      <td>Northeast</td>\n      <td>-8.142666</td>\n      <td>-34.906906</td>\n      <td>80</td>\n      <td>464129.36</td>\n    </tr>\n  </tbody>\n</table>\n</div>",
       "datasetInfos": [],
       "metadata": {},
       "removedWidgets": [],
       "textData": null,
       "type": "htmlSandbox"
      }
     },
     "output_type": "display_data"
    }
   ],
   "source": [
    "df.head()"
   ]
  },
  {
   "cell_type": "markdown",
   "metadata": {
    "application/vnd.databricks.v1+cell": {
     "cellMetadata": {},
     "inputWidgets": {},
     "nuid": "bbc69cfc-b66d-4473-b2b1-972202482ce0",
     "showTitle": false,
     "title": ""
    }
   },
   "source": [
    "Removendo índice desnecessário"
   ]
  },
  {
   "cell_type": "code",
   "execution_count": null,
   "metadata": {
    "application/vnd.databricks.v1+cell": {
     "cellMetadata": {
      "byteLimit": 2048000,
      "rowLimit": 10000
     },
     "inputWidgets": {},
     "nuid": "27682f74-a478-4904-94ac-fcb43766eae5",
     "showTitle": false,
     "title": ""
    }
   },
   "outputs": [],
   "source": [
    "df = df.drop(['_c0'], axis=1)"
   ]
  },
  {
   "cell_type": "markdown",
   "metadata": {
    "application/vnd.databricks.v1+cell": {
     "cellMetadata": {},
     "inputWidgets": {},
     "nuid": "6d5d7022-7afd-44b2-9fb5-0ed9fe7bfcd2",
     "showTitle": false,
     "title": ""
    }
   },
   "source": [
    "Removendo dados nulos no dataset"
   ]
  },
  {
   "cell_type": "code",
   "execution_count": null,
   "metadata": {
    "application/vnd.databricks.v1+cell": {
     "cellMetadata": {
      "byteLimit": 2048000,
      "rowLimit": 10000
     },
     "inputWidgets": {},
     "nuid": "8ae5935d-fd68-4134-91ca-7d46f97c3071",
     "showTitle": false,
     "title": ""
    }
   },
   "outputs": [],
   "source": [
    "df= df.dropna()"
   ]
  },
  {
   "cell_type": "markdown",
   "metadata": {
    "application/vnd.databricks.v1+cell": {
     "cellMetadata": {},
     "inputWidgets": {},
     "nuid": "5160d415-00d9-4810-8ff5-2d98996331e5",
     "showTitle": false,
     "title": ""
    }
   },
   "source": [
    "Criando uma nova coluna demonstrando preço por metro quadrado"
   ]
  },
  {
   "cell_type": "code",
   "execution_count": null,
   "metadata": {
    "application/vnd.databricks.v1+cell": {
     "cellMetadata": {
      "byteLimit": 2048000,
      "rowLimit": 10000
     },
     "inputWidgets": {},
     "nuid": "0dc4aec1-e224-4c34-9090-187e1f3778bc",
     "showTitle": false,
     "title": ""
    }
   },
   "outputs": [],
   "source": [
    "df['cost_per_m2'] = df['price_brl'] / df['area_m2']"
   ]
  },
  {
   "cell_type": "code",
   "execution_count": null,
   "metadata": {
    "application/vnd.databricks.v1+cell": {
     "cellMetadata": {
      "byteLimit": 2048000,
      "rowLimit": 10000
     },
     "inputWidgets": {},
     "nuid": "a682529d-89f7-43fd-b818-812b5e2dc56c",
     "showTitle": false,
     "title": ""
    }
   },
   "outputs": [
    {
     "data": {
      "text/html": [
       "<div>\n",
       "<style scoped>\n",
       "    .dataframe tbody tr th:only-of-type {\n",
       "        vertical-align: middle;\n",
       "    }\n",
       "\n",
       "    .dataframe tbody tr th {\n",
       "        vertical-align: top;\n",
       "    }\n",
       "\n",
       "    .dataframe thead th {\n",
       "        text-align: right;\n",
       "    }\n",
       "</style>\n",
       "<table border=\"1\" class=\"dataframe\">\n",
       "  <thead>\n",
       "    <tr style=\"text-align: right;\">\n",
       "      <th></th>\n",
       "      <th>property_type</th>\n",
       "      <th>state</th>\n",
       "      <th>region</th>\n",
       "      <th>lat</th>\n",
       "      <th>lon</th>\n",
       "      <th>area_m2</th>\n",
       "      <th>price_brl</th>\n",
       "      <th>cost_per_m2</th>\n",
       "    </tr>\n",
       "  </thead>\n",
       "  <tbody>\n",
       "    <tr>\n",
       "      <th>0</th>\n",
       "      <td>apartment</td>\n",
       "      <td>Pernambuco</td>\n",
       "      <td>Northeast</td>\n",
       "      <td>-8.134204</td>\n",
       "      <td>-34.906326</td>\n",
       "      <td>72</td>\n",
       "      <td>414222.98</td>\n",
       "      <td>5753.096944</td>\n",
       "    </tr>\n",
       "    <tr>\n",
       "      <th>1</th>\n",
       "      <td>apartment</td>\n",
       "      <td>Pernambuco</td>\n",
       "      <td>Northeast</td>\n",
       "      <td>-8.126664</td>\n",
       "      <td>-34.903924</td>\n",
       "      <td>136</td>\n",
       "      <td>848408.53</td>\n",
       "      <td>6238.298015</td>\n",
       "    </tr>\n",
       "    <tr>\n",
       "      <th>2</th>\n",
       "      <td>apartment</td>\n",
       "      <td>Pernambuco</td>\n",
       "      <td>Northeast</td>\n",
       "      <td>-8.125550</td>\n",
       "      <td>-34.907601</td>\n",
       "      <td>75</td>\n",
       "      <td>299438.28</td>\n",
       "      <td>3992.510400</td>\n",
       "    </tr>\n",
       "    <tr>\n",
       "      <th>3</th>\n",
       "      <td>apartment</td>\n",
       "      <td>Pernambuco</td>\n",
       "      <td>Northeast</td>\n",
       "      <td>-8.120249</td>\n",
       "      <td>-34.895920</td>\n",
       "      <td>187</td>\n",
       "      <td>848408.53</td>\n",
       "      <td>4536.944011</td>\n",
       "    </tr>\n",
       "    <tr>\n",
       "      <th>4</th>\n",
       "      <td>apartment</td>\n",
       "      <td>Pernambuco</td>\n",
       "      <td>Northeast</td>\n",
       "      <td>-8.142666</td>\n",
       "      <td>-34.906906</td>\n",
       "      <td>80</td>\n",
       "      <td>464129.36</td>\n",
       "      <td>5801.617000</td>\n",
       "    </tr>\n",
       "  </tbody>\n",
       "</table>\n",
       "</div>"
      ]
     },
     "metadata": {
      "application/vnd.databricks.v1+output": {
       "addedWidgets": {},
       "arguments": {},
       "data": "<div>\n<style scoped>\n    .dataframe tbody tr th:only-of-type {\n        vertical-align: middle;\n    }\n\n    .dataframe tbody tr th {\n        vertical-align: top;\n    }\n\n    .dataframe thead th {\n        text-align: right;\n    }\n</style>\n<table border=\"1\" class=\"dataframe\">\n  <thead>\n    <tr style=\"text-align: right;\">\n      <th></th>\n      <th>property_type</th>\n      <th>state</th>\n      <th>region</th>\n      <th>lat</th>\n      <th>lon</th>\n      <th>area_m2</th>\n      <th>price_brl</th>\n      <th>cost_per_m2</th>\n    </tr>\n  </thead>\n  <tbody>\n    <tr>\n      <th>0</th>\n      <td>apartment</td>\n      <td>Pernambuco</td>\n      <td>Northeast</td>\n      <td>-8.134204</td>\n      <td>-34.906326</td>\n      <td>72</td>\n      <td>414222.98</td>\n      <td>5753.096944</td>\n    </tr>\n    <tr>\n      <th>1</th>\n      <td>apartment</td>\n      <td>Pernambuco</td>\n      <td>Northeast</td>\n      <td>-8.126664</td>\n      <td>-34.903924</td>\n      <td>136</td>\n      <td>848408.53</td>\n      <td>6238.298015</td>\n    </tr>\n    <tr>\n      <th>2</th>\n      <td>apartment</td>\n      <td>Pernambuco</td>\n      <td>Northeast</td>\n      <td>-8.125550</td>\n      <td>-34.907601</td>\n      <td>75</td>\n      <td>299438.28</td>\n      <td>3992.510400</td>\n    </tr>\n    <tr>\n      <th>3</th>\n      <td>apartment</td>\n      <td>Pernambuco</td>\n      <td>Northeast</td>\n      <td>-8.120249</td>\n      <td>-34.895920</td>\n      <td>187</td>\n      <td>848408.53</td>\n      <td>4536.944011</td>\n    </tr>\n    <tr>\n      <th>4</th>\n      <td>apartment</td>\n      <td>Pernambuco</td>\n      <td>Northeast</td>\n      <td>-8.142666</td>\n      <td>-34.906906</td>\n      <td>80</td>\n      <td>464129.36</td>\n      <td>5801.617000</td>\n    </tr>\n  </tbody>\n</table>\n</div>",
       "datasetInfos": [],
       "metadata": {},
       "removedWidgets": [],
       "textData": null,
       "type": "htmlSandbox"
      }
     },
     "output_type": "display_data"
    }
   ],
   "source": [
    "df.head()"
   ]
  },
  {
   "cell_type": "markdown",
   "metadata": {
    "application/vnd.databricks.v1+cell": {
     "cellMetadata": {},
     "inputWidgets": {},
     "nuid": "cdd1656e-5738-4f5f-a75c-b9d27eee1fea",
     "showTitle": false,
     "title": ""
    }
   },
   "source": [
    "Identificação dos estados presentes no DataFrame"
   ]
  },
  {
   "cell_type": "code",
   "execution_count": null,
   "metadata": {
    "application/vnd.databricks.v1+cell": {
     "cellMetadata": {
      "byteLimit": 2048000,
      "rowLimit": 10000
     },
     "inputWidgets": {},
     "nuid": "10b59e5a-96f6-4265-8209-9dd1997aafb1",
     "showTitle": false,
     "title": ""
    }
   },
   "outputs": [
    {
     "name": "stdout",
     "output_type": "stream",
     "text": [
      "Out[7]: 0         Santa Catarina\n",
      "1                  Piau�\n",
      "2             Pernambuco\n",
      "3      Rio Grande do Sul\n",
      "4    Rio Grande do Norte\n",
      "5              S�o Paulo\n",
      "6                Sergipe\n",
      "7         Rio de Janeiro\n",
      "8               Rond�nia\n",
      "9              Tocantins\n",
      "Name: state, dtype: object"
     ]
    }
   ],
   "source": [
    "df['state'].unique()"
   ]
  },
  {
   "cell_type": "markdown",
   "metadata": {
    "application/vnd.databricks.v1+cell": {
     "cellMetadata": {},
     "inputWidgets": {},
     "nuid": "06ad83e9-d9d3-4b05-9e85-6488af06f5ff",
     "showTitle": false,
     "title": ""
    }
   },
   "source": [
    "Correção erros de digitação nos nomes dos estados, provavelmente causados por acentos"
   ]
  },
  {
   "cell_type": "code",
   "execution_count": null,
   "metadata": {
    "application/vnd.databricks.v1+cell": {
     "cellMetadata": {
      "byteLimit": 2048000,
      "rowLimit": 10000
     },
     "inputWidgets": {},
     "nuid": "8f3972c0-843d-4824-b90f-cb615c9883c4",
     "showTitle": false,
     "title": ""
    }
   },
   "outputs": [],
   "source": [
    "df['state'] = df['state'].str.replace('Piau�', 'Piauí')\n",
    "df['state'] = df['state'].str.replace('S�o Paulo', 'Sao Paulo')\n",
    "df['state'] = df['state'].str.replace('Rond�nia', 'Rondonia')"
   ]
  },
  {
   "cell_type": "markdown",
   "metadata": {
    "application/vnd.databricks.v1+cell": {
     "cellMetadata": {},
     "inputWidgets": {},
     "nuid": "391a864d-900f-4eb8-bf5c-a5585b0f520a",
     "showTitle": false,
     "title": ""
    }
   },
   "source": [
    "Verificação da forma (número de linhas e colunas) do DataFrame após limpeza e preparação dos dados"
   ]
  },
  {
   "cell_type": "code",
   "execution_count": null,
   "metadata": {
    "application/vnd.databricks.v1+cell": {
     "cellMetadata": {
      "byteLimit": 2048000,
      "rowLimit": 10000
     },
     "inputWidgets": {},
     "nuid": "75fb0dad-599f-4c1b-9487-26ac9dd18aca",
     "showTitle": false,
     "title": ""
    }
   },
   "outputs": [
    {
     "name": "stdout",
     "output_type": "stream",
     "text": [
      "Out[9]: (11293, 8)"
     ]
    }
   ],
   "source": [
    "df.shape"
   ]
  },
  {
   "cell_type": "markdown",
   "metadata": {
    "application/vnd.databricks.v1+cell": {
     "cellMetadata": {},
     "inputWidgets": {},
     "nuid": "d8b2a8e2-4a17-4711-ba9d-7d29d661490d",
     "showTitle": false,
     "title": ""
    }
   },
   "source": [
    "Cálculo do preço médio por estado ('preço_medio') agrupando pelo estado ('state') e calculando a média dos preços ('price_brl')"
   ]
  },
  {
   "cell_type": "code",
   "execution_count": null,
   "metadata": {
    "application/vnd.databricks.v1+cell": {
     "cellMetadata": {
      "byteLimit": 2048000,
      "rowLimit": 10000
     },
     "inputWidgets": {},
     "nuid": "c4d356ab-15a8-422a-9eb5-ec0fd8b671db",
     "showTitle": false,
     "title": ""
    }
   },
   "outputs": [],
   "source": [
    "preço_medio = df.groupby('state')['price_brl'].mean()"
   ]
  },
  {
   "cell_type": "markdown",
   "metadata": {
    "application/vnd.databricks.v1+cell": {
     "cellMetadata": {},
     "inputWidgets": {},
     "nuid": "f11041cf-8da9-4acc-97e7-4fcb39153001",
     "showTitle": false,
     "title": ""
    }
   },
   "source": [
    "Criação de um novo DataFrame ('df_preço_medio') para armazenar o preço médio por estado e ordenação dos resultados em ordem decrescente"
   ]
  },
  {
   "cell_type": "code",
   "execution_count": null,
   "metadata": {
    "application/vnd.databricks.v1+cell": {
     "cellMetadata": {
      "byteLimit": 2048000,
      "rowLimit": 10000
     },
     "inputWidgets": {},
     "nuid": "eb2ab868-92a7-4616-b90b-35b3d6a015b5",
     "showTitle": false,
     "title": ""
    }
   },
   "outputs": [
    {
     "data": {
      "text/html": [
       "<div>\n",
       "<style scoped>\n",
       "    .dataframe tbody tr th:only-of-type {\n",
       "        vertical-align: middle;\n",
       "    }\n",
       "\n",
       "    .dataframe tbody tr th {\n",
       "        vertical-align: top;\n",
       "    }\n",
       "\n",
       "    .dataframe thead th {\n",
       "        text-align: right;\n",
       "    }\n",
       "</style>\n",
       "<table border=\"1\" class=\"dataframe\">\n",
       "  <thead>\n",
       "    <tr style=\"text-align: right;\">\n",
       "      <th></th>\n",
       "      <th>Estado</th>\n",
       "      <th>Preço</th>\n",
       "    </tr>\n",
       "  </thead>\n",
       "  <tbody>\n",
       "    <tr>\n",
       "      <th>0</th>\n",
       "      <td>Santa Catarina</td>\n",
       "      <td>725950.664381</td>\n",
       "    </tr>\n",
       "    <tr>\n",
       "      <th>8</th>\n",
       "      <td>Rio de Janeiro</td>\n",
       "      <td>718089.854845</td>\n",
       "    </tr>\n",
       "    <tr>\n",
       "      <th>4</th>\n",
       "      <td>Sao Paulo</td>\n",
       "      <td>682352.359108</td>\n",
       "    </tr>\n",
       "    <tr>\n",
       "      <th>3</th>\n",
       "      <td>Pernambuco</td>\n",
       "      <td>676714.778679</td>\n",
       "    </tr>\n",
       "    <tr>\n",
       "      <th>5</th>\n",
       "      <td>Rio Grande do Sul</td>\n",
       "      <td>556649.195717</td>\n",
       "    </tr>\n",
       "    <tr>\n",
       "      <th>6</th>\n",
       "      <td>Rio Grande do Norte</td>\n",
       "      <td>515973.909503</td>\n",
       "    </tr>\n",
       "    <tr>\n",
       "      <th>2</th>\n",
       "      <td>Piauí</td>\n",
       "      <td>491873.270000</td>\n",
       "    </tr>\n",
       "    <tr>\n",
       "      <th>7</th>\n",
       "      <td>Sergipe</td>\n",
       "      <td>454313.512206</td>\n",
       "    </tr>\n",
       "    <tr>\n",
       "      <th>1</th>\n",
       "      <td>Rondonia</td>\n",
       "      <td>355377.536000</td>\n",
       "    </tr>\n",
       "    <tr>\n",
       "      <th>9</th>\n",
       "      <td>Tocantins</td>\n",
       "      <td>289457.010000</td>\n",
       "    </tr>\n",
       "  </tbody>\n",
       "</table>\n",
       "</div>"
      ]
     },
     "metadata": {
      "application/vnd.databricks.v1+output": {
       "addedWidgets": {},
       "arguments": {},
       "data": "<div>\n<style scoped>\n    .dataframe tbody tr th:only-of-type {\n        vertical-align: middle;\n    }\n\n    .dataframe tbody tr th {\n        vertical-align: top;\n    }\n\n    .dataframe thead th {\n        text-align: right;\n    }\n</style>\n<table border=\"1\" class=\"dataframe\">\n  <thead>\n    <tr style=\"text-align: right;\">\n      <th></th>\n      <th>Estado</th>\n      <th>Preço</th>\n    </tr>\n  </thead>\n  <tbody>\n    <tr>\n      <th>0</th>\n      <td>Santa Catarina</td>\n      <td>725950.664381</td>\n    </tr>\n    <tr>\n      <th>8</th>\n      <td>Rio de Janeiro</td>\n      <td>718089.854845</td>\n    </tr>\n    <tr>\n      <th>4</th>\n      <td>Sao Paulo</td>\n      <td>682352.359108</td>\n    </tr>\n    <tr>\n      <th>3</th>\n      <td>Pernambuco</td>\n      <td>676714.778679</td>\n    </tr>\n    <tr>\n      <th>5</th>\n      <td>Rio Grande do Sul</td>\n      <td>556649.195717</td>\n    </tr>\n    <tr>\n      <th>6</th>\n      <td>Rio Grande do Norte</td>\n      <td>515973.909503</td>\n    </tr>\n    <tr>\n      <th>2</th>\n      <td>Piauí</td>\n      <td>491873.270000</td>\n    </tr>\n    <tr>\n      <th>7</th>\n      <td>Sergipe</td>\n      <td>454313.512206</td>\n    </tr>\n    <tr>\n      <th>1</th>\n      <td>Rondonia</td>\n      <td>355377.536000</td>\n    </tr>\n    <tr>\n      <th>9</th>\n      <td>Tocantins</td>\n      <td>289457.010000</td>\n    </tr>\n  </tbody>\n</table>\n</div>",
       "datasetInfos": [],
       "metadata": {},
       "removedWidgets": [],
       "textData": null,
       "type": "htmlSandbox"
      }
     },
     "output_type": "display_data"
    }
   ],
   "source": [
    "df_preço_medio = ps.DataFrame(preço_medio)\n",
    "df_preço_medio = df_preço_medio.reset_index()\n",
    "df_preço_medio = df_preço_medio.rename(columns={'state': 'Estado'},)\n",
    "df_preço_medio = df_preço_medio.rename(columns={'price_brl': 'Preço'},)\n",
    "df_preço_medio.sort_values(by='Preço',inplace=True,ascending=False)\n",
    "df_preço_medio"
   ]
  },
  {
   "cell_type": "markdown",
   "metadata": {
    "application/vnd.databricks.v1+cell": {
     "cellMetadata": {
      "byteLimit": 2048000,
      "rowLimit": 10000
     },
     "inputWidgets": {},
     "nuid": "9c92bf16-b565-4332-8984-5f1a7598c055",
     "showTitle": false,
     "title": ""
    }
   },
   "source": [
    "# Pergunta: Qual é o estado com metro quadrado mais caro?\n",
    "Resposta: Santa Catarina possui o metro quadrado mais caro, enquanto Tocantins possui o mais barato."
   ]
  },
  {
   "cell_type": "markdown",
   "metadata": {
    "application/vnd.databricks.v1+cell": {
     "cellMetadata": {},
     "inputWidgets": {},
     "nuid": "41e5c9c7-76a0-47e2-9aea-a3260f6927df",
     "showTitle": false,
     "title": ""
    }
   },
   "source": [
    "Visualização do preço médio por estado em um gráfico de barras"
   ]
  },
  {
   "cell_type": "code",
   "execution_count": null,
   "metadata": {
    "application/vnd.databricks.v1+cell": {
     "cellMetadata": {
      "byteLimit": 2048000,
      "rowLimit": 10000
     },
     "inputWidgets": {},
     "nuid": "b5e28fef-84ec-443b-931d-0f05f4dad1ef",
     "showTitle": false,
     "title": ""
    }
   },
   "outputs": [
    {
     "data": {
      "text/html": [
       "<html>\n",
       "<head><meta charset=\"utf-8\" /></head>\n",
       "<body>\n",
       "    <div>            <script src=\"https://cdnjs.cloudflare.com/ajax/libs/mathjax/2.7.5/MathJax.js?config=TeX-AMS-MML_SVG\"></script><script type=\"text/javascript\">if (window.MathJax) {MathJax.Hub.Config({SVG: {font: \"STIX-Web\"}});}</script>                <script type=\"text/javascript\">window.PlotlyConfig = {MathJaxConfig: 'local'};</script>\n",
       "        <script src=\"https://cdn.plot.ly/plotly-2.9.0.min.js\"></script>                <div id=\"7c448ce0-bc41-4688-9eef-0092f3af0c65\" class=\"plotly-graph-div\" style=\"height:100%; width:100%;\"></div>            <script type=\"text/javascript\">                                    window.PLOTLYENV=window.PLOTLYENV || {};                                    if (document.getElementById(\"7c448ce0-bc41-4688-9eef-0092f3af0c65\")) {                    Plotly.newPlot(                        \"7c448ce0-bc41-4688-9eef-0092f3af0c65\",                        [{\"alignmentgroup\":\"True\",\"hovertemplate\":\"Estado=%{x}<br>Pre\\u00e7o=%{y}<extra></extra>\",\"legendgroup\":\"\",\"marker\":{\"color\":\"#636efa\",\"pattern\":{\"shape\":\"\"}},\"name\":\"\",\"offsetgroup\":\"\",\"orientation\":\"v\",\"showlegend\":false,\"textposition\":\"auto\",\"x\":[\"Santa Catarina\",\"Rio de Janeiro\",\"Sao Paulo\",\"Pernambuco\",\"Rio Grande do Sul\",\"Rio Grande do Norte\",\"Piau\\u00ed\",\"Sergipe\",\"Rondonia\",\"Tocantins\"],\"xaxis\":\"x\",\"y\":[725950.6643811688,718089.8548448143,682352.3591076828,676714.7786792453,556649.1957169897,515973.9095033114,491873.26999999996,454313.51220588235,355377.536,289457.01],\"yaxis\":\"y\",\"type\":\"bar\"}],                        {\"template\":{\"data\":{\"bar\":[{\"error_x\":{\"color\":\"#2a3f5f\"},\"error_y\":{\"color\":\"#2a3f5f\"},\"marker\":{\"line\":{\"color\":\"#E5ECF6\",\"width\":0.5},\"pattern\":{\"fillmode\":\"overlay\",\"size\":10,\"solidity\":0.2}},\"type\":\"bar\"}],\"barpolar\":[{\"marker\":{\"line\":{\"color\":\"#E5ECF6\",\"width\":0.5},\"pattern\":{\"fillmode\":\"overlay\",\"size\":10,\"solidity\":0.2}},\"type\":\"barpolar\"}],\"carpet\":[{\"aaxis\":{\"endlinecolor\":\"#2a3f5f\",\"gridcolor\":\"white\",\"linecolor\":\"white\",\"minorgridcolor\":\"white\",\"startlinecolor\":\"#2a3f5f\"},\"baxis\":{\"endlinecolor\":\"#2a3f5f\",\"gridcolor\":\"white\",\"linecolor\":\"white\",\"minorgridcolor\":\"white\",\"startlinecolor\":\"#2a3f5f\"},\"type\":\"carpet\"}],\"choropleth\":[{\"colorbar\":{\"outlinewidth\":0,\"ticks\":\"\"},\"type\":\"choropleth\"}],\"contour\":[{\"colorbar\":{\"outlinewidth\":0,\"ticks\":\"\"},\"colorscale\":[[0.0,\"#0d0887\"],[0.1111111111111111,\"#46039f\"],[0.2222222222222222,\"#7201a8\"],[0.3333333333333333,\"#9c179e\"],[0.4444444444444444,\"#bd3786\"],[0.5555555555555556,\"#d8576b\"],[0.6666666666666666,\"#ed7953\"],[0.7777777777777778,\"#fb9f3a\"],[0.8888888888888888,\"#fdca26\"],[1.0,\"#f0f921\"]],\"type\":\"contour\"}],\"contourcarpet\":[{\"colorbar\":{\"outlinewidth\":0,\"ticks\":\"\"},\"type\":\"contourcarpet\"}],\"heatmap\":[{\"colorbar\":{\"outlinewidth\":0,\"ticks\":\"\"},\"colorscale\":[[0.0,\"#0d0887\"],[0.1111111111111111,\"#46039f\"],[0.2222222222222222,\"#7201a8\"],[0.3333333333333333,\"#9c179e\"],[0.4444444444444444,\"#bd3786\"],[0.5555555555555556,\"#d8576b\"],[0.6666666666666666,\"#ed7953\"],[0.7777777777777778,\"#fb9f3a\"],[0.8888888888888888,\"#fdca26\"],[1.0,\"#f0f921\"]],\"type\":\"heatmap\"}],\"heatmapgl\":[{\"colorbar\":{\"outlinewidth\":0,\"ticks\":\"\"},\"colorscale\":[[0.0,\"#0d0887\"],[0.1111111111111111,\"#46039f\"],[0.2222222222222222,\"#7201a8\"],[0.3333333333333333,\"#9c179e\"],[0.4444444444444444,\"#bd3786\"],[0.5555555555555556,\"#d8576b\"],[0.6666666666666666,\"#ed7953\"],[0.7777777777777778,\"#fb9f3a\"],[0.8888888888888888,\"#fdca26\"],[1.0,\"#f0f921\"]],\"type\":\"heatmapgl\"}],\"histogram\":[{\"marker\":{\"pattern\":{\"fillmode\":\"overlay\",\"size\":10,\"solidity\":0.2}},\"type\":\"histogram\"}],\"histogram2d\":[{\"colorbar\":{\"outlinewidth\":0,\"ticks\":\"\"},\"colorscale\":[[0.0,\"#0d0887\"],[0.1111111111111111,\"#46039f\"],[0.2222222222222222,\"#7201a8\"],[0.3333333333333333,\"#9c179e\"],[0.4444444444444444,\"#bd3786\"],[0.5555555555555556,\"#d8576b\"],[0.6666666666666666,\"#ed7953\"],[0.7777777777777778,\"#fb9f3a\"],[0.8888888888888888,\"#fdca26\"],[1.0,\"#f0f921\"]],\"type\":\"histogram2d\"}],\"histogram2dcontour\":[{\"colorbar\":{\"outlinewidth\":0,\"ticks\":\"\"},\"colorscale\":[[0.0,\"#0d0887\"],[0.1111111111111111,\"#46039f\"],[0.2222222222222222,\"#7201a8\"],[0.3333333333333333,\"#9c179e\"],[0.4444444444444444,\"#bd3786\"],[0.5555555555555556,\"#d8576b\"],[0.6666666666666666,\"#ed7953\"],[0.7777777777777778,\"#fb9f3a\"],[0.8888888888888888,\"#fdca26\"],[1.0,\"#f0f921\"]],\"type\":\"histogram2dcontour\"}],\"mesh3d\":[{\"colorbar\":{\"outlinewidth\":0,\"ticks\":\"\"},\"type\":\"mesh3d\"}],\"parcoords\":[{\"line\":{\"colorbar\":{\"outlinewidth\":0,\"ticks\":\"\"}},\"type\":\"parcoords\"}],\"pie\":[{\"automargin\":true,\"type\":\"pie\"}],\"scatter\":[{\"marker\":{\"colorbar\":{\"outlinewidth\":0,\"ticks\":\"\"}},\"type\":\"scatter\"}],\"scatter3d\":[{\"line\":{\"colorbar\":{\"outlinewidth\":0,\"ticks\":\"\"}},\"marker\":{\"colorbar\":{\"outlinewidth\":0,\"ticks\":\"\"}},\"type\":\"scatter3d\"}],\"scattercarpet\":[{\"marker\":{\"colorbar\":{\"outlinewidth\":0,\"ticks\":\"\"}},\"type\":\"scattercarpet\"}],\"scattergeo\":[{\"marker\":{\"colorbar\":{\"outlinewidth\":0,\"ticks\":\"\"}},\"type\":\"scattergeo\"}],\"scattergl\":[{\"marker\":{\"colorbar\":{\"outlinewidth\":0,\"ticks\":\"\"}},\"type\":\"scattergl\"}],\"scattermapbox\":[{\"marker\":{\"colorbar\":{\"outlinewidth\":0,\"ticks\":\"\"}},\"type\":\"scattermapbox\"}],\"scatterpolar\":[{\"marker\":{\"colorbar\":{\"outlinewidth\":0,\"ticks\":\"\"}},\"type\":\"scatterpolar\"}],\"scatterpolargl\":[{\"marker\":{\"colorbar\":{\"outlinewidth\":0,\"ticks\":\"\"}},\"type\":\"scatterpolargl\"}],\"scatterternary\":[{\"marker\":{\"colorbar\":{\"outlinewidth\":0,\"ticks\":\"\"}},\"type\":\"scatterternary\"}],\"surface\":[{\"colorbar\":{\"outlinewidth\":0,\"ticks\":\"\"},\"colorscale\":[[0.0,\"#0d0887\"],[0.1111111111111111,\"#46039f\"],[0.2222222222222222,\"#7201a8\"],[0.3333333333333333,\"#9c179e\"],[0.4444444444444444,\"#bd3786\"],[0.5555555555555556,\"#d8576b\"],[0.6666666666666666,\"#ed7953\"],[0.7777777777777778,\"#fb9f3a\"],[0.8888888888888888,\"#fdca26\"],[1.0,\"#f0f921\"]],\"type\":\"surface\"}],\"table\":[{\"cells\":{\"fill\":{\"color\":\"#EBF0F8\"},\"line\":{\"color\":\"white\"}},\"header\":{\"fill\":{\"color\":\"#C8D4E3\"},\"line\":{\"color\":\"white\"}},\"type\":\"table\"}]},\"layout\":{\"annotationdefaults\":{\"arrowcolor\":\"#2a3f5f\",\"arrowhead\":0,\"arrowwidth\":1},\"autotypenumbers\":\"strict\",\"coloraxis\":{\"colorbar\":{\"outlinewidth\":0,\"ticks\":\"\"}},\"colorscale\":{\"diverging\":[[0,\"#8e0152\"],[0.1,\"#c51b7d\"],[0.2,\"#de77ae\"],[0.3,\"#f1b6da\"],[0.4,\"#fde0ef\"],[0.5,\"#f7f7f7\"],[0.6,\"#e6f5d0\"],[0.7,\"#b8e186\"],[0.8,\"#7fbc41\"],[0.9,\"#4d9221\"],[1,\"#276419\"]],\"sequential\":[[0.0,\"#0d0887\"],[0.1111111111111111,\"#46039f\"],[0.2222222222222222,\"#7201a8\"],[0.3333333333333333,\"#9c179e\"],[0.4444444444444444,\"#bd3786\"],[0.5555555555555556,\"#d8576b\"],[0.6666666666666666,\"#ed7953\"],[0.7777777777777778,\"#fb9f3a\"],[0.8888888888888888,\"#fdca26\"],[1.0,\"#f0f921\"]],\"sequentialminus\":[[0.0,\"#0d0887\"],[0.1111111111111111,\"#46039f\"],[0.2222222222222222,\"#7201a8\"],[0.3333333333333333,\"#9c179e\"],[0.4444444444444444,\"#bd3786\"],[0.5555555555555556,\"#d8576b\"],[0.6666666666666666,\"#ed7953\"],[0.7777777777777778,\"#fb9f3a\"],[0.8888888888888888,\"#fdca26\"],[1.0,\"#f0f921\"]]},\"colorway\":[\"#636efa\",\"#EF553B\",\"#00cc96\",\"#ab63fa\",\"#FFA15A\",\"#19d3f3\",\"#FF6692\",\"#B6E880\",\"#FF97FF\",\"#FECB52\"],\"font\":{\"color\":\"#2a3f5f\"},\"geo\":{\"bgcolor\":\"white\",\"lakecolor\":\"white\",\"landcolor\":\"#E5ECF6\",\"showlakes\":true,\"showland\":true,\"subunitcolor\":\"white\"},\"hoverlabel\":{\"align\":\"left\"},\"hovermode\":\"closest\",\"mapbox\":{\"style\":\"light\"},\"paper_bgcolor\":\"white\",\"plot_bgcolor\":\"#E5ECF6\",\"polar\":{\"angularaxis\":{\"gridcolor\":\"white\",\"linecolor\":\"white\",\"ticks\":\"\"},\"bgcolor\":\"#E5ECF6\",\"radialaxis\":{\"gridcolor\":\"white\",\"linecolor\":\"white\",\"ticks\":\"\"}},\"scene\":{\"xaxis\":{\"backgroundcolor\":\"#E5ECF6\",\"gridcolor\":\"white\",\"gridwidth\":2,\"linecolor\":\"white\",\"showbackground\":true,\"ticks\":\"\",\"zerolinecolor\":\"white\"},\"yaxis\":{\"backgroundcolor\":\"#E5ECF6\",\"gridcolor\":\"white\",\"gridwidth\":2,\"linecolor\":\"white\",\"showbackground\":true,\"ticks\":\"\",\"zerolinecolor\":\"white\"},\"zaxis\":{\"backgroundcolor\":\"#E5ECF6\",\"gridcolor\":\"white\",\"gridwidth\":2,\"linecolor\":\"white\",\"showbackground\":true,\"ticks\":\"\",\"zerolinecolor\":\"white\"}},\"shapedefaults\":{\"line\":{\"color\":\"#2a3f5f\"}},\"ternary\":{\"aaxis\":{\"gridcolor\":\"white\",\"linecolor\":\"white\",\"ticks\":\"\"},\"baxis\":{\"gridcolor\":\"white\",\"linecolor\":\"white\",\"ticks\":\"\"},\"bgcolor\":\"#E5ECF6\",\"caxis\":{\"gridcolor\":\"white\",\"linecolor\":\"white\",\"ticks\":\"\"}},\"title\":{\"x\":0.05},\"xaxis\":{\"automargin\":true,\"gridcolor\":\"white\",\"linecolor\":\"white\",\"ticks\":\"\",\"title\":{\"standoff\":15},\"zerolinecolor\":\"white\",\"zerolinewidth\":2},\"yaxis\":{\"automargin\":true,\"gridcolor\":\"white\",\"linecolor\":\"white\",\"ticks\":\"\",\"title\":{\"standoff\":15},\"zerolinecolor\":\"white\",\"zerolinewidth\":2}}},\"xaxis\":{\"anchor\":\"y\",\"domain\":[0.0,1.0],\"title\":{\"text\":\"Estado\"}},\"yaxis\":{\"anchor\":\"x\",\"domain\":[0.0,1.0],\"title\":{\"text\":\"Pre\\u00e7o\"}},\"legend\":{\"tracegroupgap\":0},\"margin\":{\"t\":60},\"barmode\":\"relative\"},                        {\"responsive\": true}                    )                };                            </script>        </div>\n",
       "</body>\n",
       "</html>"
      ]
     },
     "metadata": {
      "application/vnd.databricks.v1+output": {
       "addedWidgets": {},
       "arguments": {},
       "data": "<html>\n<head><meta charset=\"utf-8\" /></head>\n<body>\n    <div>            <script src=\"https://cdnjs.cloudflare.com/ajax/libs/mathjax/2.7.5/MathJax.js?config=TeX-AMS-MML_SVG\"></script><script type=\"text/javascript\">if (window.MathJax) {MathJax.Hub.Config({SVG: {font: \"STIX-Web\"}});}</script>                <script type=\"text/javascript\">window.PlotlyConfig = {MathJaxConfig: 'local'};</script>\n        <script src=\"https://cdn.plot.ly/plotly-2.9.0.min.js\"></script>                <div id=\"7c448ce0-bc41-4688-9eef-0092f3af0c65\" class=\"plotly-graph-div\" style=\"height:100%; width:100%;\"></div>            <script type=\"text/javascript\">                                    window.PLOTLYENV=window.PLOTLYENV || {};                                    if (document.getElementById(\"7c448ce0-bc41-4688-9eef-0092f3af0c65\")) {                    Plotly.newPlot(                        \"7c448ce0-bc41-4688-9eef-0092f3af0c65\",                        [{\"alignmentgroup\":\"True\",\"hovertemplate\":\"Estado=%{x}<br>Pre\\u00e7o=%{y}<extra></extra>\",\"legendgroup\":\"\",\"marker\":{\"color\":\"#636efa\",\"pattern\":{\"shape\":\"\"}},\"name\":\"\",\"offsetgroup\":\"\",\"orientation\":\"v\",\"showlegend\":false,\"textposition\":\"auto\",\"x\":[\"Santa Catarina\",\"Rio de Janeiro\",\"Sao Paulo\",\"Pernambuco\",\"Rio Grande do Sul\",\"Rio Grande do Norte\",\"Piau\\u00ed\",\"Sergipe\",\"Rondonia\",\"Tocantins\"],\"xaxis\":\"x\",\"y\":[725950.6643811688,718089.8548448143,682352.3591076828,676714.7786792453,556649.1957169897,515973.9095033114,491873.26999999996,454313.51220588235,355377.536,289457.01],\"yaxis\":\"y\",\"type\":\"bar\"}],                        {\"template\":{\"data\":{\"bar\":[{\"error_x\":{\"color\":\"#2a3f5f\"},\"error_y\":{\"color\":\"#2a3f5f\"},\"marker\":{\"line\":{\"color\":\"#E5ECF6\",\"width\":0.5},\"pattern\":{\"fillmode\":\"overlay\",\"size\":10,\"solidity\":0.2}},\"type\":\"bar\"}],\"barpolar\":[{\"marker\":{\"line\":{\"color\":\"#E5ECF6\",\"width\":0.5},\"pattern\":{\"fillmode\":\"overlay\",\"size\":10,\"solidity\":0.2}},\"type\":\"barpolar\"}],\"carpet\":[{\"aaxis\":{\"endlinecolor\":\"#2a3f5f\",\"gridcolor\":\"white\",\"linecolor\":\"white\",\"minorgridcolor\":\"white\",\"startlinecolor\":\"#2a3f5f\"},\"baxis\":{\"endlinecolor\":\"#2a3f5f\",\"gridcolor\":\"white\",\"linecolor\":\"white\",\"minorgridcolor\":\"white\",\"startlinecolor\":\"#2a3f5f\"},\"type\":\"carpet\"}],\"choropleth\":[{\"colorbar\":{\"outlinewidth\":0,\"ticks\":\"\"},\"type\":\"choropleth\"}],\"contour\":[{\"colorbar\":{\"outlinewidth\":0,\"ticks\":\"\"},\"colorscale\":[[0.0,\"#0d0887\"],[0.1111111111111111,\"#46039f\"],[0.2222222222222222,\"#7201a8\"],[0.3333333333333333,\"#9c179e\"],[0.4444444444444444,\"#bd3786\"],[0.5555555555555556,\"#d8576b\"],[0.6666666666666666,\"#ed7953\"],[0.7777777777777778,\"#fb9f3a\"],[0.8888888888888888,\"#fdca26\"],[1.0,\"#f0f921\"]],\"type\":\"contour\"}],\"contourcarpet\":[{\"colorbar\":{\"outlinewidth\":0,\"ticks\":\"\"},\"type\":\"contourcarpet\"}],\"heatmap\":[{\"colorbar\":{\"outlinewidth\":0,\"ticks\":\"\"},\"colorscale\":[[0.0,\"#0d0887\"],[0.1111111111111111,\"#46039f\"],[0.2222222222222222,\"#7201a8\"],[0.3333333333333333,\"#9c179e\"],[0.4444444444444444,\"#bd3786\"],[0.5555555555555556,\"#d8576b\"],[0.6666666666666666,\"#ed7953\"],[0.7777777777777778,\"#fb9f3a\"],[0.8888888888888888,\"#fdca26\"],[1.0,\"#f0f921\"]],\"type\":\"heatmap\"}],\"heatmapgl\":[{\"colorbar\":{\"outlinewidth\":0,\"ticks\":\"\"},\"colorscale\":[[0.0,\"#0d0887\"],[0.1111111111111111,\"#46039f\"],[0.2222222222222222,\"#7201a8\"],[0.3333333333333333,\"#9c179e\"],[0.4444444444444444,\"#bd3786\"],[0.5555555555555556,\"#d8576b\"],[0.6666666666666666,\"#ed7953\"],[0.7777777777777778,\"#fb9f3a\"],[0.8888888888888888,\"#fdca26\"],[1.0,\"#f0f921\"]],\"type\":\"heatmapgl\"}],\"histogram\":[{\"marker\":{\"pattern\":{\"fillmode\":\"overlay\",\"size\":10,\"solidity\":0.2}},\"type\":\"histogram\"}],\"histogram2d\":[{\"colorbar\":{\"outlinewidth\":0,\"ticks\":\"\"},\"colorscale\":[[0.0,\"#0d0887\"],[0.1111111111111111,\"#46039f\"],[0.2222222222222222,\"#7201a8\"],[0.3333333333333333,\"#9c179e\"],[0.4444444444444444,\"#bd3786\"],[0.5555555555555556,\"#d8576b\"],[0.6666666666666666,\"#ed7953\"],[0.7777777777777778,\"#fb9f3a\"],[0.8888888888888888,\"#fdca26\"],[1.0,\"#f0f921\"]],\"type\":\"histogram2d\"}],\"histogram2dcontour\":[{\"colorbar\":{\"outlinewidth\":0,\"ticks\":\"\"},\"colorscale\":[[0.0,\"#0d0887\"],[0.1111111111111111,\"#46039f\"],[0.2222222222222222,\"#7201a8\"],[0.3333333333333333,\"#9c179e\"],[0.4444444444444444,\"#bd3786\"],[0.5555555555555556,\"#d8576b\"],[0.6666666666666666,\"#ed7953\"],[0.7777777777777778,\"#fb9f3a\"],[0.8888888888888888,\"#fdca26\"],[1.0,\"#f0f921\"]],\"type\":\"histogram2dcontour\"}],\"mesh3d\":[{\"colorbar\":{\"outlinewidth\":0,\"ticks\":\"\"},\"type\":\"mesh3d\"}],\"parcoords\":[{\"line\":{\"colorbar\":{\"outlinewidth\":0,\"ticks\":\"\"}},\"type\":\"parcoords\"}],\"pie\":[{\"automargin\":true,\"type\":\"pie\"}],\"scatter\":[{\"marker\":{\"colorbar\":{\"outlinewidth\":0,\"ticks\":\"\"}},\"type\":\"scatter\"}],\"scatter3d\":[{\"line\":{\"colorbar\":{\"outlinewidth\":0,\"ticks\":\"\"}},\"marker\":{\"colorbar\":{\"outlinewidth\":0,\"ticks\":\"\"}},\"type\":\"scatter3d\"}],\"scattercarpet\":[{\"marker\":{\"colorbar\":{\"outlinewidth\":0,\"ticks\":\"\"}},\"type\":\"scattercarpet\"}],\"scattergeo\":[{\"marker\":{\"colorbar\":{\"outlinewidth\":0,\"ticks\":\"\"}},\"type\":\"scattergeo\"}],\"scattergl\":[{\"marker\":{\"colorbar\":{\"outlinewidth\":0,\"ticks\":\"\"}},\"type\":\"scattergl\"}],\"scattermapbox\":[{\"marker\":{\"colorbar\":{\"outlinewidth\":0,\"ticks\":\"\"}},\"type\":\"scattermapbox\"}],\"scatterpolar\":[{\"marker\":{\"colorbar\":{\"outlinewidth\":0,\"ticks\":\"\"}},\"type\":\"scatterpolar\"}],\"scatterpolargl\":[{\"marker\":{\"colorbar\":{\"outlinewidth\":0,\"ticks\":\"\"}},\"type\":\"scatterpolargl\"}],\"scatterternary\":[{\"marker\":{\"colorbar\":{\"outlinewidth\":0,\"ticks\":\"\"}},\"type\":\"scatterternary\"}],\"surface\":[{\"colorbar\":{\"outlinewidth\":0,\"ticks\":\"\"},\"colorscale\":[[0.0,\"#0d0887\"],[0.1111111111111111,\"#46039f\"],[0.2222222222222222,\"#7201a8\"],[0.3333333333333333,\"#9c179e\"],[0.4444444444444444,\"#bd3786\"],[0.5555555555555556,\"#d8576b\"],[0.6666666666666666,\"#ed7953\"],[0.7777777777777778,\"#fb9f3a\"],[0.8888888888888888,\"#fdca26\"],[1.0,\"#f0f921\"]],\"type\":\"surface\"}],\"table\":[{\"cells\":{\"fill\":{\"color\":\"#EBF0F8\"},\"line\":{\"color\":\"white\"}},\"header\":{\"fill\":{\"color\":\"#C8D4E3\"},\"line\":{\"color\":\"white\"}},\"type\":\"table\"}]},\"layout\":{\"annotationdefaults\":{\"arrowcolor\":\"#2a3f5f\",\"arrowhead\":0,\"arrowwidth\":1},\"autotypenumbers\":\"strict\",\"coloraxis\":{\"colorbar\":{\"outlinewidth\":0,\"ticks\":\"\"}},\"colorscale\":{\"diverging\":[[0,\"#8e0152\"],[0.1,\"#c51b7d\"],[0.2,\"#de77ae\"],[0.3,\"#f1b6da\"],[0.4,\"#fde0ef\"],[0.5,\"#f7f7f7\"],[0.6,\"#e6f5d0\"],[0.7,\"#b8e186\"],[0.8,\"#7fbc41\"],[0.9,\"#4d9221\"],[1,\"#276419\"]],\"sequential\":[[0.0,\"#0d0887\"],[0.1111111111111111,\"#46039f\"],[0.2222222222222222,\"#7201a8\"],[0.3333333333333333,\"#9c179e\"],[0.4444444444444444,\"#bd3786\"],[0.5555555555555556,\"#d8576b\"],[0.6666666666666666,\"#ed7953\"],[0.7777777777777778,\"#fb9f3a\"],[0.8888888888888888,\"#fdca26\"],[1.0,\"#f0f921\"]],\"sequentialminus\":[[0.0,\"#0d0887\"],[0.1111111111111111,\"#46039f\"],[0.2222222222222222,\"#7201a8\"],[0.3333333333333333,\"#9c179e\"],[0.4444444444444444,\"#bd3786\"],[0.5555555555555556,\"#d8576b\"],[0.6666666666666666,\"#ed7953\"],[0.7777777777777778,\"#fb9f3a\"],[0.8888888888888888,\"#fdca26\"],[1.0,\"#f0f921\"]]},\"colorway\":[\"#636efa\",\"#EF553B\",\"#00cc96\",\"#ab63fa\",\"#FFA15A\",\"#19d3f3\",\"#FF6692\",\"#B6E880\",\"#FF97FF\",\"#FECB52\"],\"font\":{\"color\":\"#2a3f5f\"},\"geo\":{\"bgcolor\":\"white\",\"lakecolor\":\"white\",\"landcolor\":\"#E5ECF6\",\"showlakes\":true,\"showland\":true,\"subunitcolor\":\"white\"},\"hoverlabel\":{\"align\":\"left\"},\"hovermode\":\"closest\",\"mapbox\":{\"style\":\"light\"},\"paper_bgcolor\":\"white\",\"plot_bgcolor\":\"#E5ECF6\",\"polar\":{\"angularaxis\":{\"gridcolor\":\"white\",\"linecolor\":\"white\",\"ticks\":\"\"},\"bgcolor\":\"#E5ECF6\",\"radialaxis\":{\"gridcolor\":\"white\",\"linecolor\":\"white\",\"ticks\":\"\"}},\"scene\":{\"xaxis\":{\"backgroundcolor\":\"#E5ECF6\",\"gridcolor\":\"white\",\"gridwidth\":2,\"linecolor\":\"white\",\"showbackground\":true,\"ticks\":\"\",\"zerolinecolor\":\"white\"},\"yaxis\":{\"backgroundcolor\":\"#E5ECF6\",\"gridcolor\":\"white\",\"gridwidth\":2,\"linecolor\":\"white\",\"showbackground\":true,\"ticks\":\"\",\"zerolinecolor\":\"white\"},\"zaxis\":{\"backgroundcolor\":\"#E5ECF6\",\"gridcolor\":\"white\",\"gridwidth\":2,\"linecolor\":\"white\",\"showbackground\":true,\"ticks\":\"\",\"zerolinecolor\":\"white\"}},\"shapedefaults\":{\"line\":{\"color\":\"#2a3f5f\"}},\"ternary\":{\"aaxis\":{\"gridcolor\":\"white\",\"linecolor\":\"white\",\"ticks\":\"\"},\"baxis\":{\"gridcolor\":\"white\",\"linecolor\":\"white\",\"ticks\":\"\"},\"bgcolor\":\"#E5ECF6\",\"caxis\":{\"gridcolor\":\"white\",\"linecolor\":\"white\",\"ticks\":\"\"}},\"title\":{\"x\":0.05},\"xaxis\":{\"automargin\":true,\"gridcolor\":\"white\",\"linecolor\":\"white\",\"ticks\":\"\",\"title\":{\"standoff\":15},\"zerolinecolor\":\"white\",\"zerolinewidth\":2},\"yaxis\":{\"automargin\":true,\"gridcolor\":\"white\",\"linecolor\":\"white\",\"ticks\":\"\",\"title\":{\"standoff\":15},\"zerolinecolor\":\"white\",\"zerolinewidth\":2}}},\"xaxis\":{\"anchor\":\"y\",\"domain\":[0.0,1.0],\"title\":{\"text\":\"Estado\"}},\"yaxis\":{\"anchor\":\"x\",\"domain\":[0.0,1.0],\"title\":{\"text\":\"Pre\\u00e7o\"}},\"legend\":{\"tracegroupgap\":0},\"margin\":{\"t\":60},\"barmode\":\"relative\"},                        {\"responsive\": true}                    )                };                            </script>        </div>\n</body>\n</html>",
       "datasetInfos": [],
       "metadata": {},
       "removedWidgets": [],
       "textData": null,
       "type": "htmlSandbox"
      }
     },
     "output_type": "display_data"
    }
   ],
   "source": [
    "df_preço_medio.plot.bar(x='Estado',y='Preço')"
   ]
  },
  {
   "cell_type": "markdown",
   "metadata": {
    "application/vnd.databricks.v1+cell": {
     "cellMetadata": {
      "byteLimit": 2048000,
      "rowLimit": 10000
     },
     "inputWidgets": {},
     "nuid": "aabadb0e-1515-4f2b-867d-e91489e67755",
     "showTitle": false,
     "title": ""
    }
   },
   "source": [
    "# Pergunta: O quão importantes é o tamanho do imóvel na precificação de imóveis? Vamos visualizar essa correlação com um gráfico de dispersão.\n",
    "Podemos observar que os dados são bastante relacionados, demonstrando que o preço aumenta de acordo com o tamanho do imóvel."
   ]
  },
  {
   "cell_type": "markdown",
   "metadata": {
    "application/vnd.databricks.v1+cell": {
     "cellMetadata": {},
     "inputWidgets": {},
     "nuid": "c10d356e-7a44-4508-9bff-ca2a5077cf7f",
     "showTitle": false,
     "title": ""
    }
   },
   "source": [
    "Visualização da correlação entre o preço e o tamanho do imóvel (metro quadrado)"
   ]
  },
  {
   "cell_type": "code",
   "execution_count": null,
   "metadata": {
    "application/vnd.databricks.v1+cell": {
     "cellMetadata": {
      "byteLimit": 2048000,
      "rowLimit": 10000
     },
     "inputWidgets": {},
     "nuid": "39a261f3-2297-427b-b160-eaa3829fa86b",
     "showTitle": false,
     "title": ""
    }
   },
   "outputs": [
    {
     "data": {
      "text/html": [
       "<html>\n",
       "<head><meta charset=\"utf-8\" /></head>\n",
       "<body>\n",
       "    <div>            <script src=\"https://cdnjs.cloudflare.com/ajax/libs/mathjax/2.7.5/MathJax.js?config=TeX-AMS-MML_SVG\"></script><script type=\"text/javascript\">if (window.MathJax) {MathJax.Hub.Config({SVG: {font: \"STIX-Web\"}});}</script>                <script type=\"text/javascript\">window.PlotlyConfig = {MathJaxConfig: 'local'};</script>\n",
       "        <script src=\"https://cdn.plot.ly/plotly-2.9.0.min.js\"></script>                <div id=\"fc5086ee-759a-499c-a079-e9d01fb4e40a\" class=\"plotly-graph-div\" style=\"height:100%; width:100%;\"></div>            <script type=\"text/javascript\">                                    window.PLOTLYENV=window.PLOTLYENV || {};                                    if (document.getElementById(\"fc5086ee-759a-499c-a079-e9d01fb4e40a\")) {                    Plotly.newPlot(                        \"fc5086ee-759a-499c-a079-e9d01fb4e40a\",                        [{\"hovertemplate\":\"Pre\\u00e7o=%{x}<br>Metro quadrado=%{y}<extra></extra>\",\"legendgroup\":\"\",\"marker\":{\"color\":\"#636efa\",\"symbol\":\"circle\"},\"mode\":\"markers\",\"name\":\"\",\"orientation\":\"v\",\"showlegend\":false,\"x\":[414222.98,848408.53,299438.28,848408.53,464129.36,294447.66,314410.19,419213.6,449157.45,548970.21,369307.22,998127.67,848408.53,339363.39,369307.22,359325.95,389269.77,329382.13,399251.07,479101.27,289457.01,379288.51,568932.77,349344.66,394260.42,379288.51,1522144.71,598876.59,908296.17,958202.55,778539.59,718651.91,938240.02,369307.22,309419.57,1497191.5,389269.77,873361.7,918277.46,798502.15,828445.97,798502.15,1497191.5,1247659.6,239550.63,998127.67,988146.4,638801.71,1048034.05,598876.59,379288.51,449157.45,578914.03,529007.65,808483.41,798502.15,359325.95,369307.22,998127.67,1597004.3,1097940.43,299438.28,1096942.3,439176.16,474110.62,1447285.12,743605.12,758577.03,1048034.05,439176.16,848408.53,429194.89,678726.79,558951.47,1097940.43,588895.33,748595.73,948221.29,279475.72,279475.72,1349987.64,364316.6,449157.45,598876.59,319400.84,299438.28,359325.95,239550.63,648782.97,399251.07,738614.47,1497191.5,698689.35,698689.35,748595.73,731015.72,1616966.85,798502.15,748595.73,648782.97,466125.61,369307.22,898314.91,349344.66,807676.27,858389.79,798502.15,399251.07,865070.26,299438.28,598876.59,409232.33,389269.77,439176.16,469120.01,848408.53,399251.07,359325.95,1147846.81,848408.53,948221.29,1077977.9,367310.97,836430.98,778539.59,598876.59,348346.53,598876.59,568932.77,474509.81,312974.53,636045.06,610805.16,686524.82,254522.54,1110554.87,1144881.1,989403.42,424030.02,648782.97,1116829.6,588895.33,349344.66,489082.54,578914.03,364316.6,678726.79,798502.15,529007.65,747100.55,908635.8,1177790.66,848408.53,1597004.3,379288.51,1211514.4,686524.82,832916.14,1377416.18,259513.19,339224.03,465423.45,421001.23,340233.61,959115.56,302878.6,747100.55,648782.97,698689.35,409232.33,1097940.43,349344.66,818464.67,748595.73,1097940.43,1048034.05,489082.54,798502.15,848408.53,678726.79,1297565.98,678726.79,364316.6,529007.65,299438.28,299438.28,339363.39,848408.53,638801.71,529007.65,357931.56,918277.46,424204.24,538988.95,878352.35,469120.01,648782.97,519026.39,449157.45,299438.28,788520.85,828445.97,309419.57,819240.24,479101.27,768558.29,378290.39,648782.97,479101.27,548970.21,578914.03,359325.95,449157.45,369307.22,399251.07,399251.07,419213.6,1161034.64,474110.62,757196.48,302878.6,688708.09,728633.21,424204.24,529007.65,449157.45,265965.09,1347472.36,339363.39,339363.39,998127.67,404241.69,1397378.74,1247659.6,658764.27,1593547.76,923268.08,399251.07,628820.41,399251.07,399251.07,698689.35,1147846.81,379288.51,444166.8,648782.97,1048034.05,828445.97,359325.95,1147846.81,618839.15,369307.22,494073.18,898314.91,1097940.43,548970.21,384279.13,519026.39,394260.42,643792.32,698689.35,648782.97,1197753.22,848408.53,648782.97,1058318.76,259513.19,374297.86,1197753.22,1247659.6,673736.18,1114908.62,648782.97,733623.82,349344.66,1097940.43,1197753.22,348346.53,499063.83,631315.74,529007.65,848408.53,1167809.37,499063.83,444166.8,978165.11,588873.77,784029.28,808483.41,768558.29,299438.28,394260.42,499063.83,918277.46,1197753.22,548970.21,553960.86,748595.73,667747.41,898314.91,978165.11,898314.91,384279.13,1097940.43,424204.24,329382.13,364316.6,948221.29,698689.35,1277603.42,738614.47,628820.41,718651.91,648782.97,289457.01,688708.09,1397378.74,1197753.22,607959.56,622432.39,486179.01,319400.84,249531.9,297830.6,329382.13,748595.73,242774.57,988146.4,534986.44,339353.41,308421.45,318392.73,398252.92,276629.09,616862.74,291268.25,625949.09,757196.48,449157.45,419213.6,1097940.43,479101.27,374297.86,259513.19,374297.86,998127.67,848408.53,364316.6,918277.46,848408.53,678726.79,387273.53,508046.97,451153.7,529007.65,299438.28,458862.23,558302.7,749593.89,319400.84,578914.03,309419.57,289457.01,259513.19,269494.46,319400.84,339363.39,259513.19,524888.59,668745.53,459138.71,449157.45,628820.41,369307.22,399251.07,362694.08,240982.33,406030.95,384279.13,249531.9,379288.51,353358.36,359325.95,449157.45,678726.79,314410.19,648782.97,499063.83,258515.04,399250.05,458140.59,379288.51,678726.79,548970.21,249531.9,656236.96,272590.73,302878.6,242302.87,598876.59,548970.21,908635.8,437179.91,848408.53,605757.2,434125.98,1009595.32,449157.45,737004.58,656236.96,302878.6,748595.73,399251.07,249531.9,424030.02,590937.09,456884.82,529007.65,333166.46,1010360.71,272590.73,454317.88,748595.73,484605.74,277638.7,333166.46,284261.11,283242.26,282223.41,280185.68,272034.82,271015.97,269997.12,268978.27,267959.38,266940.53,265921.68,285279.96,283242.26,279166.83,280185.68,279166.83,271015.97,267959.38,266940.53,284261.11,283242.26,282223.41,271015.97,268978.27,267959.38,299438.28,598876.59,807676.27,706716.72,757196.48,555277.43,959115.56,761474.7,282686.67,656236.96,737004.58,588873.77,449157.45,548970.21,252398.8,1297565.98,329382.13,1447285.12,363454.32,1597004.3,272590.73,323070.49,484605.74,898314.91,706716.72,474110.62,289457.01,469120.01,282686.67,268978.27,269997.12,304589.88,449157.45,454317.88,620901.13,706716.72,319400.84,988146.4,424030.02,287460.77,374297.86,249531.9,1097940.43,448159.33,748595.73,309419.57,547972.09,560947.75,1197753.22,1297565.98,1345476.12,405239.81,708670.65,618839.15,829444.09,239550.63,648782.97,438178.03,678726.79,726908.65,948221.29,353358.36,479101.27,1302377.99,353358.36,598876.59,284283.89,1397378.74,1397378.74,1397378.74,1414505.01,242302.87,359325.95,533998.3,364316.6,319400.84,353358.36,299438.28,429194.89,449157.45,247350.84,454317.88,379288.51,439176.16,648782.97,578914.03,1362953.71,274130.89,282686.67,548970.21,748595.73,424030.02,469120.01,608164.46,898314.91,479101.27,329382.13,585565.3,555277.43,399251.07,393742.15,294447.66,353358.36,578914.03,272590.73,282686.67,319400.84,252398.8,287734.66,908635.8,571430.94,414222.98,572440.55,449157.45,299519.14,302878.6,369307.22,284466.37,264503.81,438770.13,568932.77,365507.86,333166.46,1397378.74,319400.84,252398.8,289457.01,399251.07,433014.24,449157.45,429194.89,545181.47,1222619.94,1162044.24,1141852.31,419213.6,302878.6,499063.83,648782.97,363454.32,379288.51,598876.59,242302.87,585565.3,1261994.16,298440.15,547972.09,449157.45,798502.15,424204.24,697691.23,403838.12,848408.53,254714.27,333166.46,778539.59,403838.12,570421.37,757196.48,334372.75,299438.28,866028.53,648782.97,304589.88,718651.91,1048034.05,858806.6,249531.9,349344.66,497496.8,272590.73,555277.43,698689.35,568932.77,1097940.43,668745.53,259513.19,347348.41,459138.71,349344.66,369307.22,249531.9,279475.72,399251.07,299438.28,239550.63,918277.46,269494.46,249531.9,988146.4,269494.46,748595.73,697691.23,369307.22,393742.15,590613.26,818464.67,242302.87,757196.48,374559.86,1595160.62,628819.42,252398.8,434125.98,383646.22,562944.0,287460.77,332661.66,504797.64,348310.39,848408.53,625949.09,856136.82,484605.74,281677.09,1413433.48,302878.6,429078.02,960247.73,588895.33,524989.57,264503.81,353358.36,1009595.32,242545.0,751825.46,424030.02,429194.89,1197753.22,302878.6,519026.39,434125.98,444649.89,429078.02,319400.84,353358.36,988146.4,634809.18,469461.81,777541.46,489653.71,748595.73,239550.63,323070.49,636045.06,540943.26,284466.37,267542.73,302878.6,552753.1,323070.49,722644.44,648782.97,284466.37,300859.38,837964.14,706716.72,418982.05,252398.8,585565.3,256437.19,323070.49,827868.17,768558.29,733623.82,329382.13,444221.95,353358.36,434125.98,522145.15,302878.6,264503.81,735320.65,540985.19,696620.79,262494.77,959115.56,598876.59,349344.66,762244.48,383646.22,605757.2,1413433.48,454317.88,300859.38,378290.39,898539.83,454317.88,378290.39,555277.43,282686.67,289753.84,888333.61,444221.95,413833.1,328588.59,429194.89,898539.83,484605.74,642102.63,906616.62,424204.24,359325.95,535304.83,535085.5,333166.46,791515.25,565373.37,263504.37,282686.67,379288.51,757196.48,642102.63,429194.89,920750.94,474110.62,428196.77,590613.26,333166.46,271581.13,339995.34,388694.19,424534.82,363454.32,241546.88,730664.32,605757.2,648782.97,403838.12,343262.39,529007.65,537104.72,378598.22,383646.22,585565.3,379288.51,404241.69,424030.02,563942.12,373550.26,666332.92,898314.91,668745.53,797580.31,763567.68,1097940.43,698689.35,548970.21,428068.41,518555.43,444221.95,374297.86,389269.77,686524.82,434185.54,277638.7,1177790.66,279475.72,535085.5,348145.82,330137.67,318022.53,822162.73,388694.19,337204.82,424030.02,628820.41,353358.36,423206.12,464413.85,656236.96,568720.16,363454.32,1110554.87,479101.27,454317.88,578914.03,1331678.99,778539.59,299438.28,263504.37,444221.95,538988.95,493692.1,247350.84,323070.49,796505.87,479101.27,272590.73,376579.04,393742.15,277638.7,644121.81,600709.23,1504297.06,638801.71,434125.98,312974.53,852401.02,279475.72,292782.63,646140.99,717356.86,687517.31,242302.87,494701.71,499063.83,561335.01,548970.21,998127.67,1247659.6,373550.26,279475.72,349344.66,269494.46,565373.37,575469.33,349344.66,302878.6,252398.8,489082.54,251389.23,681476.85,504797.64,254522.54,449157.45,272590.73,302878.6,494701.71,388271.65,1317521.92,333166.46,656236.96,620835.4,494701.71,249531.9,484605.74,449157.45,376432.64,272590.73,329382.13,424030.02,1147846.81,959115.56,509845.64,399251.07,374297.86,388557.89,676428.86,685713.69,524989.57,588895.33,454317.88,1514393.0,1247659.6,403838.12,332156.85,614288.44,444221.95,398790.15,451153.7,287734.66,291773.02,898314.91,344272.0,868371.08,1297565.98,1221610.36,272590.73,267542.73,1380921.47,419113.8,628820.41,494701.71,320041.71,258456.37,292782.63,297830.6,277638.7,472490.6,479557.78,560325.4,269494.46,312974.53,378598.22,454317.88,454317.88,312974.53,381284.76,252398.8,738614.47,249531.9,449157.45,538988.95,1272612.78,363454.32,1426558.23,393742.15,585565.3,588895.33,793511.5,1110554.87,757196.48,312974.53,868251.97,529007.65,530037.54,298440.15,318022.53,497067.58,353358.36,959115.56,403838.12,948221.29,321051.31,698639.97,778539.59,269494.46,449157.45,578914.03,472490.6,418982.05,573923.39,1261994.16,480567.38,352348.75,323070.49,494073.18,757196.48,323070.49,349344.66,588594.08,434185.54,383646.22,1487210.24,302878.6,555277.43,398790.15,358406.32,663125.08,802628.28,269494.46,818464.67,978165.11,548970.21,374297.86,489653.71,948221.29,254522.54],\"xaxis\":\"x\",\"y\":[72,136,75,187,80,94,80,54,63,105,88,167,170,64,81,72,83,63,73,88,109,80,104,73,69,90,183,98,130,128,130,100,128,55,60,182,55,133,113,123,105,180,160,160,55,240,155,117,238,167,71,61,160,82,210,175,62,62,150,240,204,78,149,80,79,238,128,129,129,67,135,70,134,105,200,148,238,140,58,118,203,53,75,101,58,94,64,64,148,94,128,216,135,130,145,112,200,108,86,135,60,75,180,93,110,175,170,67,119,54,100,73,73,66,145,167,75,55,155,200,140,190,65,109,102,165,65,95,86,74,63,125,110,120,64,158,156,123,63,250,240,130,120,103,82,100,170,140,108,142,170,203,140,250,65,163,89,113,203,75,58,68,66,56,140,62,127,131,96,75,150,140,105,94,128,128,90,230,122,106,204,91,64,122,93,87,110,147,104,86,62,143,60,94,176,103,106,117,55,120,125,115,68,125,82,148,57,113,80,85,96,82,98,68,83,79,80,176,136,92,65,189,112,87,86,79,55,203,64,67,175,65,189,226,179,209,155,55,86,56,56,105,235,71,55,135,85,140,85,183,166,66,82,107,153,87,120,98,66,134,132,230,158,185,108,162,74,215,128,170,168,134,170,180,100,160,172,65,98,104,132,129,172,229,66,155,108,106,157,113,58,65,91,113,167,90,87,114,102,141,157,158,58,200,90,69,59,136,150,198,102,180,111,170,75,106,204,208,108,103,100,60,76,100,72,236,70,162,115,79,74,78,115,76,130,75,108,205,180,60,141,77,92,64,87,214,150,56,166,142,141,81,119,86,101,89,99,91,136,67,180,83,77,77,68,98,58,53,119,195,152,154,198,146,61,117,69,81,160,55,200,205,190,166,215,67,160,97,75,78,86,91,219,125,56,128,53,89,55,240,118,250,79,210,250,91,206,152,136,123,60,200,154,250,96,98,151,152,86,237,75,107,191,158,74,87,75,75,75,75,75,75,75,75,75,75,75,75,75,75,75,75,75,75,75,75,75,75,75,75,75,200,98,193,142,194,250,200,201,75,137,123,107,104,110,139,170,109,196,105,153,129,136,90,193,223,122,92,97,70,75,75,84,105,92,151,242,60,139,96,70,69,74,228,79,160,83,98,124,187,208,215,150,123,117,136,56,124,85,112,245,230,95,85,186,200,250,64,208,208,208,208,83,160,250,111,93,83,180,200,186,57,148,185,93,217,109,208,66,56,85,123,161,79,192,180,108,150,235,144,106,102,60,116,119,96,84,93,91,92,214,86,83,86,85,173,200,100,70,53,81,219,57,90,196,74,56,77,85,82,119,170,107,164,164,166,92,84,98,238,208,184,150,54,70,188,57,240,56,236,102,231,83,164,83,86,239,95,101,187,180,106,217,191,250,160,184,180,56,176,107,165,200,97,130,149,150,57,103,182,100,138,69,54,92,56,55,160,54,56,138,158,220,191,188,65,142,151,68,149,84,221,76,57,86,130,164,73,66,65,54,170,98,181,91,120,182,116,94,103,80,155,67,73,126,67,181,178,68,201,71,119,75,66,76,56,136,106,110,109,226,239,112,92,58,100,102,83,124,103,66,68,112,96,69,74,248,168,66,60,125,65,134,85,128,90,72,129,72,120,87,92,92,175,69,217,54,166,158,119,224,91,181,237,151,85,155,122,227,78,97,68,64,146,60,63,59,108,131,108,118,147,94,66,148,170,54,87,73,60,59,69,80,139,149,205,68,161,140,84,119,66,87,121,77,61,129,173,153,174,78,68,87,74,115,119,53,65,134,239,126,91,110,120,145,169,101,209,73,71,80,199,79,118,93,126,64,109,53,151,60,72,97,104,105,103,124,94,110,55,97,140,149,66,172,73,144,199,119,210,250,60,74,67,86,56,73,162,135,75,65,74,54,172,81,153,189,97,84,197,72,105,183,91,123,58,60,92,122,83,229,165,55,58,99,66,76,88,76,90,69,76,57,159,163,61,70,66,131,68,69,151,70,152,70,85,75,101,65,66,66,79,77,238,232,72,95,120,60,102,73,75,148,151,105,116,170,69,184,94,124,71,100,108,194,134,93,136,143,55,66,115,71,139,130,80,61,83,79,103,67,68,101,146,65,90,60,133,80,121,70,84,124,98,87,200,160,226,89,173,154,240,161,210,69,250,93,126,59,66,72,102,156,90,200,234,121,134,67,102,100,109,178,113,162,60,73,71,95,100,85,93,118,58,143,248,88,81,80,162,130,137,68,209,126,91,66,131,114,54],\"yaxis\":\"y\",\"type\":\"scatter\"},{\"hovertemplate\":\"<b>OLS trendline</b><br>Metro quadrado = 0.000108295 * Pre\\u00e7o + 56.2739<br>R<sup>2</sup>=0.392120<br><br>Pre\\u00e7o=%{x}<br>Metro quadrado=%{y} <b>(trend)</b><extra></extra>\",\"legendgroup\":\"\",\"line\":{\"color\":\"red\"},\"marker\":{\"color\":\"#636efa\",\"symbol\":\"circle\"},\"mode\":\"lines\",\"name\":\"\",\"showlegend\":false,\"x\":[239550.63,239550.63,239550.63,239550.63,239550.63,240982.33,241546.88,242302.87,242302.87,242302.87,242302.87,242302.87,242545.0,242774.57,247350.84,247350.84,249531.9,249531.9,249531.9,249531.9,249531.9,249531.9,249531.9,249531.9,249531.9,249531.9,251389.23,252398.8,252398.8,252398.8,252398.8,252398.8,252398.8,252398.8,254522.54,254522.54,254522.54,254714.27,256437.19,258456.37,258515.04,259513.19,259513.19,259513.19,259513.19,259513.19,259513.19,262494.77,263504.37,263504.37,264503.81,264503.81,264503.81,265921.68,265965.09,266940.53,266940.53,267542.73,267542.73,267959.38,267959.38,267959.38,268978.27,268978.27,268978.27,269494.46,269494.46,269494.46,269494.46,269494.46,269494.46,269494.46,269997.12,269997.12,271015.97,271015.97,271015.97,271581.13,272034.82,272590.73,272590.73,272590.73,272590.73,272590.73,272590.73,272590.73,272590.73,272590.73,274130.89,276629.09,277638.7,277638.7,277638.7,277638.7,279166.83,279166.83,279475.72,279475.72,279475.72,279475.72,279475.72,279475.72,280185.68,280185.68,281677.09,282223.41,282223.41,282686.67,282686.67,282686.67,282686.67,282686.67,282686.67,283242.26,283242.26,283242.26,284261.11,284261.11,284283.89,284466.37,284466.37,284466.37,285279.96,287460.77,287460.77,287734.66,287734.66,289457.01,289457.01,289457.01,289457.01,289457.01,289753.84,291268.25,291773.02,292782.63,292782.63,294447.66,294447.66,297830.6,297830.6,298440.15,298440.15,299438.28,299438.28,299438.28,299438.28,299438.28,299438.28,299438.28,299438.28,299438.28,299438.28,299438.28,299438.28,299438.28,299438.28,299519.14,300859.38,300859.38,302878.6,302878.6,302878.6,302878.6,302878.6,302878.6,302878.6,302878.6,302878.6,302878.6,302878.6,302878.6,302878.6,304589.88,304589.88,308421.45,309419.57,309419.57,309419.57,309419.57,312974.53,312974.53,312974.53,312974.53,312974.53,314410.19,314410.19,318022.53,318022.53,318392.73,319400.84,319400.84,319400.84,319400.84,319400.84,319400.84,319400.84,319400.84,319400.84,320041.71,321051.31,323070.49,323070.49,323070.49,323070.49,323070.49,323070.49,323070.49,328588.59,329382.13,329382.13,329382.13,329382.13,329382.13,329382.13,329382.13,330137.67,332156.85,332661.66,333166.46,333166.46,333166.46,333166.46,333166.46,333166.46,333166.46,334372.75,337204.82,339224.03,339353.41,339363.39,339363.39,339363.39,339363.39,339363.39,339995.34,340233.61,343262.39,344272.0,347348.41,348145.82,348310.39,348346.53,348346.53,349344.66,349344.66,349344.66,349344.66,349344.66,349344.66,349344.66,349344.66,349344.66,349344.66,349344.66,352348.75,353358.36,353358.36,353358.36,353358.36,353358.36,353358.36,353358.36,353358.36,353358.36,353358.36,357931.56,358406.32,359325.95,359325.95,359325.95,359325.95,359325.95,359325.95,359325.95,359325.95,359325.95,362694.08,363454.32,363454.32,363454.32,363454.32,363454.32,364316.6,364316.6,364316.6,364316.6,364316.6,364316.6,365507.86,367310.97,369307.22,369307.22,369307.22,369307.22,369307.22,369307.22,369307.22,369307.22,369307.22,369307.22,369307.22,373550.26,373550.26,374297.86,374297.86,374297.86,374297.86,374297.86,374297.86,374297.86,374559.86,376432.64,376579.04,378290.39,378290.39,378290.39,378598.22,378598.22,379288.51,379288.51,379288.51,379288.51,379288.51,379288.51,379288.51,379288.51,379288.51,379288.51,379288.51,381284.76,383646.22,383646.22,383646.22,383646.22,384279.13,384279.13,384279.13,387273.53,388271.65,388557.89,388694.19,388694.19,389269.77,389269.77,389269.77,389269.77,393742.15,393742.15,393742.15,393742.15,394260.42,394260.42,394260.42,398252.92,398790.15,398790.15,399250.05,399251.07,399251.07,399251.07,399251.07,399251.07,399251.07,399251.07,399251.07,399251.07,399251.07,399251.07,399251.07,399251.07,399251.07,399251.07,403838.12,403838.12,403838.12,403838.12,403838.12,404241.69,404241.69,405239.81,406030.95,409232.33,409232.33,413833.1,414222.98,414222.98,418982.05,418982.05,419113.8,419213.6,419213.6,419213.6,419213.6,421001.23,423206.12,424030.02,424030.02,424030.02,424030.02,424030.02,424030.02,424030.02,424030.02,424204.24,424204.24,424204.24,424204.24,424204.24,424534.82,428068.41,428196.77,429078.02,429078.02,429194.89,429194.89,429194.89,429194.89,429194.89,429194.89,433014.24,434125.98,434125.98,434125.98,434125.98,434125.98,434185.54,434185.54,437179.91,438178.03,438770.13,439176.16,439176.16,439176.16,439176.16,444166.8,444166.8,444221.95,444221.95,444221.95,444221.95,444221.95,444649.89,448159.33,449157.45,449157.45,449157.45,449157.45,449157.45,449157.45,449157.45,449157.45,449157.45,449157.45,449157.45,449157.45,449157.45,449157.45,449157.45,449157.45,449157.45,449157.45,449157.45,449157.45,451153.7,451153.7,454317.88,454317.88,454317.88,454317.88,454317.88,454317.88,454317.88,454317.88,454317.88,456884.82,458140.59,458862.23,459138.71,459138.71,464129.36,464413.85,465423.45,466125.61,469120.01,469120.01,469120.01,469120.01,469461.81,472490.6,472490.6,474110.62,474110.62,474110.62,474110.62,474509.81,479101.27,479101.27,479101.27,479101.27,479101.27,479101.27,479101.27,479101.27,479557.78,480567.38,484605.74,484605.74,484605.74,484605.74,484605.74,486179.01,489082.54,489082.54,489082.54,489653.71,489653.71,493692.1,494073.18,494073.18,494701.71,494701.71,494701.71,494701.71,497067.58,497496.8,499063.83,499063.83,499063.83,499063.83,499063.83,499063.83,504797.64,504797.64,508046.97,509845.64,518555.43,519026.39,519026.39,519026.39,522145.15,524888.59,524989.57,524989.57,529007.65,529007.65,529007.65,529007.65,529007.65,529007.65,529007.65,529007.65,529007.65,529007.65,530037.54,533998.3,534986.44,535085.5,535085.5,535304.83,537104.72,538988.95,538988.95,538988.95,540943.26,540985.19,545181.47,547972.09,547972.09,548970.21,548970.21,548970.21,548970.21,548970.21,548970.21,548970.21,548970.21,548970.21,548970.21,548970.21,552753.1,553960.86,555277.43,555277.43,555277.43,555277.43,555277.43,558302.7,558951.47,560325.4,560947.75,561335.01,562944.0,563942.12,565373.37,565373.37,568720.16,568932.77,568932.77,568932.77,568932.77,570421.37,571430.94,572440.55,573923.39,575469.33,578914.03,578914.03,578914.03,578914.03,578914.03,578914.03,578914.03,578914.03,585565.3,585565.3,585565.3,585565.3,585565.3,588594.08,588873.77,588873.77,588895.33,588895.33,588895.33,588895.33,588895.33,590613.26,590613.26,590937.09,598876.59,598876.59,598876.59,598876.59,598876.59,598876.59,598876.59,598876.59,598876.59,598876.59,598876.59,600709.23,605757.2,605757.2,605757.2,607959.56,608164.46,610805.16,614288.44,616862.74,618839.15,618839.15,620835.4,620901.13,622432.39,625949.09,625949.09,628819.42,628820.41,628820.41,628820.41,628820.41,628820.41,631315.74,634809.18,636045.06,636045.06,638801.71,638801.71,638801.71,642102.63,642102.63,643792.32,644121.81,646140.99,648782.97,648782.97,648782.97,648782.97,648782.97,648782.97,648782.97,648782.97,648782.97,648782.97,648782.97,648782.97,648782.97,648782.97,648782.97,648782.97,648782.97,648782.97,656236.96,656236.96,656236.96,656236.96,656236.96,658764.27,663125.08,666332.92,667747.41,668745.53,668745.53,668745.53,673736.18,676428.86,678726.79,678726.79,678726.79,678726.79,678726.79,678726.79,678726.79,678726.79,681476.85,685713.69,686524.82,686524.82,686524.82,687517.31,688708.09,688708.09,696620.79,697691.23,697691.23,698639.97,698689.35,698689.35,698689.35,698689.35,698689.35,698689.35,698689.35,698689.35,706716.72,706716.72,706716.72,706716.72,708670.65,717356.86,718651.91,718651.91,718651.91,722644.44,726908.65,728633.21,730664.32,731015.72,733623.82,733623.82,735320.65,737004.58,737004.58,738614.47,738614.47,738614.47,743605.12,747100.55,747100.55,748595.73,748595.73,748595.73,748595.73,748595.73,748595.73,748595.73,748595.73,748595.73,748595.73,748595.73,748595.73,749593.89,751825.46,757196.48,757196.48,757196.48,757196.48,757196.48,757196.48,757196.48,757196.48,758577.03,761474.7,762244.48,763567.68,768558.29,768558.29,768558.29,777541.46,778539.59,778539.59,778539.59,778539.59,778539.59,784029.28,788520.85,791515.25,793511.5,796505.87,797580.31,798502.15,798502.15,798502.15,798502.15,798502.15,798502.15,798502.15,798502.15,802628.28,807676.27,807676.27,808483.41,808483.41,818464.67,818464.67,818464.67,819240.24,822162.73,827868.17,828445.97,828445.97,828445.97,829444.09,832916.14,836430.98,837964.14,848408.53,848408.53,848408.53,848408.53,848408.53,848408.53,848408.53,848408.53,848408.53,848408.53,848408.53,848408.53,848408.53,848408.53,848408.53,848408.53,852401.02,856136.82,858389.79,858806.6,865070.26,866028.53,868251.97,868371.08,873361.7,878352.35,888333.61,898314.91,898314.91,898314.91,898314.91,898314.91,898314.91,898314.91,898314.91,898539.83,898539.83,906616.62,908296.17,908635.8,908635.8,908635.8,918277.46,918277.46,918277.46,918277.46,918277.46,920750.94,923268.08,938240.02,948221.29,948221.29,948221.29,948221.29,948221.29,948221.29,958202.55,959115.56,959115.56,959115.56,959115.56,959115.56,960247.73,978165.11,978165.11,978165.11,988146.4,988146.4,988146.4,988146.4,988146.4,989403.42,998127.67,998127.67,998127.67,998127.67,998127.67,998127.67,1009595.32,1009595.32,1010360.71,1048034.05,1048034.05,1048034.05,1048034.05,1048034.05,1058318.76,1077977.9,1096942.3,1097940.43,1097940.43,1097940.43,1097940.43,1097940.43,1097940.43,1097940.43,1097940.43,1097940.43,1097940.43,1097940.43,1110554.87,1110554.87,1110554.87,1114908.62,1116829.6,1141852.31,1144881.1,1147846.81,1147846.81,1147846.81,1147846.81,1161034.64,1162044.24,1167809.37,1177790.66,1177790.66,1197753.22,1197753.22,1197753.22,1197753.22,1197753.22,1197753.22,1197753.22,1211514.4,1221610.36,1222619.94,1247659.6,1247659.6,1247659.6,1247659.6,1247659.6,1261994.16,1261994.16,1272612.78,1277603.42,1297565.98,1297565.98,1297565.98,1297565.98,1302377.99,1317521.92,1331678.99,1345476.12,1347472.36,1349987.64,1362953.71,1377416.18,1380921.47,1397378.74,1397378.74,1397378.74,1397378.74,1397378.74,1397378.74,1413433.48,1413433.48,1414505.01,1426558.23,1447285.12,1447285.12,1487210.24,1497191.5,1497191.5,1497191.5,1504297.06,1514393.0,1522144.71,1593547.76,1595160.62,1597004.3,1597004.3,1597004.3,1616966.85],\"xaxis\":\"x\",\"y\":[82.21603347547693,82.21603347547693,82.21603347547693,82.21603347547693,82.21603347547693,82.37107914071748,82.43221697008926,82.51408675598378,82.51408675598378,82.51408675598378,82.51408675598378,82.51408675598378,82.54030817592141,82.56516941317034,83.06075565782383,83.06075565782383,83.29695311443456,83.29695311443456,83.29695311443456,83.29695311443456,83.29695311443456,83.29695311443456,83.29695311443456,83.29695311443456,83.29695311443456,83.29695311443456,83.49809229542308,83.60742347671588,83.60742347671588,83.60742347671588,83.60742347671588,83.60742347671588,83.60742347671588,83.60742347671588,83.83741347538738,83.83741347538738,83.83741347538738,83.85817683740217,84.04476011431511,84.26342680869273,84.26978046461203,84.37787491928819,84.37787491928819,84.37787491928819,84.37787491928819,84.37787491928819,84.37787491928819,84.70076452923996,84.81009895937677,84.81009895937677,84.91833311434502,84.91833311434502,84.91833311434502,85.0718810625008,85.07658213977123,85.18221721953813,85.18221721953813,85.24743234813201,85.24743234813201,85.29255337657546,85.29255337657546,85.29255337657546,85.40289386540479,85.40289386540479,85.40289386540479,85.45879455824583,85.45879455824583,85.45879455824583,85.45879455824583,85.45879455824583,85.45879455824583,85.45879455824583,85.51323002244212,85.51323002244212,85.62356617947944,85.62356617947944,85.62356617947944,85.68477006867924,85.73390233651676,85.79410449881604,85.79410449881604,85.79410449881604,85.79410449881604,85.79410449881604,85.79410449881604,85.79410449881604,85.79410449881604,85.79410449881604,85.96089581807071,86.23143788757129,86.34077340065609,86.34077340065609,86.34077340065609,86.34077340065609,86.50626193346608,86.50626193346608,86.53971311425545,86.53971311425545,86.53971311425545,86.53971311425545,86.53971311425545,86.53971311425545,86.6165980905034,86.6165980905034,86.77811003825533,86.83727365342207,86.83727365342207,86.88744230249614,86.88744230249614,86.88744230249614,86.88744230249614,86.88744230249614,86.88744230249614,86.9476098104594,86.9476098104594,86.9476098104594,87.05794596749672,87.05794596749672,87.06041292304201,87.08017455815627,87.08017455815627,87.08017455815627,87.16828212453406,87.40445250744477,87.40445250744477,87.43411337023218,87.43411337023218,87.6206349191091,87.6206349191091,87.6206349191091,87.6206349191091,87.6206349191091,87.6527800646098,87.81678279276301,87.87144675898742,87.98078227207222,87.98078227207222,88.1610963630099,88.1610963630099,88.52745117391225,88.52745117391225,88.59346226928656,88.59346226928656,88.70155455806673,88.70155455806673,88.70155455806673,88.70155455806673,88.70155455806673,88.70155455806673,88.70155455806673,88.70155455806673,88.70155455806673,88.70155455806673,88.70155455806673,88.70155455806673,88.70155455806673,88.70155455806673,88.71031127559928,88.85545229842668,88.85545229842668,89.07412332459631,89.07412332459631,89.07412332459631,89.07412332459631,89.07412332459631,89.07412332459631,89.07412332459631,89.07412332459631,89.07412332459631,89.07412332459631,89.07412332459631,89.07412332459631,89.07412332459631,89.2594460500366,89.2594460500366,89.6743851570882,89.78247636292036,89.78247636292036,89.78247636292036,89.78247636292036,90.1674600453284,90.1674600453284,90.1674600453284,90.1674600453284,90.1674600453284,90.32293455797718,90.32293455797718,90.71413219601244,90.71413219601244,90.75422293099327,90.86339600187799,90.86339600187799,90.86339600187799,90.86339600187799,90.86339600187799,90.86339600187799,90.86339600187799,90.86339600187799,90.86339600187799,90.93279889039006,91.04213332052686,91.26080001490448,91.26080001490448,91.26080001490448,91.26080001490448,91.26080001490448,91.26080001490448,91.26080001490448,91.85838155109498,91.94431780673162,91.94431780673162,91.94431780673162,91.94431780673162,91.94431780673162,91.94431780673162,91.94431780673162,92.02613885996614,92.24480555434376,92.29947385236017,92.35414106742857,92.35414106742857,92.35414106742857,92.35414106742857,92.35414106742857,92.35414106742857,92.35414106742857,92.48477600178845,92.7914744561838,93.01014439940542,93.02415558063669,93.02523636274125,93.02523636274125,93.02523636274125,93.02523636274125,93.02523636274125,93.09367326163682,93.11947666364622,93.44747778816065,93.55681330124546,93.88997250708655,93.97632786359944,93.9941499388447,93.99806371291874,93.99806371291874,94.10615600169889,94.10615600169889,94.10615600169889,94.10615600169889,94.10615600169889,94.10615600169889,94.10615600169889,94.10615600169889,94.10615600169889,94.10615600169889,94.10615600169889,94.43148332759992,94.54081884068474,94.54081884068474,94.54081884068474,94.54081884068474,94.54081884068474,94.54081884068474,94.54081884068474,94.54081884068474,94.54081884068474,94.54081884068474,95.03607262030206,95.08748665957678,95.18707780655254,95.18707780655254,95.18707780655254,95.18707780655254,95.18707780655254,95.18707780655254,95.18707780655254,95.18707780655254,95.18707780655254,95.55182877146605,95.63415881026083,95.63415881026083,95.63415881026083,95.63415881026083,95.63415881026083,95.72753925045333,95.72753925045333,95.72753925045333,95.72753925045333,95.72753925045333,95.72753925045333,95.85654651396837,96.05181395089784,96.26799744551016,96.26799744551016,96.26799744551016,96.26799744551016,96.26799744551016,96.26799744551016,96.26799744551016,96.26799744551016,96.26799744551016,96.26799744551016,96.26799744551016,96.72749661394091,96.72749661394091,96.80845780646297,96.80845780646297,96.80845780646297,96.80845780646297,96.80845780646297,96.80845780646297,96.80845780646297,96.83683104407771,97.0396433797271,97.05549773845533,97.24082804453164,97.24082804453164,97.24082804453164,97.27416443283295,97.27416443283295,97.34891925036379,97.34891925036379,97.34891925036379,97.34891925036379,97.34891925036379,97.34891925036379,97.34891925036379,97.34891925036379,97.34891925036379,97.34891925036379,97.34891925036379,97.56510274497612,97.82083658351699,97.82083658351699,97.82083658351699,97.82083658351699,97.88937744542062,97.88937744542062,97.88937744542062,98.21365539470911,98.32174660054127,98.35274490410937,98.36750548535704,98.36750548535704,98.42983780637343,98.42983780637343,98.42983780637343,98.42983780637343,98.91417330424909,98.91417330424909,98.91417330424909,98.91417330424909,98.97029925027425,98.97029925027425,98.97029925027425,99.4026662394989,99.46084545493312,99.46084545493312,99.510650233479,99.51076069417506,99.51076069417506,99.51076069417506,99.51076069417506,99.51076069417506,99.51076069417506,99.51076069417506,99.51076069417506,99.51076069417506,99.51076069417506,99.51076069417506,99.51076069417506,99.51076069417506,99.51076069417506,99.51076069417506,100.00751435677317,100.00751435677317,100.00751435677317,100.00751435677317,100.00751435677317,100.05121888923188,100.05121888923188,100.15931009506404,100.24498644318055,100.5916792501847,100.5916792501847,101.08991871743957,101.1321406940855,101.1321406940855,101.6475232281893,101.6475232281893,101.6617910680967,101.67259888914234,101.67259888914234,101.67259888914234,101.67259888914234,101.86618992256692,102.10496804426299,102.19419213002934,102.19419213002934,102.19419213002934,102.19419213002934,102.19419213002934,102.19419213002934,102.19419213002934,102.19419213002934,102.21305925009514,102.21305925009514,102.21305925009514,102.21305925009514,102.21305925009514,102.24885934509774,102.63152876762857,102.6454294881638,102.7408642807134,102.7408642807134,102.75352069399597,102.75352069399597,102.75352069399597,102.75352069399597,102.75352069399597,102.75352069399597,103.16713643859087,103.28753209960543,103.28753209960543,103.28753209960543,103.28753209960543,103.28753209960543,103.29398213789678,103.29398213789678,103.61825683834127,103.72634804417343,103.79046939528675,103.83444033295359,103.83444033295359,103.83444033295359,103.83444033295359,104.37490069390641,104.37490069390641,104.38087315212951,104.38087315212951,104.38087315212951,104.38087315212951,104.38087315212951,104.4272168288656,104.80727093197507,104.91536213780722,104.91536213780722,104.91536213780722,104.91536213780722,104.91536213780722,104.91536213780722,104.91536213780722,104.91536213780722,104.91536213780722,104.91536213780722,104.91536213780722,104.91536213780722,104.91536213780722,104.91536213780722,104.91536213780722,104.91536213780722,104.91536213780722,104.91536213780722,104.91536213780722,104.91536213780722,105.13154563241956,105.13154563241956,105.47420987286159,105.47420987286159,105.47420987286159,105.47420987286159,105.47420987286159,105.47420987286159,105.47420987286159,105.47420987286159,105.47420987286159,105.75219612691804,105.8881894879847,105.9663393474973,105.99628069381686,105.99628069381686,106.53674213771768,106.56755092538569,106.6768853555225,106.75292563233,107.0772035816185,107.0772035816185,107.0772035816185,107.0772035816185,107.11421874427774,107.44222095174015,107.44222095174015,107.61766069372732,107.61766069372732,107.61766069372732,107.61766069372732,107.66089089496177,108.15812213762814,108.15812213762814,108.15812213762814,108.15812213762814,108.15812213762814,108.15812213762814,108.15812213762814,108.15812213762814,108.20755979680182,108.31689422693863,108.75422761569385,108.75422761569385,108.75422761569385,108.75422761569385,108.75422761569385,108.92460457577839,109.23904177658576,109.23904177658576,109.23904177658576,109.30089651753391,109.30089651753391,109.73823315513314,109.77950213753857,109.77950213753857,109.84756866821795,109.84756866821795,109.84756866821795,109.84756866821795,110.10378008682707,110.15026238090722,110.3199635814394,110.3199635814394,110.3199635814394,110.3199635814394,110.3199635814394,110.3199635814394,110.94090538895003,110.94090538895003,111.29279093161686,111.48757753963407,112.43080250621617,112.48180502525067,112.48180502525067,112.48180502525067,112.81955051587416,113.11665080214053,113.1275864110502,113.1275864110502,113.5627235812603,113.5627235812603,113.5627235812603,113.5627235812603,113.5627235812603,113.5627235812603,113.5627235812603,113.5627235812603,113.5627235812603,113.5627235812603,113.67425531289025,114.10318502516111,114.21019544888871,114.22092313178229,114.22092313178229,114.24467543027862,114.43959415795192,114.64364646906193,114.64364646906193,114.64364646906193,114.8552880797599,114.85982888072625,115.31426418430638,115.61647381923939,115.61647381923939,115.72456502507157,115.72456502507157,115.72456502507157,115.72456502507157,115.72456502507157,115.72456502507157,115.72456502507157,115.72456502507157,115.72456502507157,115.72456502507157,115.72456502507157,116.13423234125642,116.26502646897238,116.40760415388246,116.40760415388246,116.40760415388246,116.40760415388246,116.40760415388246,116.73522516364869,116.80548358108119,116.95427305572251,117.02167032453752,117.06360856880733,117.23785381914985,117.34594502498202,117.50094195756255,117.50094195756255,117.86338191144287,117.88640646888283,117.88640646888283,117.88640646888283,117.88640646888283,118.04761410824659,118.1569452895394,118.26628080262421,118.42686466393965,118.59428192713864,118.96732502489246,118.96732502489246,118.96732502489246,118.96732502489246,118.96732502489246,118.96732502489246,118.96732502489246,118.96732502489246,119.68762297966273,119.68762297966273,119.68762297966273,119.68762297966273,119.68762297966273,120.01562410417714,120.04591307680488,120.04591307680488,120.0482479126941,120.0482479126941,120.0482479126941,120.0482479126941,120.0482479126941,120.23429079855477,120.23429079855477,120.26935990365698,121.12916646870372,121.12916646870372,121.12916646870372,121.12916646870372,121.12916646870372,121.12916646870372,121.12916646870372,121.12916646870372,121.12916646870372,121.12916646870372,121.12916646870372,121.32763185107885,121.87430075291888,121.87430075291888,121.87430075291888,122.11280488877082,122.13499449330234,122.42096857181093,122.79818968295092,123.0769729867358,123.291007912515,123.291007912515,123.50719140712732,123.51430962433503,123.68013711986919,124.06097744322707,124.06097744322707,124.37181925667258,124.37192646852463,124.37192646852463,124.37192646852463,124.37192646852463,124.37192646852463,124.64215773194903,125.02047911825761,125.15431849575117,125.15431849575117,125.45284935632625,125.45284935632625,125.45284935632625,125.81032182772802,125.81032182772802,125.99330646843507,126.02898852210564,126.24765521648322,126.53376791233589,126.53376791233589,126.53376791233589,126.53376791233589,126.53376791233589,126.53376791233589,126.53376791233589,126.53376791233589,126.53376791233589,126.53376791233589,126.53376791233589,126.53376791233589,126.53376791233589,126.53376791233589,126.53376791233589,126.53376791233589,126.53376791233589,126.53376791233589,127.34099626900732,127.34099626900732,127.34099626900732,127.34099626900732,127.34099626900732,127.61469080013754,128.08694384717091,128.43433623858343,128.58751815031502,128.69560935614717,128.69560935614717,128.69560935614717,129.236070800048,129.5276740422635,129.7765279121568,129.7765279121568,129.7765279121568,129.7765279121568,129.7765279121568,129.7765279121568,129.7765279121568,129.7765279121568,130.07434510999954,130.53317285066993,130.62101401183958,130.62101401183958,130.62101401183958,130.72849551794744,130.85745079995843,130.85745079995843,131.71435506436367,131.8302781501359,131.8302781501359,131.9330217587413,131.93836935596806,131.93836935596806,131.93836935596806,131.93836935596806,131.93836935596806,131.93836935596806,131.93836935596806,131.93836935596806,132.80769178509576,132.80769178509576,132.80769178509576,132.80769178509576,133.0192922437697,133.95996361896647,134.10021079977935,134.10021079977935,134.10021079977935,134.532581037848,134.99437280719593,135.18113368758097,135.40109233892326,135.43914713166302,135.72159079968978,135.72159079968978,135.90534866526926,136.087709527928,136.087709527928,136.2620522435906,136.2620522435906,136.2620522435906,136.80251368749143,137.1810505804521,137.1810505804521,137.34297079960024,137.34297079960024,137.34297079960024,137.34297079960024,137.34297079960024,137.34297079960024,137.34297079960024,137.34297079960024,137.34297079960024,137.34297079960024,137.34297079960024,137.34297079960024,137.4510663372244,137.69273376418596,138.2743873011842,138.2743873011842,138.2743873011842,138.2743873011842,138.2743873011842,138.2743873011842,138.2743873011842,138.2743873011842,138.42389368740186,138.73769628068092,138.82105945186822,138.96435513130268,139.5048122434115,139.5048122434115,139.5048122434115,140.47764284243297,140.58573513121314,140.58573513121314,140.58573513121314,140.58573513121314,140.58573513121314,141.18024001213405,141.66665368722278,141.99093163651125,142.20711513112357,142.53138983156808,142.64774609654054,142.7475765750244,142.7475765750244,142.7475765750244,142.7475765750244,142.7475765750244,142.7475765750244,142.7475765750244,142.7475765750244,143.19441499838058,143.74108606611662,143.74108606611662,143.82849513103403,143.82849513103403,144.90941368704367,144.90941368704367,144.90941368704367,144.9934038851233,145.30989435533976,145.9277638393728,145.9903365748453,145.9903365748453,145.9903365748453,146.09842778067747,146.47443274121284,146.8550716362426,147.02110489189687,148.15217801865657,148.15217801865657,148.15217801865657,148.15217801865657,148.15217801865657,148.15217801865657,148.15217801865657,148.15217801865657,148.15217801865657,148.15217801865657,148.15217801865657,148.15217801865657,148.15217801865657,148.15217801865657,148.15217801865657,148.15217801865657,148.58454392493323,148.98911163898342,149.2330965746662,149.27823493027765,149.9565567375981,150.06033239564803,150.30111938588513,150.31401837951984,150.85447657457664,151.39493801847746,152.4758565744871,153.55677946228874,153.55677946228874,153.55677946228874,153.55677946228874,153.55677946228874,153.55677946228874,153.55677946228874,153.55677946228874,153.5811371287174,153.5811371287174,154.45581148686387,154.63769801829838,154.67447818124148,154.67447818124148,154.67447818124148,155.718619823152,155.718619823152,155.718619823152,155.718619823152,155.718619823152,155.98648484519518,156.2590780182088,157.88046126696327,158.96138090592092,158.96138090592092,158.96138090592092,158.96138090592092,158.96138090592092,158.96138090592092,160.04229946193055,160.14117369732992,160.14117369732992,160.14117369732992,160.14117369732992,160.14117369732992,160.2637818211096,162.2041409057418,162.2041409057418,162.2041409057418,163.28506271059544,163.28506271059544,163.28506271059544,163.28506271059544,163.28506271059544,163.42119144016218,164.36598234955306,164.36598234955306,164.36598234955306,164.36598234955306,164.36598234955306,164.36598234955306,165.60786921341833,165.60786921341833,165.6907569704334,169.77058379318524,169.77058379318524,169.77058379318524,169.77058379318524,169.77058379318524,170.88436440627194,173.01334704185012,175.06709294803724,175.1751852368174,175.1751852368174,175.1751852368174,175.1751852368174,175.1751852368174,175.1751852368174,175.1751852368174,175.1751852368174,175.1751852368174,175.1751852368174,175.1751852368174,176.54126349443922,176.54126349443922,176.54126349443922,177.0127519801842,177.22078412519627,179.93061350151228,180.2586157089747,180.5797866804496,180.5797866804496,180.5797866804496,180.5797866804496,182.00796009347562,182.11729452361246,182.74162812426084,183.82254992911447,183.82254992911447,185.98439137292573,185.98439137292573,185.98439137292573,185.98439137292573,185.98439137292573,185.98439137292573,185.98439137292573,187.47465560956405,188.56799557914016,188.67732784338094,191.3889928165579,191.3889928165579,191.3889928165579,191.3889928165579,191.3889928165579,192.9413511256525,192.9413511256525,194.091292455426,194.6317528163788,196.79359426019008,196.79359426019008,196.79359426019008,196.79359426019008,197.31470992100884,198.95471879242496,200.48785585745756,201.98201329215792,202.19819570382225,202.47058744850776,203.87474540667336,205.44095570364314,205.82056038333238,207.6027971474544,207.6027971474544,207.6027971474544,207.6027971474544,207.6027971474544,207.6027971474544,209.34144200570978,209.34144200570978,209.45748313281408,210.7627841827483,213.00739859108657,213.00739859108657,217.3310814787091,218.41200003471874,218.41200003471874,218.41200003471874,219.18149523420658,220.27483303788665,221.11430292243082,228.8468819455886,229.02154629680734,229.22120725377508,229.22120725377508,229.22120725377508,231.38304761463834],\"yaxis\":\"y\",\"type\":\"scatter\"}],                        {\"template\":{\"data\":{\"bar\":[{\"error_x\":{\"color\":\"#2a3f5f\"},\"error_y\":{\"color\":\"#2a3f5f\"},\"marker\":{\"line\":{\"color\":\"#E5ECF6\",\"width\":0.5},\"pattern\":{\"fillmode\":\"overlay\",\"size\":10,\"solidity\":0.2}},\"type\":\"bar\"}],\"barpolar\":[{\"marker\":{\"line\":{\"color\":\"#E5ECF6\",\"width\":0.5},\"pattern\":{\"fillmode\":\"overlay\",\"size\":10,\"solidity\":0.2}},\"type\":\"barpolar\"}],\"carpet\":[{\"aaxis\":{\"endlinecolor\":\"#2a3f5f\",\"gridcolor\":\"white\",\"linecolor\":\"white\",\"minorgridcolor\":\"white\",\"startlinecolor\":\"#2a3f5f\"},\"baxis\":{\"endlinecolor\":\"#2a3f5f\",\"gridcolor\":\"white\",\"linecolor\":\"white\",\"minorgridcolor\":\"white\",\"startlinecolor\":\"#2a3f5f\"},\"type\":\"carpet\"}],\"choropleth\":[{\"colorbar\":{\"outlinewidth\":0,\"ticks\":\"\"},\"type\":\"choropleth\"}],\"contour\":[{\"colorbar\":{\"outlinewidth\":0,\"ticks\":\"\"},\"colorscale\":[[0.0,\"#0d0887\"],[0.1111111111111111,\"#46039f\"],[0.2222222222222222,\"#7201a8\"],[0.3333333333333333,\"#9c179e\"],[0.4444444444444444,\"#bd3786\"],[0.5555555555555556,\"#d8576b\"],[0.6666666666666666,\"#ed7953\"],[0.7777777777777778,\"#fb9f3a\"],[0.8888888888888888,\"#fdca26\"],[1.0,\"#f0f921\"]],\"type\":\"contour\"}],\"contourcarpet\":[{\"colorbar\":{\"outlinewidth\":0,\"ticks\":\"\"},\"type\":\"contourcarpet\"}],\"heatmap\":[{\"colorbar\":{\"outlinewidth\":0,\"ticks\":\"\"},\"colorscale\":[[0.0,\"#0d0887\"],[0.1111111111111111,\"#46039f\"],[0.2222222222222222,\"#7201a8\"],[0.3333333333333333,\"#9c179e\"],[0.4444444444444444,\"#bd3786\"],[0.5555555555555556,\"#d8576b\"],[0.6666666666666666,\"#ed7953\"],[0.7777777777777778,\"#fb9f3a\"],[0.8888888888888888,\"#fdca26\"],[1.0,\"#f0f921\"]],\"type\":\"heatmap\"}],\"heatmapgl\":[{\"colorbar\":{\"outlinewidth\":0,\"ticks\":\"\"},\"colorscale\":[[0.0,\"#0d0887\"],[0.1111111111111111,\"#46039f\"],[0.2222222222222222,\"#7201a8\"],[0.3333333333333333,\"#9c179e\"],[0.4444444444444444,\"#bd3786\"],[0.5555555555555556,\"#d8576b\"],[0.6666666666666666,\"#ed7953\"],[0.7777777777777778,\"#fb9f3a\"],[0.8888888888888888,\"#fdca26\"],[1.0,\"#f0f921\"]],\"type\":\"heatmapgl\"}],\"histogram\":[{\"marker\":{\"pattern\":{\"fillmode\":\"overlay\",\"size\":10,\"solidity\":0.2}},\"type\":\"histogram\"}],\"histogram2d\":[{\"colorbar\":{\"outlinewidth\":0,\"ticks\":\"\"},\"colorscale\":[[0.0,\"#0d0887\"],[0.1111111111111111,\"#46039f\"],[0.2222222222222222,\"#7201a8\"],[0.3333333333333333,\"#9c179e\"],[0.4444444444444444,\"#bd3786\"],[0.5555555555555556,\"#d8576b\"],[0.6666666666666666,\"#ed7953\"],[0.7777777777777778,\"#fb9f3a\"],[0.8888888888888888,\"#fdca26\"],[1.0,\"#f0f921\"]],\"type\":\"histogram2d\"}],\"histogram2dcontour\":[{\"colorbar\":{\"outlinewidth\":0,\"ticks\":\"\"},\"colorscale\":[[0.0,\"#0d0887\"],[0.1111111111111111,\"#46039f\"],[0.2222222222222222,\"#7201a8\"],[0.3333333333333333,\"#9c179e\"],[0.4444444444444444,\"#bd3786\"],[0.5555555555555556,\"#d8576b\"],[0.6666666666666666,\"#ed7953\"],[0.7777777777777778,\"#fb9f3a\"],[0.8888888888888888,\"#fdca26\"],[1.0,\"#f0f921\"]],\"type\":\"histogram2dcontour\"}],\"mesh3d\":[{\"colorbar\":{\"outlinewidth\":0,\"ticks\":\"\"},\"type\":\"mesh3d\"}],\"parcoords\":[{\"line\":{\"colorbar\":{\"outlinewidth\":0,\"ticks\":\"\"}},\"type\":\"parcoords\"}],\"pie\":[{\"automargin\":true,\"type\":\"pie\"}],\"scatter\":[{\"marker\":{\"colorbar\":{\"outlinewidth\":0,\"ticks\":\"\"}},\"type\":\"scatter\"}],\"scatter3d\":[{\"line\":{\"colorbar\":{\"outlinewidth\":0,\"ticks\":\"\"}},\"marker\":{\"colorbar\":{\"outlinewidth\":0,\"ticks\":\"\"}},\"type\":\"scatter3d\"}],\"scattercarpet\":[{\"marker\":{\"colorbar\":{\"outlinewidth\":0,\"ticks\":\"\"}},\"type\":\"scattercarpet\"}],\"scattergeo\":[{\"marker\":{\"colorbar\":{\"outlinewidth\":0,\"ticks\":\"\"}},\"type\":\"scattergeo\"}],\"scattergl\":[{\"marker\":{\"colorbar\":{\"outlinewidth\":0,\"ticks\":\"\"}},\"type\":\"scattergl\"}],\"scattermapbox\":[{\"marker\":{\"colorbar\":{\"outlinewidth\":0,\"ticks\":\"\"}},\"type\":\"scattermapbox\"}],\"scatterpolar\":[{\"marker\":{\"colorbar\":{\"outlinewidth\":0,\"ticks\":\"\"}},\"type\":\"scatterpolar\"}],\"scatterpolargl\":[{\"marker\":{\"colorbar\":{\"outlinewidth\":0,\"ticks\":\"\"}},\"type\":\"scatterpolargl\"}],\"scatterternary\":[{\"marker\":{\"colorbar\":{\"outlinewidth\":0,\"ticks\":\"\"}},\"type\":\"scatterternary\"}],\"surface\":[{\"colorbar\":{\"outlinewidth\":0,\"ticks\":\"\"},\"colorscale\":[[0.0,\"#0d0887\"],[0.1111111111111111,\"#46039f\"],[0.2222222222222222,\"#7201a8\"],[0.3333333333333333,\"#9c179e\"],[0.4444444444444444,\"#bd3786\"],[0.5555555555555556,\"#d8576b\"],[0.6666666666666666,\"#ed7953\"],[0.7777777777777778,\"#fb9f3a\"],[0.8888888888888888,\"#fdca26\"],[1.0,\"#f0f921\"]],\"type\":\"surface\"}],\"table\":[{\"cells\":{\"fill\":{\"color\":\"#EBF0F8\"},\"line\":{\"color\":\"white\"}},\"header\":{\"fill\":{\"color\":\"#C8D4E3\"},\"line\":{\"color\":\"white\"}},\"type\":\"table\"}]},\"layout\":{\"annotationdefaults\":{\"arrowcolor\":\"#2a3f5f\",\"arrowhead\":0,\"arrowwidth\":1},\"autotypenumbers\":\"strict\",\"coloraxis\":{\"colorbar\":{\"outlinewidth\":0,\"ticks\":\"\"}},\"colorscale\":{\"diverging\":[[0,\"#8e0152\"],[0.1,\"#c51b7d\"],[0.2,\"#de77ae\"],[0.3,\"#f1b6da\"],[0.4,\"#fde0ef\"],[0.5,\"#f7f7f7\"],[0.6,\"#e6f5d0\"],[0.7,\"#b8e186\"],[0.8,\"#7fbc41\"],[0.9,\"#4d9221\"],[1,\"#276419\"]],\"sequential\":[[0.0,\"#0d0887\"],[0.1111111111111111,\"#46039f\"],[0.2222222222222222,\"#7201a8\"],[0.3333333333333333,\"#9c179e\"],[0.4444444444444444,\"#bd3786\"],[0.5555555555555556,\"#d8576b\"],[0.6666666666666666,\"#ed7953\"],[0.7777777777777778,\"#fb9f3a\"],[0.8888888888888888,\"#fdca26\"],[1.0,\"#f0f921\"]],\"sequentialminus\":[[0.0,\"#0d0887\"],[0.1111111111111111,\"#46039f\"],[0.2222222222222222,\"#7201a8\"],[0.3333333333333333,\"#9c179e\"],[0.4444444444444444,\"#bd3786\"],[0.5555555555555556,\"#d8576b\"],[0.6666666666666666,\"#ed7953\"],[0.7777777777777778,\"#fb9f3a\"],[0.8888888888888888,\"#fdca26\"],[1.0,\"#f0f921\"]]},\"colorway\":[\"#636efa\",\"#EF553B\",\"#00cc96\",\"#ab63fa\",\"#FFA15A\",\"#19d3f3\",\"#FF6692\",\"#B6E880\",\"#FF97FF\",\"#FECB52\"],\"font\":{\"color\":\"#2a3f5f\"},\"geo\":{\"bgcolor\":\"white\",\"lakecolor\":\"white\",\"landcolor\":\"#E5ECF6\",\"showlakes\":true,\"showland\":true,\"subunitcolor\":\"white\"},\"hoverlabel\":{\"align\":\"left\"},\"hovermode\":\"closest\",\"mapbox\":{\"style\":\"light\"},\"paper_bgcolor\":\"white\",\"plot_bgcolor\":\"#E5ECF6\",\"polar\":{\"angularaxis\":{\"gridcolor\":\"white\",\"linecolor\":\"white\",\"ticks\":\"\"},\"bgcolor\":\"#E5ECF6\",\"radialaxis\":{\"gridcolor\":\"white\",\"linecolor\":\"white\",\"ticks\":\"\"}},\"scene\":{\"xaxis\":{\"backgroundcolor\":\"#E5ECF6\",\"gridcolor\":\"white\",\"gridwidth\":2,\"linecolor\":\"white\",\"showbackground\":true,\"ticks\":\"\",\"zerolinecolor\":\"white\"},\"yaxis\":{\"backgroundcolor\":\"#E5ECF6\",\"gridcolor\":\"white\",\"gridwidth\":2,\"linecolor\":\"white\",\"showbackground\":true,\"ticks\":\"\",\"zerolinecolor\":\"white\"},\"zaxis\":{\"backgroundcolor\":\"#E5ECF6\",\"gridcolor\":\"white\",\"gridwidth\":2,\"linecolor\":\"white\",\"showbackground\":true,\"ticks\":\"\",\"zerolinecolor\":\"white\"}},\"shapedefaults\":{\"line\":{\"color\":\"#2a3f5f\"}},\"ternary\":{\"aaxis\":{\"gridcolor\":\"white\",\"linecolor\":\"white\",\"ticks\":\"\"},\"baxis\":{\"gridcolor\":\"white\",\"linecolor\":\"white\",\"ticks\":\"\"},\"bgcolor\":\"#E5ECF6\",\"caxis\":{\"gridcolor\":\"white\",\"linecolor\":\"white\",\"ticks\":\"\"}},\"title\":{\"x\":0.05},\"xaxis\":{\"automargin\":true,\"gridcolor\":\"white\",\"linecolor\":\"white\",\"ticks\":\"\",\"title\":{\"standoff\":15},\"zerolinecolor\":\"white\",\"zerolinewidth\":2},\"yaxis\":{\"automargin\":true,\"gridcolor\":\"white\",\"linecolor\":\"white\",\"ticks\":\"\",\"title\":{\"standoff\":15},\"zerolinecolor\":\"white\",\"zerolinewidth\":2}}},\"xaxis\":{\"anchor\":\"y\",\"domain\":[0.0,1.0],\"title\":{\"text\":\"Pre\\u00e7o\"}},\"yaxis\":{\"anchor\":\"x\",\"domain\":[0.0,1.0],\"title\":{\"text\":\"Metro quadrado\"}},\"legend\":{\"tracegroupgap\":0},\"margin\":{\"t\":60}},                        {\"responsive\": true}                    )                };                            </script>        </div>\n",
       "</body>\n",
       "</html>"
      ]
     },
     "metadata": {
      "application/vnd.databricks.v1+output": {
       "addedWidgets": {},
       "arguments": {},
       "data": "<html>\n<head><meta charset=\"utf-8\" /></head>\n<body>\n    <div>            <script src=\"https://cdnjs.cloudflare.com/ajax/libs/mathjax/2.7.5/MathJax.js?config=TeX-AMS-MML_SVG\"></script><script type=\"text/javascript\">if (window.MathJax) {MathJax.Hub.Config({SVG: {font: \"STIX-Web\"}});}</script>                <script type=\"text/javascript\">window.PlotlyConfig = {MathJaxConfig: 'local'};</script>\n        <script src=\"https://cdn.plot.ly/plotly-2.9.0.min.js\"></script>                <div id=\"fc5086ee-759a-499c-a079-e9d01fb4e40a\" class=\"plotly-graph-div\" style=\"height:100%; width:100%;\"></div>            <script type=\"text/javascript\">                                    window.PLOTLYENV=window.PLOTLYENV || {};                                    if (document.getElementById(\"fc5086ee-759a-499c-a079-e9d01fb4e40a\")) {                    Plotly.newPlot(                        \"fc5086ee-759a-499c-a079-e9d01fb4e40a\",                        [{\"hovertemplate\":\"Pre\\u00e7o=%{x}<br>Metro quadrado=%{y}<extra></extra>\",\"legendgroup\":\"\",\"marker\":{\"color\":\"#636efa\",\"symbol\":\"circle\"},\"mode\":\"markers\",\"name\":\"\",\"orientation\":\"v\",\"showlegend\":false,\"x\":[414222.98,848408.53,299438.28,848408.53,464129.36,294447.66,314410.19,419213.6,449157.45,548970.21,369307.22,998127.67,848408.53,339363.39,369307.22,359325.95,389269.77,329382.13,399251.07,479101.27,289457.01,379288.51,568932.77,349344.66,394260.42,379288.51,1522144.71,598876.59,908296.17,958202.55,778539.59,718651.91,938240.02,369307.22,309419.57,1497191.5,389269.77,873361.7,918277.46,798502.15,828445.97,798502.15,1497191.5,1247659.6,239550.63,998127.67,988146.4,638801.71,1048034.05,598876.59,379288.51,449157.45,578914.03,529007.65,808483.41,798502.15,359325.95,369307.22,998127.67,1597004.3,1097940.43,299438.28,1096942.3,439176.16,474110.62,1447285.12,743605.12,758577.03,1048034.05,439176.16,848408.53,429194.89,678726.79,558951.47,1097940.43,588895.33,748595.73,948221.29,279475.72,279475.72,1349987.64,364316.6,449157.45,598876.59,319400.84,299438.28,359325.95,239550.63,648782.97,399251.07,738614.47,1497191.5,698689.35,698689.35,748595.73,731015.72,1616966.85,798502.15,748595.73,648782.97,466125.61,369307.22,898314.91,349344.66,807676.27,858389.79,798502.15,399251.07,865070.26,299438.28,598876.59,409232.33,389269.77,439176.16,469120.01,848408.53,399251.07,359325.95,1147846.81,848408.53,948221.29,1077977.9,367310.97,836430.98,778539.59,598876.59,348346.53,598876.59,568932.77,474509.81,312974.53,636045.06,610805.16,686524.82,254522.54,1110554.87,1144881.1,989403.42,424030.02,648782.97,1116829.6,588895.33,349344.66,489082.54,578914.03,364316.6,678726.79,798502.15,529007.65,747100.55,908635.8,1177790.66,848408.53,1597004.3,379288.51,1211514.4,686524.82,832916.14,1377416.18,259513.19,339224.03,465423.45,421001.23,340233.61,959115.56,302878.6,747100.55,648782.97,698689.35,409232.33,1097940.43,349344.66,818464.67,748595.73,1097940.43,1048034.05,489082.54,798502.15,848408.53,678726.79,1297565.98,678726.79,364316.6,529007.65,299438.28,299438.28,339363.39,848408.53,638801.71,529007.65,357931.56,918277.46,424204.24,538988.95,878352.35,469120.01,648782.97,519026.39,449157.45,299438.28,788520.85,828445.97,309419.57,819240.24,479101.27,768558.29,378290.39,648782.97,479101.27,548970.21,578914.03,359325.95,449157.45,369307.22,399251.07,399251.07,419213.6,1161034.64,474110.62,757196.48,302878.6,688708.09,728633.21,424204.24,529007.65,449157.45,265965.09,1347472.36,339363.39,339363.39,998127.67,404241.69,1397378.74,1247659.6,658764.27,1593547.76,923268.08,399251.07,628820.41,399251.07,399251.07,698689.35,1147846.81,379288.51,444166.8,648782.97,1048034.05,828445.97,359325.95,1147846.81,618839.15,369307.22,494073.18,898314.91,1097940.43,548970.21,384279.13,519026.39,394260.42,643792.32,698689.35,648782.97,1197753.22,848408.53,648782.97,1058318.76,259513.19,374297.86,1197753.22,1247659.6,673736.18,1114908.62,648782.97,733623.82,349344.66,1097940.43,1197753.22,348346.53,499063.83,631315.74,529007.65,848408.53,1167809.37,499063.83,444166.8,978165.11,588873.77,784029.28,808483.41,768558.29,299438.28,394260.42,499063.83,918277.46,1197753.22,548970.21,553960.86,748595.73,667747.41,898314.91,978165.11,898314.91,384279.13,1097940.43,424204.24,329382.13,364316.6,948221.29,698689.35,1277603.42,738614.47,628820.41,718651.91,648782.97,289457.01,688708.09,1397378.74,1197753.22,607959.56,622432.39,486179.01,319400.84,249531.9,297830.6,329382.13,748595.73,242774.57,988146.4,534986.44,339353.41,308421.45,318392.73,398252.92,276629.09,616862.74,291268.25,625949.09,757196.48,449157.45,419213.6,1097940.43,479101.27,374297.86,259513.19,374297.86,998127.67,848408.53,364316.6,918277.46,848408.53,678726.79,387273.53,508046.97,451153.7,529007.65,299438.28,458862.23,558302.7,749593.89,319400.84,578914.03,309419.57,289457.01,259513.19,269494.46,319400.84,339363.39,259513.19,524888.59,668745.53,459138.71,449157.45,628820.41,369307.22,399251.07,362694.08,240982.33,406030.95,384279.13,249531.9,379288.51,353358.36,359325.95,449157.45,678726.79,314410.19,648782.97,499063.83,258515.04,399250.05,458140.59,379288.51,678726.79,548970.21,249531.9,656236.96,272590.73,302878.6,242302.87,598876.59,548970.21,908635.8,437179.91,848408.53,605757.2,434125.98,1009595.32,449157.45,737004.58,656236.96,302878.6,748595.73,399251.07,249531.9,424030.02,590937.09,456884.82,529007.65,333166.46,1010360.71,272590.73,454317.88,748595.73,484605.74,277638.7,333166.46,284261.11,283242.26,282223.41,280185.68,272034.82,271015.97,269997.12,268978.27,267959.38,266940.53,265921.68,285279.96,283242.26,279166.83,280185.68,279166.83,271015.97,267959.38,266940.53,284261.11,283242.26,282223.41,271015.97,268978.27,267959.38,299438.28,598876.59,807676.27,706716.72,757196.48,555277.43,959115.56,761474.7,282686.67,656236.96,737004.58,588873.77,449157.45,548970.21,252398.8,1297565.98,329382.13,1447285.12,363454.32,1597004.3,272590.73,323070.49,484605.74,898314.91,706716.72,474110.62,289457.01,469120.01,282686.67,268978.27,269997.12,304589.88,449157.45,454317.88,620901.13,706716.72,319400.84,988146.4,424030.02,287460.77,374297.86,249531.9,1097940.43,448159.33,748595.73,309419.57,547972.09,560947.75,1197753.22,1297565.98,1345476.12,405239.81,708670.65,618839.15,829444.09,239550.63,648782.97,438178.03,678726.79,726908.65,948221.29,353358.36,479101.27,1302377.99,353358.36,598876.59,284283.89,1397378.74,1397378.74,1397378.74,1414505.01,242302.87,359325.95,533998.3,364316.6,319400.84,353358.36,299438.28,429194.89,449157.45,247350.84,454317.88,379288.51,439176.16,648782.97,578914.03,1362953.71,274130.89,282686.67,548970.21,748595.73,424030.02,469120.01,608164.46,898314.91,479101.27,329382.13,585565.3,555277.43,399251.07,393742.15,294447.66,353358.36,578914.03,272590.73,282686.67,319400.84,252398.8,287734.66,908635.8,571430.94,414222.98,572440.55,449157.45,299519.14,302878.6,369307.22,284466.37,264503.81,438770.13,568932.77,365507.86,333166.46,1397378.74,319400.84,252398.8,289457.01,399251.07,433014.24,449157.45,429194.89,545181.47,1222619.94,1162044.24,1141852.31,419213.6,302878.6,499063.83,648782.97,363454.32,379288.51,598876.59,242302.87,585565.3,1261994.16,298440.15,547972.09,449157.45,798502.15,424204.24,697691.23,403838.12,848408.53,254714.27,333166.46,778539.59,403838.12,570421.37,757196.48,334372.75,299438.28,866028.53,648782.97,304589.88,718651.91,1048034.05,858806.6,249531.9,349344.66,497496.8,272590.73,555277.43,698689.35,568932.77,1097940.43,668745.53,259513.19,347348.41,459138.71,349344.66,369307.22,249531.9,279475.72,399251.07,299438.28,239550.63,918277.46,269494.46,249531.9,988146.4,269494.46,748595.73,697691.23,369307.22,393742.15,590613.26,818464.67,242302.87,757196.48,374559.86,1595160.62,628819.42,252398.8,434125.98,383646.22,562944.0,287460.77,332661.66,504797.64,348310.39,848408.53,625949.09,856136.82,484605.74,281677.09,1413433.48,302878.6,429078.02,960247.73,588895.33,524989.57,264503.81,353358.36,1009595.32,242545.0,751825.46,424030.02,429194.89,1197753.22,302878.6,519026.39,434125.98,444649.89,429078.02,319400.84,353358.36,988146.4,634809.18,469461.81,777541.46,489653.71,748595.73,239550.63,323070.49,636045.06,540943.26,284466.37,267542.73,302878.6,552753.1,323070.49,722644.44,648782.97,284466.37,300859.38,837964.14,706716.72,418982.05,252398.8,585565.3,256437.19,323070.49,827868.17,768558.29,733623.82,329382.13,444221.95,353358.36,434125.98,522145.15,302878.6,264503.81,735320.65,540985.19,696620.79,262494.77,959115.56,598876.59,349344.66,762244.48,383646.22,605757.2,1413433.48,454317.88,300859.38,378290.39,898539.83,454317.88,378290.39,555277.43,282686.67,289753.84,888333.61,444221.95,413833.1,328588.59,429194.89,898539.83,484605.74,642102.63,906616.62,424204.24,359325.95,535304.83,535085.5,333166.46,791515.25,565373.37,263504.37,282686.67,379288.51,757196.48,642102.63,429194.89,920750.94,474110.62,428196.77,590613.26,333166.46,271581.13,339995.34,388694.19,424534.82,363454.32,241546.88,730664.32,605757.2,648782.97,403838.12,343262.39,529007.65,537104.72,378598.22,383646.22,585565.3,379288.51,404241.69,424030.02,563942.12,373550.26,666332.92,898314.91,668745.53,797580.31,763567.68,1097940.43,698689.35,548970.21,428068.41,518555.43,444221.95,374297.86,389269.77,686524.82,434185.54,277638.7,1177790.66,279475.72,535085.5,348145.82,330137.67,318022.53,822162.73,388694.19,337204.82,424030.02,628820.41,353358.36,423206.12,464413.85,656236.96,568720.16,363454.32,1110554.87,479101.27,454317.88,578914.03,1331678.99,778539.59,299438.28,263504.37,444221.95,538988.95,493692.1,247350.84,323070.49,796505.87,479101.27,272590.73,376579.04,393742.15,277638.7,644121.81,600709.23,1504297.06,638801.71,434125.98,312974.53,852401.02,279475.72,292782.63,646140.99,717356.86,687517.31,242302.87,494701.71,499063.83,561335.01,548970.21,998127.67,1247659.6,373550.26,279475.72,349344.66,269494.46,565373.37,575469.33,349344.66,302878.6,252398.8,489082.54,251389.23,681476.85,504797.64,254522.54,449157.45,272590.73,302878.6,494701.71,388271.65,1317521.92,333166.46,656236.96,620835.4,494701.71,249531.9,484605.74,449157.45,376432.64,272590.73,329382.13,424030.02,1147846.81,959115.56,509845.64,399251.07,374297.86,388557.89,676428.86,685713.69,524989.57,588895.33,454317.88,1514393.0,1247659.6,403838.12,332156.85,614288.44,444221.95,398790.15,451153.7,287734.66,291773.02,898314.91,344272.0,868371.08,1297565.98,1221610.36,272590.73,267542.73,1380921.47,419113.8,628820.41,494701.71,320041.71,258456.37,292782.63,297830.6,277638.7,472490.6,479557.78,560325.4,269494.46,312974.53,378598.22,454317.88,454317.88,312974.53,381284.76,252398.8,738614.47,249531.9,449157.45,538988.95,1272612.78,363454.32,1426558.23,393742.15,585565.3,588895.33,793511.5,1110554.87,757196.48,312974.53,868251.97,529007.65,530037.54,298440.15,318022.53,497067.58,353358.36,959115.56,403838.12,948221.29,321051.31,698639.97,778539.59,269494.46,449157.45,578914.03,472490.6,418982.05,573923.39,1261994.16,480567.38,352348.75,323070.49,494073.18,757196.48,323070.49,349344.66,588594.08,434185.54,383646.22,1487210.24,302878.6,555277.43,398790.15,358406.32,663125.08,802628.28,269494.46,818464.67,978165.11,548970.21,374297.86,489653.71,948221.29,254522.54],\"xaxis\":\"x\",\"y\":[72,136,75,187,80,94,80,54,63,105,88,167,170,64,81,72,83,63,73,88,109,80,104,73,69,90,183,98,130,128,130,100,128,55,60,182,55,133,113,123,105,180,160,160,55,240,155,117,238,167,71,61,160,82,210,175,62,62,150,240,204,78,149,80,79,238,128,129,129,67,135,70,134,105,200,148,238,140,58,118,203,53,75,101,58,94,64,64,148,94,128,216,135,130,145,112,200,108,86,135,60,75,180,93,110,175,170,67,119,54,100,73,73,66,145,167,75,55,155,200,140,190,65,109,102,165,65,95,86,74,63,125,110,120,64,158,156,123,63,250,240,130,120,103,82,100,170,140,108,142,170,203,140,250,65,163,89,113,203,75,58,68,66,56,140,62,127,131,96,75,150,140,105,94,128,128,90,230,122,106,204,91,64,122,93,87,110,147,104,86,62,143,60,94,176,103,106,117,55,120,125,115,68,125,82,148,57,113,80,85,96,82,98,68,83,79,80,176,136,92,65,189,112,87,86,79,55,203,64,67,175,65,189,226,179,209,155,55,86,56,56,105,235,71,55,135,85,140,85,183,166,66,82,107,153,87,120,98,66,134,132,230,158,185,108,162,74,215,128,170,168,134,170,180,100,160,172,65,98,104,132,129,172,229,66,155,108,106,157,113,58,65,91,113,167,90,87,114,102,141,157,158,58,200,90,69,59,136,150,198,102,180,111,170,75,106,204,208,108,103,100,60,76,100,72,236,70,162,115,79,74,78,115,76,130,75,108,205,180,60,141,77,92,64,87,214,150,56,166,142,141,81,119,86,101,89,99,91,136,67,180,83,77,77,68,98,58,53,119,195,152,154,198,146,61,117,69,81,160,55,200,205,190,166,215,67,160,97,75,78,86,91,219,125,56,128,53,89,55,240,118,250,79,210,250,91,206,152,136,123,60,200,154,250,96,98,151,152,86,237,75,107,191,158,74,87,75,75,75,75,75,75,75,75,75,75,75,75,75,75,75,75,75,75,75,75,75,75,75,75,75,200,98,193,142,194,250,200,201,75,137,123,107,104,110,139,170,109,196,105,153,129,136,90,193,223,122,92,97,70,75,75,84,105,92,151,242,60,139,96,70,69,74,228,79,160,83,98,124,187,208,215,150,123,117,136,56,124,85,112,245,230,95,85,186,200,250,64,208,208,208,208,83,160,250,111,93,83,180,200,186,57,148,185,93,217,109,208,66,56,85,123,161,79,192,180,108,150,235,144,106,102,60,116,119,96,84,93,91,92,214,86,83,86,85,173,200,100,70,53,81,219,57,90,196,74,56,77,85,82,119,170,107,164,164,166,92,84,98,238,208,184,150,54,70,188,57,240,56,236,102,231,83,164,83,86,239,95,101,187,180,106,217,191,250,160,184,180,56,176,107,165,200,97,130,149,150,57,103,182,100,138,69,54,92,56,55,160,54,56,138,158,220,191,188,65,142,151,68,149,84,221,76,57,86,130,164,73,66,65,54,170,98,181,91,120,182,116,94,103,80,155,67,73,126,67,181,178,68,201,71,119,75,66,76,56,136,106,110,109,226,239,112,92,58,100,102,83,124,103,66,68,112,96,69,74,248,168,66,60,125,65,134,85,128,90,72,129,72,120,87,92,92,175,69,217,54,166,158,119,224,91,181,237,151,85,155,122,227,78,97,68,64,146,60,63,59,108,131,108,118,147,94,66,148,170,54,87,73,60,59,69,80,139,149,205,68,161,140,84,119,66,87,121,77,61,129,173,153,174,78,68,87,74,115,119,53,65,134,239,126,91,110,120,145,169,101,209,73,71,80,199,79,118,93,126,64,109,53,151,60,72,97,104,105,103,124,94,110,55,97,140,149,66,172,73,144,199,119,210,250,60,74,67,86,56,73,162,135,75,65,74,54,172,81,153,189,97,84,197,72,105,183,91,123,58,60,92,122,83,229,165,55,58,99,66,76,88,76,90,69,76,57,159,163,61,70,66,131,68,69,151,70,152,70,85,75,101,65,66,66,79,77,238,232,72,95,120,60,102,73,75,148,151,105,116,170,69,184,94,124,71,100,108,194,134,93,136,143,55,66,115,71,139,130,80,61,83,79,103,67,68,101,146,65,90,60,133,80,121,70,84,124,98,87,200,160,226,89,173,154,240,161,210,69,250,93,126,59,66,72,102,156,90,200,234,121,134,67,102,100,109,178,113,162,60,73,71,95,100,85,93,118,58,143,248,88,81,80,162,130,137,68,209,126,91,66,131,114,54],\"yaxis\":\"y\",\"type\":\"scatter\"},{\"hovertemplate\":\"<b>OLS trendline</b><br>Metro quadrado = 0.000108295 * Pre\\u00e7o + 56.2739<br>R<sup>2</sup>=0.392120<br><br>Pre\\u00e7o=%{x}<br>Metro quadrado=%{y} <b>(trend)</b><extra></extra>\",\"legendgroup\":\"\",\"line\":{\"color\":\"red\"},\"marker\":{\"color\":\"#636efa\",\"symbol\":\"circle\"},\"mode\":\"lines\",\"name\":\"\",\"showlegend\":false,\"x\":[239550.63,239550.63,239550.63,239550.63,239550.63,240982.33,241546.88,242302.87,242302.87,242302.87,242302.87,242302.87,242545.0,242774.57,247350.84,247350.84,249531.9,249531.9,249531.9,249531.9,249531.9,249531.9,249531.9,249531.9,249531.9,249531.9,251389.23,252398.8,252398.8,252398.8,252398.8,252398.8,252398.8,252398.8,254522.54,254522.54,254522.54,254714.27,256437.19,258456.37,258515.04,259513.19,259513.19,259513.19,259513.19,259513.19,259513.19,262494.77,263504.37,263504.37,264503.81,264503.81,264503.81,265921.68,265965.09,266940.53,266940.53,267542.73,267542.73,267959.38,267959.38,267959.38,268978.27,268978.27,268978.27,269494.46,269494.46,269494.46,269494.46,269494.46,269494.46,269494.46,269997.12,269997.12,271015.97,271015.97,271015.97,271581.13,272034.82,272590.73,272590.73,272590.73,272590.73,272590.73,272590.73,272590.73,272590.73,272590.73,274130.89,276629.09,277638.7,277638.7,277638.7,277638.7,279166.83,279166.83,279475.72,279475.72,279475.72,279475.72,279475.72,279475.72,280185.68,280185.68,281677.09,282223.41,282223.41,282686.67,282686.67,282686.67,282686.67,282686.67,282686.67,283242.26,283242.26,283242.26,284261.11,284261.11,284283.89,284466.37,284466.37,284466.37,285279.96,287460.77,287460.77,287734.66,287734.66,289457.01,289457.01,289457.01,289457.01,289457.01,289753.84,291268.25,291773.02,292782.63,292782.63,294447.66,294447.66,297830.6,297830.6,298440.15,298440.15,299438.28,299438.28,299438.28,299438.28,299438.28,299438.28,299438.28,299438.28,299438.28,299438.28,299438.28,299438.28,299438.28,299438.28,299519.14,300859.38,300859.38,302878.6,302878.6,302878.6,302878.6,302878.6,302878.6,302878.6,302878.6,302878.6,302878.6,302878.6,302878.6,302878.6,304589.88,304589.88,308421.45,309419.57,309419.57,309419.57,309419.57,312974.53,312974.53,312974.53,312974.53,312974.53,314410.19,314410.19,318022.53,318022.53,318392.73,319400.84,319400.84,319400.84,319400.84,319400.84,319400.84,319400.84,319400.84,319400.84,320041.71,321051.31,323070.49,323070.49,323070.49,323070.49,323070.49,323070.49,323070.49,328588.59,329382.13,329382.13,329382.13,329382.13,329382.13,329382.13,329382.13,330137.67,332156.85,332661.66,333166.46,333166.46,333166.46,333166.46,333166.46,333166.46,333166.46,334372.75,337204.82,339224.03,339353.41,339363.39,339363.39,339363.39,339363.39,339363.39,339995.34,340233.61,343262.39,344272.0,347348.41,348145.82,348310.39,348346.53,348346.53,349344.66,349344.66,349344.66,349344.66,349344.66,349344.66,349344.66,349344.66,349344.66,349344.66,349344.66,352348.75,353358.36,353358.36,353358.36,353358.36,353358.36,353358.36,353358.36,353358.36,353358.36,353358.36,357931.56,358406.32,359325.95,359325.95,359325.95,359325.95,359325.95,359325.95,359325.95,359325.95,359325.95,362694.08,363454.32,363454.32,363454.32,363454.32,363454.32,364316.6,364316.6,364316.6,364316.6,364316.6,364316.6,365507.86,367310.97,369307.22,369307.22,369307.22,369307.22,369307.22,369307.22,369307.22,369307.22,369307.22,369307.22,369307.22,373550.26,373550.26,374297.86,374297.86,374297.86,374297.86,374297.86,374297.86,374297.86,374559.86,376432.64,376579.04,378290.39,378290.39,378290.39,378598.22,378598.22,379288.51,379288.51,379288.51,379288.51,379288.51,379288.51,379288.51,379288.51,379288.51,379288.51,379288.51,381284.76,383646.22,383646.22,383646.22,383646.22,384279.13,384279.13,384279.13,387273.53,388271.65,388557.89,388694.19,388694.19,389269.77,389269.77,389269.77,389269.77,393742.15,393742.15,393742.15,393742.15,394260.42,394260.42,394260.42,398252.92,398790.15,398790.15,399250.05,399251.07,399251.07,399251.07,399251.07,399251.07,399251.07,399251.07,399251.07,399251.07,399251.07,399251.07,399251.07,399251.07,399251.07,399251.07,403838.12,403838.12,403838.12,403838.12,403838.12,404241.69,404241.69,405239.81,406030.95,409232.33,409232.33,413833.1,414222.98,414222.98,418982.05,418982.05,419113.8,419213.6,419213.6,419213.6,419213.6,421001.23,423206.12,424030.02,424030.02,424030.02,424030.02,424030.02,424030.02,424030.02,424030.02,424204.24,424204.24,424204.24,424204.24,424204.24,424534.82,428068.41,428196.77,429078.02,429078.02,429194.89,429194.89,429194.89,429194.89,429194.89,429194.89,433014.24,434125.98,434125.98,434125.98,434125.98,434125.98,434185.54,434185.54,437179.91,438178.03,438770.13,439176.16,439176.16,439176.16,439176.16,444166.8,444166.8,444221.95,444221.95,444221.95,444221.95,444221.95,444649.89,448159.33,449157.45,449157.45,449157.45,449157.45,449157.45,449157.45,449157.45,449157.45,449157.45,449157.45,449157.45,449157.45,449157.45,449157.45,449157.45,449157.45,449157.45,449157.45,449157.45,449157.45,451153.7,451153.7,454317.88,454317.88,454317.88,454317.88,454317.88,454317.88,454317.88,454317.88,454317.88,456884.82,458140.59,458862.23,459138.71,459138.71,464129.36,464413.85,465423.45,466125.61,469120.01,469120.01,469120.01,469120.01,469461.81,472490.6,472490.6,474110.62,474110.62,474110.62,474110.62,474509.81,479101.27,479101.27,479101.27,479101.27,479101.27,479101.27,479101.27,479101.27,479557.78,480567.38,484605.74,484605.74,484605.74,484605.74,484605.74,486179.01,489082.54,489082.54,489082.54,489653.71,489653.71,493692.1,494073.18,494073.18,494701.71,494701.71,494701.71,494701.71,497067.58,497496.8,499063.83,499063.83,499063.83,499063.83,499063.83,499063.83,504797.64,504797.64,508046.97,509845.64,518555.43,519026.39,519026.39,519026.39,522145.15,524888.59,524989.57,524989.57,529007.65,529007.65,529007.65,529007.65,529007.65,529007.65,529007.65,529007.65,529007.65,529007.65,530037.54,533998.3,534986.44,535085.5,535085.5,535304.83,537104.72,538988.95,538988.95,538988.95,540943.26,540985.19,545181.47,547972.09,547972.09,548970.21,548970.21,548970.21,548970.21,548970.21,548970.21,548970.21,548970.21,548970.21,548970.21,548970.21,552753.1,553960.86,555277.43,555277.43,555277.43,555277.43,555277.43,558302.7,558951.47,560325.4,560947.75,561335.01,562944.0,563942.12,565373.37,565373.37,568720.16,568932.77,568932.77,568932.77,568932.77,570421.37,571430.94,572440.55,573923.39,575469.33,578914.03,578914.03,578914.03,578914.03,578914.03,578914.03,578914.03,578914.03,585565.3,585565.3,585565.3,585565.3,585565.3,588594.08,588873.77,588873.77,588895.33,588895.33,588895.33,588895.33,588895.33,590613.26,590613.26,590937.09,598876.59,598876.59,598876.59,598876.59,598876.59,598876.59,598876.59,598876.59,598876.59,598876.59,598876.59,600709.23,605757.2,605757.2,605757.2,607959.56,608164.46,610805.16,614288.44,616862.74,618839.15,618839.15,620835.4,620901.13,622432.39,625949.09,625949.09,628819.42,628820.41,628820.41,628820.41,628820.41,628820.41,631315.74,634809.18,636045.06,636045.06,638801.71,638801.71,638801.71,642102.63,642102.63,643792.32,644121.81,646140.99,648782.97,648782.97,648782.97,648782.97,648782.97,648782.97,648782.97,648782.97,648782.97,648782.97,648782.97,648782.97,648782.97,648782.97,648782.97,648782.97,648782.97,648782.97,656236.96,656236.96,656236.96,656236.96,656236.96,658764.27,663125.08,666332.92,667747.41,668745.53,668745.53,668745.53,673736.18,676428.86,678726.79,678726.79,678726.79,678726.79,678726.79,678726.79,678726.79,678726.79,681476.85,685713.69,686524.82,686524.82,686524.82,687517.31,688708.09,688708.09,696620.79,697691.23,697691.23,698639.97,698689.35,698689.35,698689.35,698689.35,698689.35,698689.35,698689.35,698689.35,706716.72,706716.72,706716.72,706716.72,708670.65,717356.86,718651.91,718651.91,718651.91,722644.44,726908.65,728633.21,730664.32,731015.72,733623.82,733623.82,735320.65,737004.58,737004.58,738614.47,738614.47,738614.47,743605.12,747100.55,747100.55,748595.73,748595.73,748595.73,748595.73,748595.73,748595.73,748595.73,748595.73,748595.73,748595.73,748595.73,748595.73,749593.89,751825.46,757196.48,757196.48,757196.48,757196.48,757196.48,757196.48,757196.48,757196.48,758577.03,761474.7,762244.48,763567.68,768558.29,768558.29,768558.29,777541.46,778539.59,778539.59,778539.59,778539.59,778539.59,784029.28,788520.85,791515.25,793511.5,796505.87,797580.31,798502.15,798502.15,798502.15,798502.15,798502.15,798502.15,798502.15,798502.15,802628.28,807676.27,807676.27,808483.41,808483.41,818464.67,818464.67,818464.67,819240.24,822162.73,827868.17,828445.97,828445.97,828445.97,829444.09,832916.14,836430.98,837964.14,848408.53,848408.53,848408.53,848408.53,848408.53,848408.53,848408.53,848408.53,848408.53,848408.53,848408.53,848408.53,848408.53,848408.53,848408.53,848408.53,852401.02,856136.82,858389.79,858806.6,865070.26,866028.53,868251.97,868371.08,873361.7,878352.35,888333.61,898314.91,898314.91,898314.91,898314.91,898314.91,898314.91,898314.91,898314.91,898539.83,898539.83,906616.62,908296.17,908635.8,908635.8,908635.8,918277.46,918277.46,918277.46,918277.46,918277.46,920750.94,923268.08,938240.02,948221.29,948221.29,948221.29,948221.29,948221.29,948221.29,958202.55,959115.56,959115.56,959115.56,959115.56,959115.56,960247.73,978165.11,978165.11,978165.11,988146.4,988146.4,988146.4,988146.4,988146.4,989403.42,998127.67,998127.67,998127.67,998127.67,998127.67,998127.67,1009595.32,1009595.32,1010360.71,1048034.05,1048034.05,1048034.05,1048034.05,1048034.05,1058318.76,1077977.9,1096942.3,1097940.43,1097940.43,1097940.43,1097940.43,1097940.43,1097940.43,1097940.43,1097940.43,1097940.43,1097940.43,1097940.43,1110554.87,1110554.87,1110554.87,1114908.62,1116829.6,1141852.31,1144881.1,1147846.81,1147846.81,1147846.81,1147846.81,1161034.64,1162044.24,1167809.37,1177790.66,1177790.66,1197753.22,1197753.22,1197753.22,1197753.22,1197753.22,1197753.22,1197753.22,1211514.4,1221610.36,1222619.94,1247659.6,1247659.6,1247659.6,1247659.6,1247659.6,1261994.16,1261994.16,1272612.78,1277603.42,1297565.98,1297565.98,1297565.98,1297565.98,1302377.99,1317521.92,1331678.99,1345476.12,1347472.36,1349987.64,1362953.71,1377416.18,1380921.47,1397378.74,1397378.74,1397378.74,1397378.74,1397378.74,1397378.74,1413433.48,1413433.48,1414505.01,1426558.23,1447285.12,1447285.12,1487210.24,1497191.5,1497191.5,1497191.5,1504297.06,1514393.0,1522144.71,1593547.76,1595160.62,1597004.3,1597004.3,1597004.3,1616966.85],\"xaxis\":\"x\",\"y\":[82.21603347547693,82.21603347547693,82.21603347547693,82.21603347547693,82.21603347547693,82.37107914071748,82.43221697008926,82.51408675598378,82.51408675598378,82.51408675598378,82.51408675598378,82.51408675598378,82.54030817592141,82.56516941317034,83.06075565782383,83.06075565782383,83.29695311443456,83.29695311443456,83.29695311443456,83.29695311443456,83.29695311443456,83.29695311443456,83.29695311443456,83.29695311443456,83.29695311443456,83.29695311443456,83.49809229542308,83.60742347671588,83.60742347671588,83.60742347671588,83.60742347671588,83.60742347671588,83.60742347671588,83.60742347671588,83.83741347538738,83.83741347538738,83.83741347538738,83.85817683740217,84.04476011431511,84.26342680869273,84.26978046461203,84.37787491928819,84.37787491928819,84.37787491928819,84.37787491928819,84.37787491928819,84.37787491928819,84.70076452923996,84.81009895937677,84.81009895937677,84.91833311434502,84.91833311434502,84.91833311434502,85.0718810625008,85.07658213977123,85.18221721953813,85.18221721953813,85.24743234813201,85.24743234813201,85.29255337657546,85.29255337657546,85.29255337657546,85.40289386540479,85.40289386540479,85.40289386540479,85.45879455824583,85.45879455824583,85.45879455824583,85.45879455824583,85.45879455824583,85.45879455824583,85.45879455824583,85.51323002244212,85.51323002244212,85.62356617947944,85.62356617947944,85.62356617947944,85.68477006867924,85.73390233651676,85.79410449881604,85.79410449881604,85.79410449881604,85.79410449881604,85.79410449881604,85.79410449881604,85.79410449881604,85.79410449881604,85.79410449881604,85.96089581807071,86.23143788757129,86.34077340065609,86.34077340065609,86.34077340065609,86.34077340065609,86.50626193346608,86.50626193346608,86.53971311425545,86.53971311425545,86.53971311425545,86.53971311425545,86.53971311425545,86.53971311425545,86.6165980905034,86.6165980905034,86.77811003825533,86.83727365342207,86.83727365342207,86.88744230249614,86.88744230249614,86.88744230249614,86.88744230249614,86.88744230249614,86.88744230249614,86.9476098104594,86.9476098104594,86.9476098104594,87.05794596749672,87.05794596749672,87.06041292304201,87.08017455815627,87.08017455815627,87.08017455815627,87.16828212453406,87.40445250744477,87.40445250744477,87.43411337023218,87.43411337023218,87.6206349191091,87.6206349191091,87.6206349191091,87.6206349191091,87.6206349191091,87.6527800646098,87.81678279276301,87.87144675898742,87.98078227207222,87.98078227207222,88.1610963630099,88.1610963630099,88.52745117391225,88.52745117391225,88.59346226928656,88.59346226928656,88.70155455806673,88.70155455806673,88.70155455806673,88.70155455806673,88.70155455806673,88.70155455806673,88.70155455806673,88.70155455806673,88.70155455806673,88.70155455806673,88.70155455806673,88.70155455806673,88.70155455806673,88.70155455806673,88.71031127559928,88.85545229842668,88.85545229842668,89.07412332459631,89.07412332459631,89.07412332459631,89.07412332459631,89.07412332459631,89.07412332459631,89.07412332459631,89.07412332459631,89.07412332459631,89.07412332459631,89.07412332459631,89.07412332459631,89.07412332459631,89.2594460500366,89.2594460500366,89.6743851570882,89.78247636292036,89.78247636292036,89.78247636292036,89.78247636292036,90.1674600453284,90.1674600453284,90.1674600453284,90.1674600453284,90.1674600453284,90.32293455797718,90.32293455797718,90.71413219601244,90.71413219601244,90.75422293099327,90.86339600187799,90.86339600187799,90.86339600187799,90.86339600187799,90.86339600187799,90.86339600187799,90.86339600187799,90.86339600187799,90.86339600187799,90.93279889039006,91.04213332052686,91.26080001490448,91.26080001490448,91.26080001490448,91.26080001490448,91.26080001490448,91.26080001490448,91.26080001490448,91.85838155109498,91.94431780673162,91.94431780673162,91.94431780673162,91.94431780673162,91.94431780673162,91.94431780673162,91.94431780673162,92.02613885996614,92.24480555434376,92.29947385236017,92.35414106742857,92.35414106742857,92.35414106742857,92.35414106742857,92.35414106742857,92.35414106742857,92.35414106742857,92.48477600178845,92.7914744561838,93.01014439940542,93.02415558063669,93.02523636274125,93.02523636274125,93.02523636274125,93.02523636274125,93.02523636274125,93.09367326163682,93.11947666364622,93.44747778816065,93.55681330124546,93.88997250708655,93.97632786359944,93.9941499388447,93.99806371291874,93.99806371291874,94.10615600169889,94.10615600169889,94.10615600169889,94.10615600169889,94.10615600169889,94.10615600169889,94.10615600169889,94.10615600169889,94.10615600169889,94.10615600169889,94.10615600169889,94.43148332759992,94.54081884068474,94.54081884068474,94.54081884068474,94.54081884068474,94.54081884068474,94.54081884068474,94.54081884068474,94.54081884068474,94.54081884068474,94.54081884068474,95.03607262030206,95.08748665957678,95.18707780655254,95.18707780655254,95.18707780655254,95.18707780655254,95.18707780655254,95.18707780655254,95.18707780655254,95.18707780655254,95.18707780655254,95.55182877146605,95.63415881026083,95.63415881026083,95.63415881026083,95.63415881026083,95.63415881026083,95.72753925045333,95.72753925045333,95.72753925045333,95.72753925045333,95.72753925045333,95.72753925045333,95.85654651396837,96.05181395089784,96.26799744551016,96.26799744551016,96.26799744551016,96.26799744551016,96.26799744551016,96.26799744551016,96.26799744551016,96.26799744551016,96.26799744551016,96.26799744551016,96.26799744551016,96.72749661394091,96.72749661394091,96.80845780646297,96.80845780646297,96.80845780646297,96.80845780646297,96.80845780646297,96.80845780646297,96.80845780646297,96.83683104407771,97.0396433797271,97.05549773845533,97.24082804453164,97.24082804453164,97.24082804453164,97.27416443283295,97.27416443283295,97.34891925036379,97.34891925036379,97.34891925036379,97.34891925036379,97.34891925036379,97.34891925036379,97.34891925036379,97.34891925036379,97.34891925036379,97.34891925036379,97.34891925036379,97.56510274497612,97.82083658351699,97.82083658351699,97.82083658351699,97.82083658351699,97.88937744542062,97.88937744542062,97.88937744542062,98.21365539470911,98.32174660054127,98.35274490410937,98.36750548535704,98.36750548535704,98.42983780637343,98.42983780637343,98.42983780637343,98.42983780637343,98.91417330424909,98.91417330424909,98.91417330424909,98.91417330424909,98.97029925027425,98.97029925027425,98.97029925027425,99.4026662394989,99.46084545493312,99.46084545493312,99.510650233479,99.51076069417506,99.51076069417506,99.51076069417506,99.51076069417506,99.51076069417506,99.51076069417506,99.51076069417506,99.51076069417506,99.51076069417506,99.51076069417506,99.51076069417506,99.51076069417506,99.51076069417506,99.51076069417506,99.51076069417506,100.00751435677317,100.00751435677317,100.00751435677317,100.00751435677317,100.00751435677317,100.05121888923188,100.05121888923188,100.15931009506404,100.24498644318055,100.5916792501847,100.5916792501847,101.08991871743957,101.1321406940855,101.1321406940855,101.6475232281893,101.6475232281893,101.6617910680967,101.67259888914234,101.67259888914234,101.67259888914234,101.67259888914234,101.86618992256692,102.10496804426299,102.19419213002934,102.19419213002934,102.19419213002934,102.19419213002934,102.19419213002934,102.19419213002934,102.19419213002934,102.19419213002934,102.21305925009514,102.21305925009514,102.21305925009514,102.21305925009514,102.21305925009514,102.24885934509774,102.63152876762857,102.6454294881638,102.7408642807134,102.7408642807134,102.75352069399597,102.75352069399597,102.75352069399597,102.75352069399597,102.75352069399597,102.75352069399597,103.16713643859087,103.28753209960543,103.28753209960543,103.28753209960543,103.28753209960543,103.28753209960543,103.29398213789678,103.29398213789678,103.61825683834127,103.72634804417343,103.79046939528675,103.83444033295359,103.83444033295359,103.83444033295359,103.83444033295359,104.37490069390641,104.37490069390641,104.38087315212951,104.38087315212951,104.38087315212951,104.38087315212951,104.38087315212951,104.4272168288656,104.80727093197507,104.91536213780722,104.91536213780722,104.91536213780722,104.91536213780722,104.91536213780722,104.91536213780722,104.91536213780722,104.91536213780722,104.91536213780722,104.91536213780722,104.91536213780722,104.91536213780722,104.91536213780722,104.91536213780722,104.91536213780722,104.91536213780722,104.91536213780722,104.91536213780722,104.91536213780722,104.91536213780722,105.13154563241956,105.13154563241956,105.47420987286159,105.47420987286159,105.47420987286159,105.47420987286159,105.47420987286159,105.47420987286159,105.47420987286159,105.47420987286159,105.47420987286159,105.75219612691804,105.8881894879847,105.9663393474973,105.99628069381686,105.99628069381686,106.53674213771768,106.56755092538569,106.6768853555225,106.75292563233,107.0772035816185,107.0772035816185,107.0772035816185,107.0772035816185,107.11421874427774,107.44222095174015,107.44222095174015,107.61766069372732,107.61766069372732,107.61766069372732,107.61766069372732,107.66089089496177,108.15812213762814,108.15812213762814,108.15812213762814,108.15812213762814,108.15812213762814,108.15812213762814,108.15812213762814,108.15812213762814,108.20755979680182,108.31689422693863,108.75422761569385,108.75422761569385,108.75422761569385,108.75422761569385,108.75422761569385,108.92460457577839,109.23904177658576,109.23904177658576,109.23904177658576,109.30089651753391,109.30089651753391,109.73823315513314,109.77950213753857,109.77950213753857,109.84756866821795,109.84756866821795,109.84756866821795,109.84756866821795,110.10378008682707,110.15026238090722,110.3199635814394,110.3199635814394,110.3199635814394,110.3199635814394,110.3199635814394,110.3199635814394,110.94090538895003,110.94090538895003,111.29279093161686,111.48757753963407,112.43080250621617,112.48180502525067,112.48180502525067,112.48180502525067,112.81955051587416,113.11665080214053,113.1275864110502,113.1275864110502,113.5627235812603,113.5627235812603,113.5627235812603,113.5627235812603,113.5627235812603,113.5627235812603,113.5627235812603,113.5627235812603,113.5627235812603,113.5627235812603,113.67425531289025,114.10318502516111,114.21019544888871,114.22092313178229,114.22092313178229,114.24467543027862,114.43959415795192,114.64364646906193,114.64364646906193,114.64364646906193,114.8552880797599,114.85982888072625,115.31426418430638,115.61647381923939,115.61647381923939,115.72456502507157,115.72456502507157,115.72456502507157,115.72456502507157,115.72456502507157,115.72456502507157,115.72456502507157,115.72456502507157,115.72456502507157,115.72456502507157,115.72456502507157,116.13423234125642,116.26502646897238,116.40760415388246,116.40760415388246,116.40760415388246,116.40760415388246,116.40760415388246,116.73522516364869,116.80548358108119,116.95427305572251,117.02167032453752,117.06360856880733,117.23785381914985,117.34594502498202,117.50094195756255,117.50094195756255,117.86338191144287,117.88640646888283,117.88640646888283,117.88640646888283,117.88640646888283,118.04761410824659,118.1569452895394,118.26628080262421,118.42686466393965,118.59428192713864,118.96732502489246,118.96732502489246,118.96732502489246,118.96732502489246,118.96732502489246,118.96732502489246,118.96732502489246,118.96732502489246,119.68762297966273,119.68762297966273,119.68762297966273,119.68762297966273,119.68762297966273,120.01562410417714,120.04591307680488,120.04591307680488,120.0482479126941,120.0482479126941,120.0482479126941,120.0482479126941,120.0482479126941,120.23429079855477,120.23429079855477,120.26935990365698,121.12916646870372,121.12916646870372,121.12916646870372,121.12916646870372,121.12916646870372,121.12916646870372,121.12916646870372,121.12916646870372,121.12916646870372,121.12916646870372,121.12916646870372,121.32763185107885,121.87430075291888,121.87430075291888,121.87430075291888,122.11280488877082,122.13499449330234,122.42096857181093,122.79818968295092,123.0769729867358,123.291007912515,123.291007912515,123.50719140712732,123.51430962433503,123.68013711986919,124.06097744322707,124.06097744322707,124.37181925667258,124.37192646852463,124.37192646852463,124.37192646852463,124.37192646852463,124.37192646852463,124.64215773194903,125.02047911825761,125.15431849575117,125.15431849575117,125.45284935632625,125.45284935632625,125.45284935632625,125.81032182772802,125.81032182772802,125.99330646843507,126.02898852210564,126.24765521648322,126.53376791233589,126.53376791233589,126.53376791233589,126.53376791233589,126.53376791233589,126.53376791233589,126.53376791233589,126.53376791233589,126.53376791233589,126.53376791233589,126.53376791233589,126.53376791233589,126.53376791233589,126.53376791233589,126.53376791233589,126.53376791233589,126.53376791233589,126.53376791233589,127.34099626900732,127.34099626900732,127.34099626900732,127.34099626900732,127.34099626900732,127.61469080013754,128.08694384717091,128.43433623858343,128.58751815031502,128.69560935614717,128.69560935614717,128.69560935614717,129.236070800048,129.5276740422635,129.7765279121568,129.7765279121568,129.7765279121568,129.7765279121568,129.7765279121568,129.7765279121568,129.7765279121568,129.7765279121568,130.07434510999954,130.53317285066993,130.62101401183958,130.62101401183958,130.62101401183958,130.72849551794744,130.85745079995843,130.85745079995843,131.71435506436367,131.8302781501359,131.8302781501359,131.9330217587413,131.93836935596806,131.93836935596806,131.93836935596806,131.93836935596806,131.93836935596806,131.93836935596806,131.93836935596806,131.93836935596806,132.80769178509576,132.80769178509576,132.80769178509576,132.80769178509576,133.0192922437697,133.95996361896647,134.10021079977935,134.10021079977935,134.10021079977935,134.532581037848,134.99437280719593,135.18113368758097,135.40109233892326,135.43914713166302,135.72159079968978,135.72159079968978,135.90534866526926,136.087709527928,136.087709527928,136.2620522435906,136.2620522435906,136.2620522435906,136.80251368749143,137.1810505804521,137.1810505804521,137.34297079960024,137.34297079960024,137.34297079960024,137.34297079960024,137.34297079960024,137.34297079960024,137.34297079960024,137.34297079960024,137.34297079960024,137.34297079960024,137.34297079960024,137.34297079960024,137.4510663372244,137.69273376418596,138.2743873011842,138.2743873011842,138.2743873011842,138.2743873011842,138.2743873011842,138.2743873011842,138.2743873011842,138.2743873011842,138.42389368740186,138.73769628068092,138.82105945186822,138.96435513130268,139.5048122434115,139.5048122434115,139.5048122434115,140.47764284243297,140.58573513121314,140.58573513121314,140.58573513121314,140.58573513121314,140.58573513121314,141.18024001213405,141.66665368722278,141.99093163651125,142.20711513112357,142.53138983156808,142.64774609654054,142.7475765750244,142.7475765750244,142.7475765750244,142.7475765750244,142.7475765750244,142.7475765750244,142.7475765750244,142.7475765750244,143.19441499838058,143.74108606611662,143.74108606611662,143.82849513103403,143.82849513103403,144.90941368704367,144.90941368704367,144.90941368704367,144.9934038851233,145.30989435533976,145.9277638393728,145.9903365748453,145.9903365748453,145.9903365748453,146.09842778067747,146.47443274121284,146.8550716362426,147.02110489189687,148.15217801865657,148.15217801865657,148.15217801865657,148.15217801865657,148.15217801865657,148.15217801865657,148.15217801865657,148.15217801865657,148.15217801865657,148.15217801865657,148.15217801865657,148.15217801865657,148.15217801865657,148.15217801865657,148.15217801865657,148.15217801865657,148.58454392493323,148.98911163898342,149.2330965746662,149.27823493027765,149.9565567375981,150.06033239564803,150.30111938588513,150.31401837951984,150.85447657457664,151.39493801847746,152.4758565744871,153.55677946228874,153.55677946228874,153.55677946228874,153.55677946228874,153.55677946228874,153.55677946228874,153.55677946228874,153.55677946228874,153.5811371287174,153.5811371287174,154.45581148686387,154.63769801829838,154.67447818124148,154.67447818124148,154.67447818124148,155.718619823152,155.718619823152,155.718619823152,155.718619823152,155.718619823152,155.98648484519518,156.2590780182088,157.88046126696327,158.96138090592092,158.96138090592092,158.96138090592092,158.96138090592092,158.96138090592092,158.96138090592092,160.04229946193055,160.14117369732992,160.14117369732992,160.14117369732992,160.14117369732992,160.14117369732992,160.2637818211096,162.2041409057418,162.2041409057418,162.2041409057418,163.28506271059544,163.28506271059544,163.28506271059544,163.28506271059544,163.28506271059544,163.42119144016218,164.36598234955306,164.36598234955306,164.36598234955306,164.36598234955306,164.36598234955306,164.36598234955306,165.60786921341833,165.60786921341833,165.6907569704334,169.77058379318524,169.77058379318524,169.77058379318524,169.77058379318524,169.77058379318524,170.88436440627194,173.01334704185012,175.06709294803724,175.1751852368174,175.1751852368174,175.1751852368174,175.1751852368174,175.1751852368174,175.1751852368174,175.1751852368174,175.1751852368174,175.1751852368174,175.1751852368174,175.1751852368174,176.54126349443922,176.54126349443922,176.54126349443922,177.0127519801842,177.22078412519627,179.93061350151228,180.2586157089747,180.5797866804496,180.5797866804496,180.5797866804496,180.5797866804496,182.00796009347562,182.11729452361246,182.74162812426084,183.82254992911447,183.82254992911447,185.98439137292573,185.98439137292573,185.98439137292573,185.98439137292573,185.98439137292573,185.98439137292573,185.98439137292573,187.47465560956405,188.56799557914016,188.67732784338094,191.3889928165579,191.3889928165579,191.3889928165579,191.3889928165579,191.3889928165579,192.9413511256525,192.9413511256525,194.091292455426,194.6317528163788,196.79359426019008,196.79359426019008,196.79359426019008,196.79359426019008,197.31470992100884,198.95471879242496,200.48785585745756,201.98201329215792,202.19819570382225,202.47058744850776,203.87474540667336,205.44095570364314,205.82056038333238,207.6027971474544,207.6027971474544,207.6027971474544,207.6027971474544,207.6027971474544,207.6027971474544,209.34144200570978,209.34144200570978,209.45748313281408,210.7627841827483,213.00739859108657,213.00739859108657,217.3310814787091,218.41200003471874,218.41200003471874,218.41200003471874,219.18149523420658,220.27483303788665,221.11430292243082,228.8468819455886,229.02154629680734,229.22120725377508,229.22120725377508,229.22120725377508,231.38304761463834],\"yaxis\":\"y\",\"type\":\"scatter\"}],                        {\"template\":{\"data\":{\"bar\":[{\"error_x\":{\"color\":\"#2a3f5f\"},\"error_y\":{\"color\":\"#2a3f5f\"},\"marker\":{\"line\":{\"color\":\"#E5ECF6\",\"width\":0.5},\"pattern\":{\"fillmode\":\"overlay\",\"size\":10,\"solidity\":0.2}},\"type\":\"bar\"}],\"barpolar\":[{\"marker\":{\"line\":{\"color\":\"#E5ECF6\",\"width\":0.5},\"pattern\":{\"fillmode\":\"overlay\",\"size\":10,\"solidity\":0.2}},\"type\":\"barpolar\"}],\"carpet\":[{\"aaxis\":{\"endlinecolor\":\"#2a3f5f\",\"gridcolor\":\"white\",\"linecolor\":\"white\",\"minorgridcolor\":\"white\",\"startlinecolor\":\"#2a3f5f\"},\"baxis\":{\"endlinecolor\":\"#2a3f5f\",\"gridcolor\":\"white\",\"linecolor\":\"white\",\"minorgridcolor\":\"white\",\"startlinecolor\":\"#2a3f5f\"},\"type\":\"carpet\"}],\"choropleth\":[{\"colorbar\":{\"outlinewidth\":0,\"ticks\":\"\"},\"type\":\"choropleth\"}],\"contour\":[{\"colorbar\":{\"outlinewidth\":0,\"ticks\":\"\"},\"colorscale\":[[0.0,\"#0d0887\"],[0.1111111111111111,\"#46039f\"],[0.2222222222222222,\"#7201a8\"],[0.3333333333333333,\"#9c179e\"],[0.4444444444444444,\"#bd3786\"],[0.5555555555555556,\"#d8576b\"],[0.6666666666666666,\"#ed7953\"],[0.7777777777777778,\"#fb9f3a\"],[0.8888888888888888,\"#fdca26\"],[1.0,\"#f0f921\"]],\"type\":\"contour\"}],\"contourcarpet\":[{\"colorbar\":{\"outlinewidth\":0,\"ticks\":\"\"},\"type\":\"contourcarpet\"}],\"heatmap\":[{\"colorbar\":{\"outlinewidth\":0,\"ticks\":\"\"},\"colorscale\":[[0.0,\"#0d0887\"],[0.1111111111111111,\"#46039f\"],[0.2222222222222222,\"#7201a8\"],[0.3333333333333333,\"#9c179e\"],[0.4444444444444444,\"#bd3786\"],[0.5555555555555556,\"#d8576b\"],[0.6666666666666666,\"#ed7953\"],[0.7777777777777778,\"#fb9f3a\"],[0.8888888888888888,\"#fdca26\"],[1.0,\"#f0f921\"]],\"type\":\"heatmap\"}],\"heatmapgl\":[{\"colorbar\":{\"outlinewidth\":0,\"ticks\":\"\"},\"colorscale\":[[0.0,\"#0d0887\"],[0.1111111111111111,\"#46039f\"],[0.2222222222222222,\"#7201a8\"],[0.3333333333333333,\"#9c179e\"],[0.4444444444444444,\"#bd3786\"],[0.5555555555555556,\"#d8576b\"],[0.6666666666666666,\"#ed7953\"],[0.7777777777777778,\"#fb9f3a\"],[0.8888888888888888,\"#fdca26\"],[1.0,\"#f0f921\"]],\"type\":\"heatmapgl\"}],\"histogram\":[{\"marker\":{\"pattern\":{\"fillmode\":\"overlay\",\"size\":10,\"solidity\":0.2}},\"type\":\"histogram\"}],\"histogram2d\":[{\"colorbar\":{\"outlinewidth\":0,\"ticks\":\"\"},\"colorscale\":[[0.0,\"#0d0887\"],[0.1111111111111111,\"#46039f\"],[0.2222222222222222,\"#7201a8\"],[0.3333333333333333,\"#9c179e\"],[0.4444444444444444,\"#bd3786\"],[0.5555555555555556,\"#d8576b\"],[0.6666666666666666,\"#ed7953\"],[0.7777777777777778,\"#fb9f3a\"],[0.8888888888888888,\"#fdca26\"],[1.0,\"#f0f921\"]],\"type\":\"histogram2d\"}],\"histogram2dcontour\":[{\"colorbar\":{\"outlinewidth\":0,\"ticks\":\"\"},\"colorscale\":[[0.0,\"#0d0887\"],[0.1111111111111111,\"#46039f\"],[0.2222222222222222,\"#7201a8\"],[0.3333333333333333,\"#9c179e\"],[0.4444444444444444,\"#bd3786\"],[0.5555555555555556,\"#d8576b\"],[0.6666666666666666,\"#ed7953\"],[0.7777777777777778,\"#fb9f3a\"],[0.8888888888888888,\"#fdca26\"],[1.0,\"#f0f921\"]],\"type\":\"histogram2dcontour\"}],\"mesh3d\":[{\"colorbar\":{\"outlinewidth\":0,\"ticks\":\"\"},\"type\":\"mesh3d\"}],\"parcoords\":[{\"line\":{\"colorbar\":{\"outlinewidth\":0,\"ticks\":\"\"}},\"type\":\"parcoords\"}],\"pie\":[{\"automargin\":true,\"type\":\"pie\"}],\"scatter\":[{\"marker\":{\"colorbar\":{\"outlinewidth\":0,\"ticks\":\"\"}},\"type\":\"scatter\"}],\"scatter3d\":[{\"line\":{\"colorbar\":{\"outlinewidth\":0,\"ticks\":\"\"}},\"marker\":{\"colorbar\":{\"outlinewidth\":0,\"ticks\":\"\"}},\"type\":\"scatter3d\"}],\"scattercarpet\":[{\"marker\":{\"colorbar\":{\"outlinewidth\":0,\"ticks\":\"\"}},\"type\":\"scattercarpet\"}],\"scattergeo\":[{\"marker\":{\"colorbar\":{\"outlinewidth\":0,\"ticks\":\"\"}},\"type\":\"scattergeo\"}],\"scattergl\":[{\"marker\":{\"colorbar\":{\"outlinewidth\":0,\"ticks\":\"\"}},\"type\":\"scattergl\"}],\"scattermapbox\":[{\"marker\":{\"colorbar\":{\"outlinewidth\":0,\"ticks\":\"\"}},\"type\":\"scattermapbox\"}],\"scatterpolar\":[{\"marker\":{\"colorbar\":{\"outlinewidth\":0,\"ticks\":\"\"}},\"type\":\"scatterpolar\"}],\"scatterpolargl\":[{\"marker\":{\"colorbar\":{\"outlinewidth\":0,\"ticks\":\"\"}},\"type\":\"scatterpolargl\"}],\"scatterternary\":[{\"marker\":{\"colorbar\":{\"outlinewidth\":0,\"ticks\":\"\"}},\"type\":\"scatterternary\"}],\"surface\":[{\"colorbar\":{\"outlinewidth\":0,\"ticks\":\"\"},\"colorscale\":[[0.0,\"#0d0887\"],[0.1111111111111111,\"#46039f\"],[0.2222222222222222,\"#7201a8\"],[0.3333333333333333,\"#9c179e\"],[0.4444444444444444,\"#bd3786\"],[0.5555555555555556,\"#d8576b\"],[0.6666666666666666,\"#ed7953\"],[0.7777777777777778,\"#fb9f3a\"],[0.8888888888888888,\"#fdca26\"],[1.0,\"#f0f921\"]],\"type\":\"surface\"}],\"table\":[{\"cells\":{\"fill\":{\"color\":\"#EBF0F8\"},\"line\":{\"color\":\"white\"}},\"header\":{\"fill\":{\"color\":\"#C8D4E3\"},\"line\":{\"color\":\"white\"}},\"type\":\"table\"}]},\"layout\":{\"annotationdefaults\":{\"arrowcolor\":\"#2a3f5f\",\"arrowhead\":0,\"arrowwidth\":1},\"autotypenumbers\":\"strict\",\"coloraxis\":{\"colorbar\":{\"outlinewidth\":0,\"ticks\":\"\"}},\"colorscale\":{\"diverging\":[[0,\"#8e0152\"],[0.1,\"#c51b7d\"],[0.2,\"#de77ae\"],[0.3,\"#f1b6da\"],[0.4,\"#fde0ef\"],[0.5,\"#f7f7f7\"],[0.6,\"#e6f5d0\"],[0.7,\"#b8e186\"],[0.8,\"#7fbc41\"],[0.9,\"#4d9221\"],[1,\"#276419\"]],\"sequential\":[[0.0,\"#0d0887\"],[0.1111111111111111,\"#46039f\"],[0.2222222222222222,\"#7201a8\"],[0.3333333333333333,\"#9c179e\"],[0.4444444444444444,\"#bd3786\"],[0.5555555555555556,\"#d8576b\"],[0.6666666666666666,\"#ed7953\"],[0.7777777777777778,\"#fb9f3a\"],[0.8888888888888888,\"#fdca26\"],[1.0,\"#f0f921\"]],\"sequentialminus\":[[0.0,\"#0d0887\"],[0.1111111111111111,\"#46039f\"],[0.2222222222222222,\"#7201a8\"],[0.3333333333333333,\"#9c179e\"],[0.4444444444444444,\"#bd3786\"],[0.5555555555555556,\"#d8576b\"],[0.6666666666666666,\"#ed7953\"],[0.7777777777777778,\"#fb9f3a\"],[0.8888888888888888,\"#fdca26\"],[1.0,\"#f0f921\"]]},\"colorway\":[\"#636efa\",\"#EF553B\",\"#00cc96\",\"#ab63fa\",\"#FFA15A\",\"#19d3f3\",\"#FF6692\",\"#B6E880\",\"#FF97FF\",\"#FECB52\"],\"font\":{\"color\":\"#2a3f5f\"},\"geo\":{\"bgcolor\":\"white\",\"lakecolor\":\"white\",\"landcolor\":\"#E5ECF6\",\"showlakes\":true,\"showland\":true,\"subunitcolor\":\"white\"},\"hoverlabel\":{\"align\":\"left\"},\"hovermode\":\"closest\",\"mapbox\":{\"style\":\"light\"},\"paper_bgcolor\":\"white\",\"plot_bgcolor\":\"#E5ECF6\",\"polar\":{\"angularaxis\":{\"gridcolor\":\"white\",\"linecolor\":\"white\",\"ticks\":\"\"},\"bgcolor\":\"#E5ECF6\",\"radialaxis\":{\"gridcolor\":\"white\",\"linecolor\":\"white\",\"ticks\":\"\"}},\"scene\":{\"xaxis\":{\"backgroundcolor\":\"#E5ECF6\",\"gridcolor\":\"white\",\"gridwidth\":2,\"linecolor\":\"white\",\"showbackground\":true,\"ticks\":\"\",\"zerolinecolor\":\"white\"},\"yaxis\":{\"backgroundcolor\":\"#E5ECF6\",\"gridcolor\":\"white\",\"gridwidth\":2,\"linecolor\":\"white\",\"showbackground\":true,\"ticks\":\"\",\"zerolinecolor\":\"white\"},\"zaxis\":{\"backgroundcolor\":\"#E5ECF6\",\"gridcolor\":\"white\",\"gridwidth\":2,\"linecolor\":\"white\",\"showbackground\":true,\"ticks\":\"\",\"zerolinecolor\":\"white\"}},\"shapedefaults\":{\"line\":{\"color\":\"#2a3f5f\"}},\"ternary\":{\"aaxis\":{\"gridcolor\":\"white\",\"linecolor\":\"white\",\"ticks\":\"\"},\"baxis\":{\"gridcolor\":\"white\",\"linecolor\":\"white\",\"ticks\":\"\"},\"bgcolor\":\"#E5ECF6\",\"caxis\":{\"gridcolor\":\"white\",\"linecolor\":\"white\",\"ticks\":\"\"}},\"title\":{\"x\":0.05},\"xaxis\":{\"automargin\":true,\"gridcolor\":\"white\",\"linecolor\":\"white\",\"ticks\":\"\",\"title\":{\"standoff\":15},\"zerolinecolor\":\"white\",\"zerolinewidth\":2},\"yaxis\":{\"automargin\":true,\"gridcolor\":\"white\",\"linecolor\":\"white\",\"ticks\":\"\",\"title\":{\"standoff\":15},\"zerolinecolor\":\"white\",\"zerolinewidth\":2}}},\"xaxis\":{\"anchor\":\"y\",\"domain\":[0.0,1.0],\"title\":{\"text\":\"Pre\\u00e7o\"}},\"yaxis\":{\"anchor\":\"x\",\"domain\":[0.0,1.0],\"title\":{\"text\":\"Metro quadrado\"}},\"legend\":{\"tracegroupgap\":0},\"margin\":{\"t\":60}},                        {\"responsive\": true}                    )                };                            </script>        </div>\n</body>\n</html>",
       "datasetInfos": [],
       "metadata": {},
       "removedWidgets": [],
       "textData": null,
       "type": "htmlSandbox"
      }
     },
     "output_type": "display_data"
    }
   ],
   "source": [
    "df_scatter_p2 = df.rename(columns={'price_brl': 'Preço'},)\n",
    "df_scatter_p2 = df_scatter_p2.rename(columns={'area_m2': 'Metro quadrado'},)\n",
    "df_scatter_p2.plot.scatter(x='Preço',y='Metro quadrado', trendline='ols', trendline_color_override = 'red')"
   ]
  },
  {
   "cell_type": "markdown",
   "metadata": {
    "application/vnd.databricks.v1+cell": {
     "cellMetadata": {
      "byteLimit": 2048000,
      "rowLimit": 10000
     },
     "inputWidgets": {},
     "nuid": "c52de2c9-5fb9-428e-8194-89d5543a639e",
     "showTitle": false,
     "title": ""
    }
   },
   "source": [
    "# Pergunta: Qual tipo de propriedade é mais cara?\n",
    "Resposta: Apartamentos, em média, são mais caros que casas."
   ]
  },
  {
   "cell_type": "markdown",
   "metadata": {
    "application/vnd.databricks.v1+cell": {
     "cellMetadata": {},
     "inputWidgets": {},
     "nuid": "6fa42ceb-2a39-406d-8548-441281f2ecf4",
     "showTitle": false,
     "title": ""
    }
   },
   "source": [
    "Cálculo do preço médio por tipo de propriedade ('property_type') e visualização em um gráfico de barras"
   ]
  },
  {
   "cell_type": "code",
   "execution_count": null,
   "metadata": {
    "application/vnd.databricks.v1+cell": {
     "cellMetadata": {
      "byteLimit": 2048000,
      "rowLimit": 10000
     },
     "inputWidgets": {},
     "nuid": "5da9b6f5-cb24-4fda-87cc-4f3aa5750b46",
     "showTitle": false,
     "title": ""
    }
   },
   "outputs": [
    {
     "data": {
      "text/html": [
       "<html>\n",
       "<head><meta charset=\"utf-8\" /></head>\n",
       "<body>\n",
       "    <div>            <script src=\"https://cdnjs.cloudflare.com/ajax/libs/mathjax/2.7.5/MathJax.js?config=TeX-AMS-MML_SVG\"></script><script type=\"text/javascript\">if (window.MathJax) {MathJax.Hub.Config({SVG: {font: \"STIX-Web\"}});}</script>                <script type=\"text/javascript\">window.PlotlyConfig = {MathJaxConfig: 'local'};</script>\n",
       "        <script src=\"https://cdn.plot.ly/plotly-2.9.0.min.js\"></script>                <div id=\"e78e8b86-c3a0-409c-87e5-3171c73556e8\" class=\"plotly-graph-div\" style=\"height:100%; width:100%;\"></div>            <script type=\"text/javascript\">                                    window.PLOTLYENV=window.PLOTLYENV || {};                                    if (document.getElementById(\"e78e8b86-c3a0-409c-87e5-3171c73556e8\")) {                    Plotly.newPlot(                        \"e78e8b86-c3a0-409c-87e5-3171c73556e8\",                        [{\"alignmentgroup\":\"True\",\"hovertemplate\":\"variable=price_brl<br>property_type=%{x}<br>value=%{y}<extra></extra>\",\"legendgroup\":\"price_brl\",\"marker\":{\"color\":\"#636efa\",\"pattern\":{\"shape\":\"\"}},\"name\":\"price_brl\",\"offsetgroup\":\"price_brl\",\"orientation\":\"v\",\"showlegend\":true,\"textposition\":\"auto\",\"x\":[\"house\",\"apartment\"],\"xaxis\":\"x\",\"y\":[598133.4404439941,683442.586846569],\"yaxis\":\"y\",\"type\":\"bar\"}],                        {\"template\":{\"data\":{\"bar\":[{\"error_x\":{\"color\":\"#2a3f5f\"},\"error_y\":{\"color\":\"#2a3f5f\"},\"marker\":{\"line\":{\"color\":\"#E5ECF6\",\"width\":0.5},\"pattern\":{\"fillmode\":\"overlay\",\"size\":10,\"solidity\":0.2}},\"type\":\"bar\"}],\"barpolar\":[{\"marker\":{\"line\":{\"color\":\"#E5ECF6\",\"width\":0.5},\"pattern\":{\"fillmode\":\"overlay\",\"size\":10,\"solidity\":0.2}},\"type\":\"barpolar\"}],\"carpet\":[{\"aaxis\":{\"endlinecolor\":\"#2a3f5f\",\"gridcolor\":\"white\",\"linecolor\":\"white\",\"minorgridcolor\":\"white\",\"startlinecolor\":\"#2a3f5f\"},\"baxis\":{\"endlinecolor\":\"#2a3f5f\",\"gridcolor\":\"white\",\"linecolor\":\"white\",\"minorgridcolor\":\"white\",\"startlinecolor\":\"#2a3f5f\"},\"type\":\"carpet\"}],\"choropleth\":[{\"colorbar\":{\"outlinewidth\":0,\"ticks\":\"\"},\"type\":\"choropleth\"}],\"contour\":[{\"colorbar\":{\"outlinewidth\":0,\"ticks\":\"\"},\"colorscale\":[[0.0,\"#0d0887\"],[0.1111111111111111,\"#46039f\"],[0.2222222222222222,\"#7201a8\"],[0.3333333333333333,\"#9c179e\"],[0.4444444444444444,\"#bd3786\"],[0.5555555555555556,\"#d8576b\"],[0.6666666666666666,\"#ed7953\"],[0.7777777777777778,\"#fb9f3a\"],[0.8888888888888888,\"#fdca26\"],[1.0,\"#f0f921\"]],\"type\":\"contour\"}],\"contourcarpet\":[{\"colorbar\":{\"outlinewidth\":0,\"ticks\":\"\"},\"type\":\"contourcarpet\"}],\"heatmap\":[{\"colorbar\":{\"outlinewidth\":0,\"ticks\":\"\"},\"colorscale\":[[0.0,\"#0d0887\"],[0.1111111111111111,\"#46039f\"],[0.2222222222222222,\"#7201a8\"],[0.3333333333333333,\"#9c179e\"],[0.4444444444444444,\"#bd3786\"],[0.5555555555555556,\"#d8576b\"],[0.6666666666666666,\"#ed7953\"],[0.7777777777777778,\"#fb9f3a\"],[0.8888888888888888,\"#fdca26\"],[1.0,\"#f0f921\"]],\"type\":\"heatmap\"}],\"heatmapgl\":[{\"colorbar\":{\"outlinewidth\":0,\"ticks\":\"\"},\"colorscale\":[[0.0,\"#0d0887\"],[0.1111111111111111,\"#46039f\"],[0.2222222222222222,\"#7201a8\"],[0.3333333333333333,\"#9c179e\"],[0.4444444444444444,\"#bd3786\"],[0.5555555555555556,\"#d8576b\"],[0.6666666666666666,\"#ed7953\"],[0.7777777777777778,\"#fb9f3a\"],[0.8888888888888888,\"#fdca26\"],[1.0,\"#f0f921\"]],\"type\":\"heatmapgl\"}],\"histogram\":[{\"marker\":{\"pattern\":{\"fillmode\":\"overlay\",\"size\":10,\"solidity\":0.2}},\"type\":\"histogram\"}],\"histogram2d\":[{\"colorbar\":{\"outlinewidth\":0,\"ticks\":\"\"},\"colorscale\":[[0.0,\"#0d0887\"],[0.1111111111111111,\"#46039f\"],[0.2222222222222222,\"#7201a8\"],[0.3333333333333333,\"#9c179e\"],[0.4444444444444444,\"#bd3786\"],[0.5555555555555556,\"#d8576b\"],[0.6666666666666666,\"#ed7953\"],[0.7777777777777778,\"#fb9f3a\"],[0.8888888888888888,\"#fdca26\"],[1.0,\"#f0f921\"]],\"type\":\"histogram2d\"}],\"histogram2dcontour\":[{\"colorbar\":{\"outlinewidth\":0,\"ticks\":\"\"},\"colorscale\":[[0.0,\"#0d0887\"],[0.1111111111111111,\"#46039f\"],[0.2222222222222222,\"#7201a8\"],[0.3333333333333333,\"#9c179e\"],[0.4444444444444444,\"#bd3786\"],[0.5555555555555556,\"#d8576b\"],[0.6666666666666666,\"#ed7953\"],[0.7777777777777778,\"#fb9f3a\"],[0.8888888888888888,\"#fdca26\"],[1.0,\"#f0f921\"]],\"type\":\"histogram2dcontour\"}],\"mesh3d\":[{\"colorbar\":{\"outlinewidth\":0,\"ticks\":\"\"},\"type\":\"mesh3d\"}],\"parcoords\":[{\"line\":{\"colorbar\":{\"outlinewidth\":0,\"ticks\":\"\"}},\"type\":\"parcoords\"}],\"pie\":[{\"automargin\":true,\"type\":\"pie\"}],\"scatter\":[{\"marker\":{\"colorbar\":{\"outlinewidth\":0,\"ticks\":\"\"}},\"type\":\"scatter\"}],\"scatter3d\":[{\"line\":{\"colorbar\":{\"outlinewidth\":0,\"ticks\":\"\"}},\"marker\":{\"colorbar\":{\"outlinewidth\":0,\"ticks\":\"\"}},\"type\":\"scatter3d\"}],\"scattercarpet\":[{\"marker\":{\"colorbar\":{\"outlinewidth\":0,\"ticks\":\"\"}},\"type\":\"scattercarpet\"}],\"scattergeo\":[{\"marker\":{\"colorbar\":{\"outlinewidth\":0,\"ticks\":\"\"}},\"type\":\"scattergeo\"}],\"scattergl\":[{\"marker\":{\"colorbar\":{\"outlinewidth\":0,\"ticks\":\"\"}},\"type\":\"scattergl\"}],\"scattermapbox\":[{\"marker\":{\"colorbar\":{\"outlinewidth\":0,\"ticks\":\"\"}},\"type\":\"scattermapbox\"}],\"scatterpolar\":[{\"marker\":{\"colorbar\":{\"outlinewidth\":0,\"ticks\":\"\"}},\"type\":\"scatterpolar\"}],\"scatterpolargl\":[{\"marker\":{\"colorbar\":{\"outlinewidth\":0,\"ticks\":\"\"}},\"type\":\"scatterpolargl\"}],\"scatterternary\":[{\"marker\":{\"colorbar\":{\"outlinewidth\":0,\"ticks\":\"\"}},\"type\":\"scatterternary\"}],\"surface\":[{\"colorbar\":{\"outlinewidth\":0,\"ticks\":\"\"},\"colorscale\":[[0.0,\"#0d0887\"],[0.1111111111111111,\"#46039f\"],[0.2222222222222222,\"#7201a8\"],[0.3333333333333333,\"#9c179e\"],[0.4444444444444444,\"#bd3786\"],[0.5555555555555556,\"#d8576b\"],[0.6666666666666666,\"#ed7953\"],[0.7777777777777778,\"#fb9f3a\"],[0.8888888888888888,\"#fdca26\"],[1.0,\"#f0f921\"]],\"type\":\"surface\"}],\"table\":[{\"cells\":{\"fill\":{\"color\":\"#EBF0F8\"},\"line\":{\"color\":\"white\"}},\"header\":{\"fill\":{\"color\":\"#C8D4E3\"},\"line\":{\"color\":\"white\"}},\"type\":\"table\"}]},\"layout\":{\"annotationdefaults\":{\"arrowcolor\":\"#2a3f5f\",\"arrowhead\":0,\"arrowwidth\":1},\"autotypenumbers\":\"strict\",\"coloraxis\":{\"colorbar\":{\"outlinewidth\":0,\"ticks\":\"\"}},\"colorscale\":{\"diverging\":[[0,\"#8e0152\"],[0.1,\"#c51b7d\"],[0.2,\"#de77ae\"],[0.3,\"#f1b6da\"],[0.4,\"#fde0ef\"],[0.5,\"#f7f7f7\"],[0.6,\"#e6f5d0\"],[0.7,\"#b8e186\"],[0.8,\"#7fbc41\"],[0.9,\"#4d9221\"],[1,\"#276419\"]],\"sequential\":[[0.0,\"#0d0887\"],[0.1111111111111111,\"#46039f\"],[0.2222222222222222,\"#7201a8\"],[0.3333333333333333,\"#9c179e\"],[0.4444444444444444,\"#bd3786\"],[0.5555555555555556,\"#d8576b\"],[0.6666666666666666,\"#ed7953\"],[0.7777777777777778,\"#fb9f3a\"],[0.8888888888888888,\"#fdca26\"],[1.0,\"#f0f921\"]],\"sequentialminus\":[[0.0,\"#0d0887\"],[0.1111111111111111,\"#46039f\"],[0.2222222222222222,\"#7201a8\"],[0.3333333333333333,\"#9c179e\"],[0.4444444444444444,\"#bd3786\"],[0.5555555555555556,\"#d8576b\"],[0.6666666666666666,\"#ed7953\"],[0.7777777777777778,\"#fb9f3a\"],[0.8888888888888888,\"#fdca26\"],[1.0,\"#f0f921\"]]},\"colorway\":[\"#636efa\",\"#EF553B\",\"#00cc96\",\"#ab63fa\",\"#FFA15A\",\"#19d3f3\",\"#FF6692\",\"#B6E880\",\"#FF97FF\",\"#FECB52\"],\"font\":{\"color\":\"#2a3f5f\"},\"geo\":{\"bgcolor\":\"white\",\"lakecolor\":\"white\",\"landcolor\":\"#E5ECF6\",\"showlakes\":true,\"showland\":true,\"subunitcolor\":\"white\"},\"hoverlabel\":{\"align\":\"left\"},\"hovermode\":\"closest\",\"mapbox\":{\"style\":\"light\"},\"paper_bgcolor\":\"white\",\"plot_bgcolor\":\"#E5ECF6\",\"polar\":{\"angularaxis\":{\"gridcolor\":\"white\",\"linecolor\":\"white\",\"ticks\":\"\"},\"bgcolor\":\"#E5ECF6\",\"radialaxis\":{\"gridcolor\":\"white\",\"linecolor\":\"white\",\"ticks\":\"\"}},\"scene\":{\"xaxis\":{\"backgroundcolor\":\"#E5ECF6\",\"gridcolor\":\"white\",\"gridwidth\":2,\"linecolor\":\"white\",\"showbackground\":true,\"ticks\":\"\",\"zerolinecolor\":\"white\"},\"yaxis\":{\"backgroundcolor\":\"#E5ECF6\",\"gridcolor\":\"white\",\"gridwidth\":2,\"linecolor\":\"white\",\"showbackground\":true,\"ticks\":\"\",\"zerolinecolor\":\"white\"},\"zaxis\":{\"backgroundcolor\":\"#E5ECF6\",\"gridcolor\":\"white\",\"gridwidth\":2,\"linecolor\":\"white\",\"showbackground\":true,\"ticks\":\"\",\"zerolinecolor\":\"white\"}},\"shapedefaults\":{\"line\":{\"color\":\"#2a3f5f\"}},\"ternary\":{\"aaxis\":{\"gridcolor\":\"white\",\"linecolor\":\"white\",\"ticks\":\"\"},\"baxis\":{\"gridcolor\":\"white\",\"linecolor\":\"white\",\"ticks\":\"\"},\"bgcolor\":\"#E5ECF6\",\"caxis\":{\"gridcolor\":\"white\",\"linecolor\":\"white\",\"ticks\":\"\"}},\"title\":{\"x\":0.05},\"xaxis\":{\"automargin\":true,\"gridcolor\":\"white\",\"linecolor\":\"white\",\"ticks\":\"\",\"title\":{\"standoff\":15},\"zerolinecolor\":\"white\",\"zerolinewidth\":2},\"yaxis\":{\"automargin\":true,\"gridcolor\":\"white\",\"linecolor\":\"white\",\"ticks\":\"\",\"title\":{\"standoff\":15},\"zerolinecolor\":\"white\",\"zerolinewidth\":2}}},\"xaxis\":{\"anchor\":\"y\",\"domain\":[0.0,1.0],\"title\":{\"text\":\"property_type\"}},\"yaxis\":{\"anchor\":\"x\",\"domain\":[0.0,1.0],\"title\":{\"text\":\"value\"}},\"legend\":{\"title\":{\"text\":\"variable\"},\"tracegroupgap\":0},\"margin\":{\"t\":60},\"barmode\":\"relative\"},                        {\"responsive\": true}                    )                };                            </script>        </div>\n",
       "</body>\n",
       "</html>"
      ]
     },
     "metadata": {
      "application/vnd.databricks.v1+output": {
       "addedWidgets": {},
       "arguments": {},
       "data": "<html>\n<head><meta charset=\"utf-8\" /></head>\n<body>\n    <div>            <script src=\"https://cdnjs.cloudflare.com/ajax/libs/mathjax/2.7.5/MathJax.js?config=TeX-AMS-MML_SVG\"></script><script type=\"text/javascript\">if (window.MathJax) {MathJax.Hub.Config({SVG: {font: \"STIX-Web\"}});}</script>                <script type=\"text/javascript\">window.PlotlyConfig = {MathJaxConfig: 'local'};</script>\n        <script src=\"https://cdn.plot.ly/plotly-2.9.0.min.js\"></script>                <div id=\"e78e8b86-c3a0-409c-87e5-3171c73556e8\" class=\"plotly-graph-div\" style=\"height:100%; width:100%;\"></div>            <script type=\"text/javascript\">                                    window.PLOTLYENV=window.PLOTLYENV || {};                                    if (document.getElementById(\"e78e8b86-c3a0-409c-87e5-3171c73556e8\")) {                    Plotly.newPlot(                        \"e78e8b86-c3a0-409c-87e5-3171c73556e8\",                        [{\"alignmentgroup\":\"True\",\"hovertemplate\":\"variable=price_brl<br>property_type=%{x}<br>value=%{y}<extra></extra>\",\"legendgroup\":\"price_brl\",\"marker\":{\"color\":\"#636efa\",\"pattern\":{\"shape\":\"\"}},\"name\":\"price_brl\",\"offsetgroup\":\"price_brl\",\"orientation\":\"v\",\"showlegend\":true,\"textposition\":\"auto\",\"x\":[\"house\",\"apartment\"],\"xaxis\":\"x\",\"y\":[598133.4404439941,683442.586846569],\"yaxis\":\"y\",\"type\":\"bar\"}],                        {\"template\":{\"data\":{\"bar\":[{\"error_x\":{\"color\":\"#2a3f5f\"},\"error_y\":{\"color\":\"#2a3f5f\"},\"marker\":{\"line\":{\"color\":\"#E5ECF6\",\"width\":0.5},\"pattern\":{\"fillmode\":\"overlay\",\"size\":10,\"solidity\":0.2}},\"type\":\"bar\"}],\"barpolar\":[{\"marker\":{\"line\":{\"color\":\"#E5ECF6\",\"width\":0.5},\"pattern\":{\"fillmode\":\"overlay\",\"size\":10,\"solidity\":0.2}},\"type\":\"barpolar\"}],\"carpet\":[{\"aaxis\":{\"endlinecolor\":\"#2a3f5f\",\"gridcolor\":\"white\",\"linecolor\":\"white\",\"minorgridcolor\":\"white\",\"startlinecolor\":\"#2a3f5f\"},\"baxis\":{\"endlinecolor\":\"#2a3f5f\",\"gridcolor\":\"white\",\"linecolor\":\"white\",\"minorgridcolor\":\"white\",\"startlinecolor\":\"#2a3f5f\"},\"type\":\"carpet\"}],\"choropleth\":[{\"colorbar\":{\"outlinewidth\":0,\"ticks\":\"\"},\"type\":\"choropleth\"}],\"contour\":[{\"colorbar\":{\"outlinewidth\":0,\"ticks\":\"\"},\"colorscale\":[[0.0,\"#0d0887\"],[0.1111111111111111,\"#46039f\"],[0.2222222222222222,\"#7201a8\"],[0.3333333333333333,\"#9c179e\"],[0.4444444444444444,\"#bd3786\"],[0.5555555555555556,\"#d8576b\"],[0.6666666666666666,\"#ed7953\"],[0.7777777777777778,\"#fb9f3a\"],[0.8888888888888888,\"#fdca26\"],[1.0,\"#f0f921\"]],\"type\":\"contour\"}],\"contourcarpet\":[{\"colorbar\":{\"outlinewidth\":0,\"ticks\":\"\"},\"type\":\"contourcarpet\"}],\"heatmap\":[{\"colorbar\":{\"outlinewidth\":0,\"ticks\":\"\"},\"colorscale\":[[0.0,\"#0d0887\"],[0.1111111111111111,\"#46039f\"],[0.2222222222222222,\"#7201a8\"],[0.3333333333333333,\"#9c179e\"],[0.4444444444444444,\"#bd3786\"],[0.5555555555555556,\"#d8576b\"],[0.6666666666666666,\"#ed7953\"],[0.7777777777777778,\"#fb9f3a\"],[0.8888888888888888,\"#fdca26\"],[1.0,\"#f0f921\"]],\"type\":\"heatmap\"}],\"heatmapgl\":[{\"colorbar\":{\"outlinewidth\":0,\"ticks\":\"\"},\"colorscale\":[[0.0,\"#0d0887\"],[0.1111111111111111,\"#46039f\"],[0.2222222222222222,\"#7201a8\"],[0.3333333333333333,\"#9c179e\"],[0.4444444444444444,\"#bd3786\"],[0.5555555555555556,\"#d8576b\"],[0.6666666666666666,\"#ed7953\"],[0.7777777777777778,\"#fb9f3a\"],[0.8888888888888888,\"#fdca26\"],[1.0,\"#f0f921\"]],\"type\":\"heatmapgl\"}],\"histogram\":[{\"marker\":{\"pattern\":{\"fillmode\":\"overlay\",\"size\":10,\"solidity\":0.2}},\"type\":\"histogram\"}],\"histogram2d\":[{\"colorbar\":{\"outlinewidth\":0,\"ticks\":\"\"},\"colorscale\":[[0.0,\"#0d0887\"],[0.1111111111111111,\"#46039f\"],[0.2222222222222222,\"#7201a8\"],[0.3333333333333333,\"#9c179e\"],[0.4444444444444444,\"#bd3786\"],[0.5555555555555556,\"#d8576b\"],[0.6666666666666666,\"#ed7953\"],[0.7777777777777778,\"#fb9f3a\"],[0.8888888888888888,\"#fdca26\"],[1.0,\"#f0f921\"]],\"type\":\"histogram2d\"}],\"histogram2dcontour\":[{\"colorbar\":{\"outlinewidth\":0,\"ticks\":\"\"},\"colorscale\":[[0.0,\"#0d0887\"],[0.1111111111111111,\"#46039f\"],[0.2222222222222222,\"#7201a8\"],[0.3333333333333333,\"#9c179e\"],[0.4444444444444444,\"#bd3786\"],[0.5555555555555556,\"#d8576b\"],[0.6666666666666666,\"#ed7953\"],[0.7777777777777778,\"#fb9f3a\"],[0.8888888888888888,\"#fdca26\"],[1.0,\"#f0f921\"]],\"type\":\"histogram2dcontour\"}],\"mesh3d\":[{\"colorbar\":{\"outlinewidth\":0,\"ticks\":\"\"},\"type\":\"mesh3d\"}],\"parcoords\":[{\"line\":{\"colorbar\":{\"outlinewidth\":0,\"ticks\":\"\"}},\"type\":\"parcoords\"}],\"pie\":[{\"automargin\":true,\"type\":\"pie\"}],\"scatter\":[{\"marker\":{\"colorbar\":{\"outlinewidth\":0,\"ticks\":\"\"}},\"type\":\"scatter\"}],\"scatter3d\":[{\"line\":{\"colorbar\":{\"outlinewidth\":0,\"ticks\":\"\"}},\"marker\":{\"colorbar\":{\"outlinewidth\":0,\"ticks\":\"\"}},\"type\":\"scatter3d\"}],\"scattercarpet\":[{\"marker\":{\"colorbar\":{\"outlinewidth\":0,\"ticks\":\"\"}},\"type\":\"scattercarpet\"}],\"scattergeo\":[{\"marker\":{\"colorbar\":{\"outlinewidth\":0,\"ticks\":\"\"}},\"type\":\"scattergeo\"}],\"scattergl\":[{\"marker\":{\"colorbar\":{\"outlinewidth\":0,\"ticks\":\"\"}},\"type\":\"scattergl\"}],\"scattermapbox\":[{\"marker\":{\"colorbar\":{\"outlinewidth\":0,\"ticks\":\"\"}},\"type\":\"scattermapbox\"}],\"scatterpolar\":[{\"marker\":{\"colorbar\":{\"outlinewidth\":0,\"ticks\":\"\"}},\"type\":\"scatterpolar\"}],\"scatterpolargl\":[{\"marker\":{\"colorbar\":{\"outlinewidth\":0,\"ticks\":\"\"}},\"type\":\"scatterpolargl\"}],\"scatterternary\":[{\"marker\":{\"colorbar\":{\"outlinewidth\":0,\"ticks\":\"\"}},\"type\":\"scatterternary\"}],\"surface\":[{\"colorbar\":{\"outlinewidth\":0,\"ticks\":\"\"},\"colorscale\":[[0.0,\"#0d0887\"],[0.1111111111111111,\"#46039f\"],[0.2222222222222222,\"#7201a8\"],[0.3333333333333333,\"#9c179e\"],[0.4444444444444444,\"#bd3786\"],[0.5555555555555556,\"#d8576b\"],[0.6666666666666666,\"#ed7953\"],[0.7777777777777778,\"#fb9f3a\"],[0.8888888888888888,\"#fdca26\"],[1.0,\"#f0f921\"]],\"type\":\"surface\"}],\"table\":[{\"cells\":{\"fill\":{\"color\":\"#EBF0F8\"},\"line\":{\"color\":\"white\"}},\"header\":{\"fill\":{\"color\":\"#C8D4E3\"},\"line\":{\"color\":\"white\"}},\"type\":\"table\"}]},\"layout\":{\"annotationdefaults\":{\"arrowcolor\":\"#2a3f5f\",\"arrowhead\":0,\"arrowwidth\":1},\"autotypenumbers\":\"strict\",\"coloraxis\":{\"colorbar\":{\"outlinewidth\":0,\"ticks\":\"\"}},\"colorscale\":{\"diverging\":[[0,\"#8e0152\"],[0.1,\"#c51b7d\"],[0.2,\"#de77ae\"],[0.3,\"#f1b6da\"],[0.4,\"#fde0ef\"],[0.5,\"#f7f7f7\"],[0.6,\"#e6f5d0\"],[0.7,\"#b8e186\"],[0.8,\"#7fbc41\"],[0.9,\"#4d9221\"],[1,\"#276419\"]],\"sequential\":[[0.0,\"#0d0887\"],[0.1111111111111111,\"#46039f\"],[0.2222222222222222,\"#7201a8\"],[0.3333333333333333,\"#9c179e\"],[0.4444444444444444,\"#bd3786\"],[0.5555555555555556,\"#d8576b\"],[0.6666666666666666,\"#ed7953\"],[0.7777777777777778,\"#fb9f3a\"],[0.8888888888888888,\"#fdca26\"],[1.0,\"#f0f921\"]],\"sequentialminus\":[[0.0,\"#0d0887\"],[0.1111111111111111,\"#46039f\"],[0.2222222222222222,\"#7201a8\"],[0.3333333333333333,\"#9c179e\"],[0.4444444444444444,\"#bd3786\"],[0.5555555555555556,\"#d8576b\"],[0.6666666666666666,\"#ed7953\"],[0.7777777777777778,\"#fb9f3a\"],[0.8888888888888888,\"#fdca26\"],[1.0,\"#f0f921\"]]},\"colorway\":[\"#636efa\",\"#EF553B\",\"#00cc96\",\"#ab63fa\",\"#FFA15A\",\"#19d3f3\",\"#FF6692\",\"#B6E880\",\"#FF97FF\",\"#FECB52\"],\"font\":{\"color\":\"#2a3f5f\"},\"geo\":{\"bgcolor\":\"white\",\"lakecolor\":\"white\",\"landcolor\":\"#E5ECF6\",\"showlakes\":true,\"showland\":true,\"subunitcolor\":\"white\"},\"hoverlabel\":{\"align\":\"left\"},\"hovermode\":\"closest\",\"mapbox\":{\"style\":\"light\"},\"paper_bgcolor\":\"white\",\"plot_bgcolor\":\"#E5ECF6\",\"polar\":{\"angularaxis\":{\"gridcolor\":\"white\",\"linecolor\":\"white\",\"ticks\":\"\"},\"bgcolor\":\"#E5ECF6\",\"radialaxis\":{\"gridcolor\":\"white\",\"linecolor\":\"white\",\"ticks\":\"\"}},\"scene\":{\"xaxis\":{\"backgroundcolor\":\"#E5ECF6\",\"gridcolor\":\"white\",\"gridwidth\":2,\"linecolor\":\"white\",\"showbackground\":true,\"ticks\":\"\",\"zerolinecolor\":\"white\"},\"yaxis\":{\"backgroundcolor\":\"#E5ECF6\",\"gridcolor\":\"white\",\"gridwidth\":2,\"linecolor\":\"white\",\"showbackground\":true,\"ticks\":\"\",\"zerolinecolor\":\"white\"},\"zaxis\":{\"backgroundcolor\":\"#E5ECF6\",\"gridcolor\":\"white\",\"gridwidth\":2,\"linecolor\":\"white\",\"showbackground\":true,\"ticks\":\"\",\"zerolinecolor\":\"white\"}},\"shapedefaults\":{\"line\":{\"color\":\"#2a3f5f\"}},\"ternary\":{\"aaxis\":{\"gridcolor\":\"white\",\"linecolor\":\"white\",\"ticks\":\"\"},\"baxis\":{\"gridcolor\":\"white\",\"linecolor\":\"white\",\"ticks\":\"\"},\"bgcolor\":\"#E5ECF6\",\"caxis\":{\"gridcolor\":\"white\",\"linecolor\":\"white\",\"ticks\":\"\"}},\"title\":{\"x\":0.05},\"xaxis\":{\"automargin\":true,\"gridcolor\":\"white\",\"linecolor\":\"white\",\"ticks\":\"\",\"title\":{\"standoff\":15},\"zerolinecolor\":\"white\",\"zerolinewidth\":2},\"yaxis\":{\"automargin\":true,\"gridcolor\":\"white\",\"linecolor\":\"white\",\"ticks\":\"\",\"title\":{\"standoff\":15},\"zerolinecolor\":\"white\",\"zerolinewidth\":2}}},\"xaxis\":{\"anchor\":\"y\",\"domain\":[0.0,1.0],\"title\":{\"text\":\"property_type\"}},\"yaxis\":{\"anchor\":\"x\",\"domain\":[0.0,1.0],\"title\":{\"text\":\"value\"}},\"legend\":{\"title\":{\"text\":\"variable\"},\"tracegroupgap\":0},\"margin\":{\"t\":60},\"barmode\":\"relative\"},                        {\"responsive\": true}                    )                };                            </script>        </div>\n</body>\n</html>",
       "datasetInfos": [],
       "metadata": {},
       "removedWidgets": [],
       "textData": null,
       "type": "htmlSandbox"
      }
     },
     "output_type": "display_data"
    }
   ],
   "source": [
    "preço_tipo = df.groupby('property_type')['price_brl'].mean()\n",
    "df_preço_tipo = ps.DataFrame(preço_tipo)\n",
    "df_preço_tipo.plot.bar()"
   ]
  },
  {
   "cell_type": "markdown",
   "metadata": {
    "application/vnd.databricks.v1+cell": {
     "cellMetadata": {
      "byteLimit": 2048000,
      "rowLimit": 10000
     },
     "inputWidgets": {},
     "nuid": "514eb750-fcae-479f-8332-61cc5f9a8456",
     "showTitle": false,
     "title": ""
    }
   },
   "source": [
    "# Pergunta: Em cada estado, mais casas ou apartamentos são vendidos?\n",
    "Resposta: Podemos observar que apartamentos são o tipo de propriedade mais vendida, tanto individualmente por estado, quanto no geral"
   ]
  },
  {
   "cell_type": "markdown",
   "metadata": {
    "application/vnd.databricks.v1+cell": {
     "cellMetadata": {},
     "inputWidgets": {},
     "nuid": "9d27cda4-522e-487b-b297-e0a9dd17f0b6",
     "showTitle": false,
     "title": ""
    }
   },
   "source": [
    "Visualização da quantidade de vendas de apartamentos e casas por estado em um gráfico de barras"
   ]
  },
  {
   "cell_type": "code",
   "execution_count": null,
   "metadata": {
    "application/vnd.databricks.v1+cell": {
     "cellMetadata": {
      "byteLimit": 2048000,
      "rowLimit": 10000
     },
     "inputWidgets": {},
     "nuid": "f0808c89-1250-43fb-b84c-e0d6ef249023",
     "showTitle": false,
     "title": ""
    }
   },
   "outputs": [
    {
     "data": {
      "text/html": [
       "<html>\n",
       "<head><meta charset=\"utf-8\" /></head>\n",
       "<body>\n",
       "    <div>            <script src=\"https://cdnjs.cloudflare.com/ajax/libs/mathjax/2.7.5/MathJax.js?config=TeX-AMS-MML_SVG\"></script><script type=\"text/javascript\">if (window.MathJax) {MathJax.Hub.Config({SVG: {font: \"STIX-Web\"}});}</script>                <script type=\"text/javascript\">window.PlotlyConfig = {MathJaxConfig: 'local'};</script>\n",
       "        <script src=\"https://cdn.plot.ly/plotly-2.9.0.min.js\"></script>                <div id=\"755d5533-8d32-44da-8f0c-017e24671c66\" class=\"plotly-graph-div\" style=\"height:100%; width:100%;\"></div>            <script type=\"text/javascript\">                                    window.PLOTLYENV=window.PLOTLYENV || {};                                    if (document.getElementById(\"755d5533-8d32-44da-8f0c-017e24671c66\")) {                    Plotly.newPlot(                        \"755d5533-8d32-44da-8f0c-017e24671c66\",                        [{\"alignmentgroup\":\"True\",\"hovertemplate\":\"variable=Apartamento<br>Estado=%{x}<br>value=%{y}<extra></extra>\",\"legendgroup\":\"Apartamento\",\"marker\":{\"color\":\"#636efa\",\"pattern\":{\"shape\":\"\"}},\"name\":\"Apartamento\",\"offsetgroup\":\"Apartamento\",\"orientation\":\"v\",\"showlegend\":true,\"textposition\":\"auto\",\"x\":[\"Santa Catarina\",\"Rondonia\",\"Piau\\u00ed\",\"Pernambuco\",\"Sao Paulo\",\"Rio Grande do Sul\",\"Rio Grande do Norte\",\"Sergipe\",\"Rio de Janeiro\",\"Tocantins\"],\"xaxis\":\"x\",\"y\":[2192,3,21,306,1906,2059,252,62,2036,1],\"yaxis\":\"y\",\"type\":\"bar\"},{\"alignmentgroup\":\"True\",\"hovertemplate\":\"variable=Casa<br>Estado=%{x}<br>value=%{y}<extra></extra>\",\"legendgroup\":\"Casa\",\"marker\":{\"color\":\"#EF553B\",\"pattern\":{\"shape\":\"\"}},\"name\":\"Casa\",\"offsetgroup\":\"Casa\",\"orientation\":\"v\",\"showlegend\":true,\"textposition\":\"auto\",\"x\":[\"Santa Catarina\",\"Rondonia\",\"Piau\\u00ed\",\"Pernambuco\",\"Sao Paulo\",\"Rio Grande do Sul\",\"Rio Grande do Norte\",\"Sergipe\",\"Rio de Janeiro\",\"Tocantins\"],\"xaxis\":\"x\",\"y\":[442,2,3,12,750,584,50,6,606,0],\"yaxis\":\"y\",\"type\":\"bar\"}],                        {\"template\":{\"data\":{\"bar\":[{\"error_x\":{\"color\":\"#2a3f5f\"},\"error_y\":{\"color\":\"#2a3f5f\"},\"marker\":{\"line\":{\"color\":\"#E5ECF6\",\"width\":0.5},\"pattern\":{\"fillmode\":\"overlay\",\"size\":10,\"solidity\":0.2}},\"type\":\"bar\"}],\"barpolar\":[{\"marker\":{\"line\":{\"color\":\"#E5ECF6\",\"width\":0.5},\"pattern\":{\"fillmode\":\"overlay\",\"size\":10,\"solidity\":0.2}},\"type\":\"barpolar\"}],\"carpet\":[{\"aaxis\":{\"endlinecolor\":\"#2a3f5f\",\"gridcolor\":\"white\",\"linecolor\":\"white\",\"minorgridcolor\":\"white\",\"startlinecolor\":\"#2a3f5f\"},\"baxis\":{\"endlinecolor\":\"#2a3f5f\",\"gridcolor\":\"white\",\"linecolor\":\"white\",\"minorgridcolor\":\"white\",\"startlinecolor\":\"#2a3f5f\"},\"type\":\"carpet\"}],\"choropleth\":[{\"colorbar\":{\"outlinewidth\":0,\"ticks\":\"\"},\"type\":\"choropleth\"}],\"contour\":[{\"colorbar\":{\"outlinewidth\":0,\"ticks\":\"\"},\"colorscale\":[[0.0,\"#0d0887\"],[0.1111111111111111,\"#46039f\"],[0.2222222222222222,\"#7201a8\"],[0.3333333333333333,\"#9c179e\"],[0.4444444444444444,\"#bd3786\"],[0.5555555555555556,\"#d8576b\"],[0.6666666666666666,\"#ed7953\"],[0.7777777777777778,\"#fb9f3a\"],[0.8888888888888888,\"#fdca26\"],[1.0,\"#f0f921\"]],\"type\":\"contour\"}],\"contourcarpet\":[{\"colorbar\":{\"outlinewidth\":0,\"ticks\":\"\"},\"type\":\"contourcarpet\"}],\"heatmap\":[{\"colorbar\":{\"outlinewidth\":0,\"ticks\":\"\"},\"colorscale\":[[0.0,\"#0d0887\"],[0.1111111111111111,\"#46039f\"],[0.2222222222222222,\"#7201a8\"],[0.3333333333333333,\"#9c179e\"],[0.4444444444444444,\"#bd3786\"],[0.5555555555555556,\"#d8576b\"],[0.6666666666666666,\"#ed7953\"],[0.7777777777777778,\"#fb9f3a\"],[0.8888888888888888,\"#fdca26\"],[1.0,\"#f0f921\"]],\"type\":\"heatmap\"}],\"heatmapgl\":[{\"colorbar\":{\"outlinewidth\":0,\"ticks\":\"\"},\"colorscale\":[[0.0,\"#0d0887\"],[0.1111111111111111,\"#46039f\"],[0.2222222222222222,\"#7201a8\"],[0.3333333333333333,\"#9c179e\"],[0.4444444444444444,\"#bd3786\"],[0.5555555555555556,\"#d8576b\"],[0.6666666666666666,\"#ed7953\"],[0.7777777777777778,\"#fb9f3a\"],[0.8888888888888888,\"#fdca26\"],[1.0,\"#f0f921\"]],\"type\":\"heatmapgl\"}],\"histogram\":[{\"marker\":{\"pattern\":{\"fillmode\":\"overlay\",\"size\":10,\"solidity\":0.2}},\"type\":\"histogram\"}],\"histogram2d\":[{\"colorbar\":{\"outlinewidth\":0,\"ticks\":\"\"},\"colorscale\":[[0.0,\"#0d0887\"],[0.1111111111111111,\"#46039f\"],[0.2222222222222222,\"#7201a8\"],[0.3333333333333333,\"#9c179e\"],[0.4444444444444444,\"#bd3786\"],[0.5555555555555556,\"#d8576b\"],[0.6666666666666666,\"#ed7953\"],[0.7777777777777778,\"#fb9f3a\"],[0.8888888888888888,\"#fdca26\"],[1.0,\"#f0f921\"]],\"type\":\"histogram2d\"}],\"histogram2dcontour\":[{\"colorbar\":{\"outlinewidth\":0,\"ticks\":\"\"},\"colorscale\":[[0.0,\"#0d0887\"],[0.1111111111111111,\"#46039f\"],[0.2222222222222222,\"#7201a8\"],[0.3333333333333333,\"#9c179e\"],[0.4444444444444444,\"#bd3786\"],[0.5555555555555556,\"#d8576b\"],[0.6666666666666666,\"#ed7953\"],[0.7777777777777778,\"#fb9f3a\"],[0.8888888888888888,\"#fdca26\"],[1.0,\"#f0f921\"]],\"type\":\"histogram2dcontour\"}],\"mesh3d\":[{\"colorbar\":{\"outlinewidth\":0,\"ticks\":\"\"},\"type\":\"mesh3d\"}],\"parcoords\":[{\"line\":{\"colorbar\":{\"outlinewidth\":0,\"ticks\":\"\"}},\"type\":\"parcoords\"}],\"pie\":[{\"automargin\":true,\"type\":\"pie\"}],\"scatter\":[{\"marker\":{\"colorbar\":{\"outlinewidth\":0,\"ticks\":\"\"}},\"type\":\"scatter\"}],\"scatter3d\":[{\"line\":{\"colorbar\":{\"outlinewidth\":0,\"ticks\":\"\"}},\"marker\":{\"colorbar\":{\"outlinewidth\":0,\"ticks\":\"\"}},\"type\":\"scatter3d\"}],\"scattercarpet\":[{\"marker\":{\"colorbar\":{\"outlinewidth\":0,\"ticks\":\"\"}},\"type\":\"scattercarpet\"}],\"scattergeo\":[{\"marker\":{\"colorbar\":{\"outlinewidth\":0,\"ticks\":\"\"}},\"type\":\"scattergeo\"}],\"scattergl\":[{\"marker\":{\"colorbar\":{\"outlinewidth\":0,\"ticks\":\"\"}},\"type\":\"scattergl\"}],\"scattermapbox\":[{\"marker\":{\"colorbar\":{\"outlinewidth\":0,\"ticks\":\"\"}},\"type\":\"scattermapbox\"}],\"scatterpolar\":[{\"marker\":{\"colorbar\":{\"outlinewidth\":0,\"ticks\":\"\"}},\"type\":\"scatterpolar\"}],\"scatterpolargl\":[{\"marker\":{\"colorbar\":{\"outlinewidth\":0,\"ticks\":\"\"}},\"type\":\"scatterpolargl\"}],\"scatterternary\":[{\"marker\":{\"colorbar\":{\"outlinewidth\":0,\"ticks\":\"\"}},\"type\":\"scatterternary\"}],\"surface\":[{\"colorbar\":{\"outlinewidth\":0,\"ticks\":\"\"},\"colorscale\":[[0.0,\"#0d0887\"],[0.1111111111111111,\"#46039f\"],[0.2222222222222222,\"#7201a8\"],[0.3333333333333333,\"#9c179e\"],[0.4444444444444444,\"#bd3786\"],[0.5555555555555556,\"#d8576b\"],[0.6666666666666666,\"#ed7953\"],[0.7777777777777778,\"#fb9f3a\"],[0.8888888888888888,\"#fdca26\"],[1.0,\"#f0f921\"]],\"type\":\"surface\"}],\"table\":[{\"cells\":{\"fill\":{\"color\":\"#EBF0F8\"},\"line\":{\"color\":\"white\"}},\"header\":{\"fill\":{\"color\":\"#C8D4E3\"},\"line\":{\"color\":\"white\"}},\"type\":\"table\"}]},\"layout\":{\"annotationdefaults\":{\"arrowcolor\":\"#2a3f5f\",\"arrowhead\":0,\"arrowwidth\":1},\"autotypenumbers\":\"strict\",\"coloraxis\":{\"colorbar\":{\"outlinewidth\":0,\"ticks\":\"\"}},\"colorscale\":{\"diverging\":[[0,\"#8e0152\"],[0.1,\"#c51b7d\"],[0.2,\"#de77ae\"],[0.3,\"#f1b6da\"],[0.4,\"#fde0ef\"],[0.5,\"#f7f7f7\"],[0.6,\"#e6f5d0\"],[0.7,\"#b8e186\"],[0.8,\"#7fbc41\"],[0.9,\"#4d9221\"],[1,\"#276419\"]],\"sequential\":[[0.0,\"#0d0887\"],[0.1111111111111111,\"#46039f\"],[0.2222222222222222,\"#7201a8\"],[0.3333333333333333,\"#9c179e\"],[0.4444444444444444,\"#bd3786\"],[0.5555555555555556,\"#d8576b\"],[0.6666666666666666,\"#ed7953\"],[0.7777777777777778,\"#fb9f3a\"],[0.8888888888888888,\"#fdca26\"],[1.0,\"#f0f921\"]],\"sequentialminus\":[[0.0,\"#0d0887\"],[0.1111111111111111,\"#46039f\"],[0.2222222222222222,\"#7201a8\"],[0.3333333333333333,\"#9c179e\"],[0.4444444444444444,\"#bd3786\"],[0.5555555555555556,\"#d8576b\"],[0.6666666666666666,\"#ed7953\"],[0.7777777777777778,\"#fb9f3a\"],[0.8888888888888888,\"#fdca26\"],[1.0,\"#f0f921\"]]},\"colorway\":[\"#636efa\",\"#EF553B\",\"#00cc96\",\"#ab63fa\",\"#FFA15A\",\"#19d3f3\",\"#FF6692\",\"#B6E880\",\"#FF97FF\",\"#FECB52\"],\"font\":{\"color\":\"#2a3f5f\"},\"geo\":{\"bgcolor\":\"white\",\"lakecolor\":\"white\",\"landcolor\":\"#E5ECF6\",\"showlakes\":true,\"showland\":true,\"subunitcolor\":\"white\"},\"hoverlabel\":{\"align\":\"left\"},\"hovermode\":\"closest\",\"mapbox\":{\"style\":\"light\"},\"paper_bgcolor\":\"white\",\"plot_bgcolor\":\"#E5ECF6\",\"polar\":{\"angularaxis\":{\"gridcolor\":\"white\",\"linecolor\":\"white\",\"ticks\":\"\"},\"bgcolor\":\"#E5ECF6\",\"radialaxis\":{\"gridcolor\":\"white\",\"linecolor\":\"white\",\"ticks\":\"\"}},\"scene\":{\"xaxis\":{\"backgroundcolor\":\"#E5ECF6\",\"gridcolor\":\"white\",\"gridwidth\":2,\"linecolor\":\"white\",\"showbackground\":true,\"ticks\":\"\",\"zerolinecolor\":\"white\"},\"yaxis\":{\"backgroundcolor\":\"#E5ECF6\",\"gridcolor\":\"white\",\"gridwidth\":2,\"linecolor\":\"white\",\"showbackground\":true,\"ticks\":\"\",\"zerolinecolor\":\"white\"},\"zaxis\":{\"backgroundcolor\":\"#E5ECF6\",\"gridcolor\":\"white\",\"gridwidth\":2,\"linecolor\":\"white\",\"showbackground\":true,\"ticks\":\"\",\"zerolinecolor\":\"white\"}},\"shapedefaults\":{\"line\":{\"color\":\"#2a3f5f\"}},\"ternary\":{\"aaxis\":{\"gridcolor\":\"white\",\"linecolor\":\"white\",\"ticks\":\"\"},\"baxis\":{\"gridcolor\":\"white\",\"linecolor\":\"white\",\"ticks\":\"\"},\"bgcolor\":\"#E5ECF6\",\"caxis\":{\"gridcolor\":\"white\",\"linecolor\":\"white\",\"ticks\":\"\"}},\"title\":{\"x\":0.05},\"xaxis\":{\"automargin\":true,\"gridcolor\":\"white\",\"linecolor\":\"white\",\"ticks\":\"\",\"title\":{\"standoff\":15},\"zerolinecolor\":\"white\",\"zerolinewidth\":2},\"yaxis\":{\"automargin\":true,\"gridcolor\":\"white\",\"linecolor\":\"white\",\"ticks\":\"\",\"title\":{\"standoff\":15},\"zerolinecolor\":\"white\",\"zerolinewidth\":2}}},\"xaxis\":{\"anchor\":\"y\",\"domain\":[0.0,1.0],\"title\":{\"text\":\"Estado\"}},\"yaxis\":{\"anchor\":\"x\",\"domain\":[0.0,1.0],\"title\":{\"text\":\"value\"}},\"legend\":{\"title\":{\"text\":\"variable\"},\"tracegroupgap\":0},\"margin\":{\"t\":60},\"barmode\":\"relative\"},                        {\"responsive\": true}                    )                };                            </script>        </div>\n",
       "</body>\n",
       "</html>"
      ]
     },
     "metadata": {
      "application/vnd.databricks.v1+output": {
       "addedWidgets": {},
       "arguments": {},
       "data": "<html>\n<head><meta charset=\"utf-8\" /></head>\n<body>\n    <div>            <script src=\"https://cdnjs.cloudflare.com/ajax/libs/mathjax/2.7.5/MathJax.js?config=TeX-AMS-MML_SVG\"></script><script type=\"text/javascript\">if (window.MathJax) {MathJax.Hub.Config({SVG: {font: \"STIX-Web\"}});}</script>                <script type=\"text/javascript\">window.PlotlyConfig = {MathJaxConfig: 'local'};</script>\n        <script src=\"https://cdn.plot.ly/plotly-2.9.0.min.js\"></script>                <div id=\"755d5533-8d32-44da-8f0c-017e24671c66\" class=\"plotly-graph-div\" style=\"height:100%; width:100%;\"></div>            <script type=\"text/javascript\">                                    window.PLOTLYENV=window.PLOTLYENV || {};                                    if (document.getElementById(\"755d5533-8d32-44da-8f0c-017e24671c66\")) {                    Plotly.newPlot(                        \"755d5533-8d32-44da-8f0c-017e24671c66\",                        [{\"alignmentgroup\":\"True\",\"hovertemplate\":\"variable=Apartamento<br>Estado=%{x}<br>value=%{y}<extra></extra>\",\"legendgroup\":\"Apartamento\",\"marker\":{\"color\":\"#636efa\",\"pattern\":{\"shape\":\"\"}},\"name\":\"Apartamento\",\"offsetgroup\":\"Apartamento\",\"orientation\":\"v\",\"showlegend\":true,\"textposition\":\"auto\",\"x\":[\"Santa Catarina\",\"Rondonia\",\"Piau\\u00ed\",\"Pernambuco\",\"Sao Paulo\",\"Rio Grande do Sul\",\"Rio Grande do Norte\",\"Sergipe\",\"Rio de Janeiro\",\"Tocantins\"],\"xaxis\":\"x\",\"y\":[2192,3,21,306,1906,2059,252,62,2036,1],\"yaxis\":\"y\",\"type\":\"bar\"},{\"alignmentgroup\":\"True\",\"hovertemplate\":\"variable=Casa<br>Estado=%{x}<br>value=%{y}<extra></extra>\",\"legendgroup\":\"Casa\",\"marker\":{\"color\":\"#EF553B\",\"pattern\":{\"shape\":\"\"}},\"name\":\"Casa\",\"offsetgroup\":\"Casa\",\"orientation\":\"v\",\"showlegend\":true,\"textposition\":\"auto\",\"x\":[\"Santa Catarina\",\"Rondonia\",\"Piau\\u00ed\",\"Pernambuco\",\"Sao Paulo\",\"Rio Grande do Sul\",\"Rio Grande do Norte\",\"Sergipe\",\"Rio de Janeiro\",\"Tocantins\"],\"xaxis\":\"x\",\"y\":[442,2,3,12,750,584,50,6,606,0],\"yaxis\":\"y\",\"type\":\"bar\"}],                        {\"template\":{\"data\":{\"bar\":[{\"error_x\":{\"color\":\"#2a3f5f\"},\"error_y\":{\"color\":\"#2a3f5f\"},\"marker\":{\"line\":{\"color\":\"#E5ECF6\",\"width\":0.5},\"pattern\":{\"fillmode\":\"overlay\",\"size\":10,\"solidity\":0.2}},\"type\":\"bar\"}],\"barpolar\":[{\"marker\":{\"line\":{\"color\":\"#E5ECF6\",\"width\":0.5},\"pattern\":{\"fillmode\":\"overlay\",\"size\":10,\"solidity\":0.2}},\"type\":\"barpolar\"}],\"carpet\":[{\"aaxis\":{\"endlinecolor\":\"#2a3f5f\",\"gridcolor\":\"white\",\"linecolor\":\"white\",\"minorgridcolor\":\"white\",\"startlinecolor\":\"#2a3f5f\"},\"baxis\":{\"endlinecolor\":\"#2a3f5f\",\"gridcolor\":\"white\",\"linecolor\":\"white\",\"minorgridcolor\":\"white\",\"startlinecolor\":\"#2a3f5f\"},\"type\":\"carpet\"}],\"choropleth\":[{\"colorbar\":{\"outlinewidth\":0,\"ticks\":\"\"},\"type\":\"choropleth\"}],\"contour\":[{\"colorbar\":{\"outlinewidth\":0,\"ticks\":\"\"},\"colorscale\":[[0.0,\"#0d0887\"],[0.1111111111111111,\"#46039f\"],[0.2222222222222222,\"#7201a8\"],[0.3333333333333333,\"#9c179e\"],[0.4444444444444444,\"#bd3786\"],[0.5555555555555556,\"#d8576b\"],[0.6666666666666666,\"#ed7953\"],[0.7777777777777778,\"#fb9f3a\"],[0.8888888888888888,\"#fdca26\"],[1.0,\"#f0f921\"]],\"type\":\"contour\"}],\"contourcarpet\":[{\"colorbar\":{\"outlinewidth\":0,\"ticks\":\"\"},\"type\":\"contourcarpet\"}],\"heatmap\":[{\"colorbar\":{\"outlinewidth\":0,\"ticks\":\"\"},\"colorscale\":[[0.0,\"#0d0887\"],[0.1111111111111111,\"#46039f\"],[0.2222222222222222,\"#7201a8\"],[0.3333333333333333,\"#9c179e\"],[0.4444444444444444,\"#bd3786\"],[0.5555555555555556,\"#d8576b\"],[0.6666666666666666,\"#ed7953\"],[0.7777777777777778,\"#fb9f3a\"],[0.8888888888888888,\"#fdca26\"],[1.0,\"#f0f921\"]],\"type\":\"heatmap\"}],\"heatmapgl\":[{\"colorbar\":{\"outlinewidth\":0,\"ticks\":\"\"},\"colorscale\":[[0.0,\"#0d0887\"],[0.1111111111111111,\"#46039f\"],[0.2222222222222222,\"#7201a8\"],[0.3333333333333333,\"#9c179e\"],[0.4444444444444444,\"#bd3786\"],[0.5555555555555556,\"#d8576b\"],[0.6666666666666666,\"#ed7953\"],[0.7777777777777778,\"#fb9f3a\"],[0.8888888888888888,\"#fdca26\"],[1.0,\"#f0f921\"]],\"type\":\"heatmapgl\"}],\"histogram\":[{\"marker\":{\"pattern\":{\"fillmode\":\"overlay\",\"size\":10,\"solidity\":0.2}},\"type\":\"histogram\"}],\"histogram2d\":[{\"colorbar\":{\"outlinewidth\":0,\"ticks\":\"\"},\"colorscale\":[[0.0,\"#0d0887\"],[0.1111111111111111,\"#46039f\"],[0.2222222222222222,\"#7201a8\"],[0.3333333333333333,\"#9c179e\"],[0.4444444444444444,\"#bd3786\"],[0.5555555555555556,\"#d8576b\"],[0.6666666666666666,\"#ed7953\"],[0.7777777777777778,\"#fb9f3a\"],[0.8888888888888888,\"#fdca26\"],[1.0,\"#f0f921\"]],\"type\":\"histogram2d\"}],\"histogram2dcontour\":[{\"colorbar\":{\"outlinewidth\":0,\"ticks\":\"\"},\"colorscale\":[[0.0,\"#0d0887\"],[0.1111111111111111,\"#46039f\"],[0.2222222222222222,\"#7201a8\"],[0.3333333333333333,\"#9c179e\"],[0.4444444444444444,\"#bd3786\"],[0.5555555555555556,\"#d8576b\"],[0.6666666666666666,\"#ed7953\"],[0.7777777777777778,\"#fb9f3a\"],[0.8888888888888888,\"#fdca26\"],[1.0,\"#f0f921\"]],\"type\":\"histogram2dcontour\"}],\"mesh3d\":[{\"colorbar\":{\"outlinewidth\":0,\"ticks\":\"\"},\"type\":\"mesh3d\"}],\"parcoords\":[{\"line\":{\"colorbar\":{\"outlinewidth\":0,\"ticks\":\"\"}},\"type\":\"parcoords\"}],\"pie\":[{\"automargin\":true,\"type\":\"pie\"}],\"scatter\":[{\"marker\":{\"colorbar\":{\"outlinewidth\":0,\"ticks\":\"\"}},\"type\":\"scatter\"}],\"scatter3d\":[{\"line\":{\"colorbar\":{\"outlinewidth\":0,\"ticks\":\"\"}},\"marker\":{\"colorbar\":{\"outlinewidth\":0,\"ticks\":\"\"}},\"type\":\"scatter3d\"}],\"scattercarpet\":[{\"marker\":{\"colorbar\":{\"outlinewidth\":0,\"ticks\":\"\"}},\"type\":\"scattercarpet\"}],\"scattergeo\":[{\"marker\":{\"colorbar\":{\"outlinewidth\":0,\"ticks\":\"\"}},\"type\":\"scattergeo\"}],\"scattergl\":[{\"marker\":{\"colorbar\":{\"outlinewidth\":0,\"ticks\":\"\"}},\"type\":\"scattergl\"}],\"scattermapbox\":[{\"marker\":{\"colorbar\":{\"outlinewidth\":0,\"ticks\":\"\"}},\"type\":\"scattermapbox\"}],\"scatterpolar\":[{\"marker\":{\"colorbar\":{\"outlinewidth\":0,\"ticks\":\"\"}},\"type\":\"scatterpolar\"}],\"scatterpolargl\":[{\"marker\":{\"colorbar\":{\"outlinewidth\":0,\"ticks\":\"\"}},\"type\":\"scatterpolargl\"}],\"scatterternary\":[{\"marker\":{\"colorbar\":{\"outlinewidth\":0,\"ticks\":\"\"}},\"type\":\"scatterternary\"}],\"surface\":[{\"colorbar\":{\"outlinewidth\":0,\"ticks\":\"\"},\"colorscale\":[[0.0,\"#0d0887\"],[0.1111111111111111,\"#46039f\"],[0.2222222222222222,\"#7201a8\"],[0.3333333333333333,\"#9c179e\"],[0.4444444444444444,\"#bd3786\"],[0.5555555555555556,\"#d8576b\"],[0.6666666666666666,\"#ed7953\"],[0.7777777777777778,\"#fb9f3a\"],[0.8888888888888888,\"#fdca26\"],[1.0,\"#f0f921\"]],\"type\":\"surface\"}],\"table\":[{\"cells\":{\"fill\":{\"color\":\"#EBF0F8\"},\"line\":{\"color\":\"white\"}},\"header\":{\"fill\":{\"color\":\"#C8D4E3\"},\"line\":{\"color\":\"white\"}},\"type\":\"table\"}]},\"layout\":{\"annotationdefaults\":{\"arrowcolor\":\"#2a3f5f\",\"arrowhead\":0,\"arrowwidth\":1},\"autotypenumbers\":\"strict\",\"coloraxis\":{\"colorbar\":{\"outlinewidth\":0,\"ticks\":\"\"}},\"colorscale\":{\"diverging\":[[0,\"#8e0152\"],[0.1,\"#c51b7d\"],[0.2,\"#de77ae\"],[0.3,\"#f1b6da\"],[0.4,\"#fde0ef\"],[0.5,\"#f7f7f7\"],[0.6,\"#e6f5d0\"],[0.7,\"#b8e186\"],[0.8,\"#7fbc41\"],[0.9,\"#4d9221\"],[1,\"#276419\"]],\"sequential\":[[0.0,\"#0d0887\"],[0.1111111111111111,\"#46039f\"],[0.2222222222222222,\"#7201a8\"],[0.3333333333333333,\"#9c179e\"],[0.4444444444444444,\"#bd3786\"],[0.5555555555555556,\"#d8576b\"],[0.6666666666666666,\"#ed7953\"],[0.7777777777777778,\"#fb9f3a\"],[0.8888888888888888,\"#fdca26\"],[1.0,\"#f0f921\"]],\"sequentialminus\":[[0.0,\"#0d0887\"],[0.1111111111111111,\"#46039f\"],[0.2222222222222222,\"#7201a8\"],[0.3333333333333333,\"#9c179e\"],[0.4444444444444444,\"#bd3786\"],[0.5555555555555556,\"#d8576b\"],[0.6666666666666666,\"#ed7953\"],[0.7777777777777778,\"#fb9f3a\"],[0.8888888888888888,\"#fdca26\"],[1.0,\"#f0f921\"]]},\"colorway\":[\"#636efa\",\"#EF553B\",\"#00cc96\",\"#ab63fa\",\"#FFA15A\",\"#19d3f3\",\"#FF6692\",\"#B6E880\",\"#FF97FF\",\"#FECB52\"],\"font\":{\"color\":\"#2a3f5f\"},\"geo\":{\"bgcolor\":\"white\",\"lakecolor\":\"white\",\"landcolor\":\"#E5ECF6\",\"showlakes\":true,\"showland\":true,\"subunitcolor\":\"white\"},\"hoverlabel\":{\"align\":\"left\"},\"hovermode\":\"closest\",\"mapbox\":{\"style\":\"light\"},\"paper_bgcolor\":\"white\",\"plot_bgcolor\":\"#E5ECF6\",\"polar\":{\"angularaxis\":{\"gridcolor\":\"white\",\"linecolor\":\"white\",\"ticks\":\"\"},\"bgcolor\":\"#E5ECF6\",\"radialaxis\":{\"gridcolor\":\"white\",\"linecolor\":\"white\",\"ticks\":\"\"}},\"scene\":{\"xaxis\":{\"backgroundcolor\":\"#E5ECF6\",\"gridcolor\":\"white\",\"gridwidth\":2,\"linecolor\":\"white\",\"showbackground\":true,\"ticks\":\"\",\"zerolinecolor\":\"white\"},\"yaxis\":{\"backgroundcolor\":\"#E5ECF6\",\"gridcolor\":\"white\",\"gridwidth\":2,\"linecolor\":\"white\",\"showbackground\":true,\"ticks\":\"\",\"zerolinecolor\":\"white\"},\"zaxis\":{\"backgroundcolor\":\"#E5ECF6\",\"gridcolor\":\"white\",\"gridwidth\":2,\"linecolor\":\"white\",\"showbackground\":true,\"ticks\":\"\",\"zerolinecolor\":\"white\"}},\"shapedefaults\":{\"line\":{\"color\":\"#2a3f5f\"}},\"ternary\":{\"aaxis\":{\"gridcolor\":\"white\",\"linecolor\":\"white\",\"ticks\":\"\"},\"baxis\":{\"gridcolor\":\"white\",\"linecolor\":\"white\",\"ticks\":\"\"},\"bgcolor\":\"#E5ECF6\",\"caxis\":{\"gridcolor\":\"white\",\"linecolor\":\"white\",\"ticks\":\"\"}},\"title\":{\"x\":0.05},\"xaxis\":{\"automargin\":true,\"gridcolor\":\"white\",\"linecolor\":\"white\",\"ticks\":\"\",\"title\":{\"standoff\":15},\"zerolinecolor\":\"white\",\"zerolinewidth\":2},\"yaxis\":{\"automargin\":true,\"gridcolor\":\"white\",\"linecolor\":\"white\",\"ticks\":\"\",\"title\":{\"standoff\":15},\"zerolinecolor\":\"white\",\"zerolinewidth\":2}}},\"xaxis\":{\"anchor\":\"y\",\"domain\":[0.0,1.0],\"title\":{\"text\":\"Estado\"}},\"yaxis\":{\"anchor\":\"x\",\"domain\":[0.0,1.0],\"title\":{\"text\":\"value\"}},\"legend\":{\"title\":{\"text\":\"variable\"},\"tracegroupgap\":0},\"margin\":{\"t\":60},\"barmode\":\"relative\"},                        {\"responsive\": true}                    )                };                            </script>        </div>\n</body>\n</html>",
       "datasetInfos": [],
       "metadata": {},
       "removedWidgets": [],
       "textData": null,
       "type": "htmlSandbox"
      }
     },
     "output_type": "display_data"
    }
   ],
   "source": [
    "qntd_por_estado = df.groupby('state')['property_type'].value_counts()\n",
    "df_qntd_por_estado = qntd_por_estado.reset_index(name='count')\n",
    "apto = df_qntd_por_estado[df_qntd_por_estado['property_type'] == 'apartment']\n",
    "casa = df_qntd_por_estado[df_qntd_por_estado['property_type'] == 'house']\n",
    "tipo_por_estado = df_qntd_por_estado.pivot(index='state', columns='property_type', values='count').fillna(0).reset_index()\n",
    "tipo_por_estado = tipo_por_estado.rename(columns={'apartment': 'Apartamento', 'house': 'Casa', 'state': 'Estado'})\n",
    "\n",
    "tipo_por_estado.plot.bar(x='Estado',y=['Apartamento', 'Casa'])"
   ]
  },
  {
   "cell_type": "markdown",
   "metadata": {
    "application/vnd.databricks.v1+cell": {
     "cellMetadata": {
      "byteLimit": 2048000,
      "rowLimit": 10000
     },
     "inputWidgets": {},
     "nuid": "11ff6330-f28e-4e5d-9984-dbd6466f2c35",
     "showTitle": false,
     "title": ""
    }
   },
   "source": [
    "# Olhando mais de perto o exemplo de estado com mais propriedades:\n",
    "Podemos observar que, segundo o dataset, apartamentos são vendidos mais que 2 vezes a mais que casas"
   ]
  },
  {
   "cell_type": "markdown",
   "metadata": {
    "application/vnd.databricks.v1+cell": {
     "cellMetadata": {},
     "inputWidgets": {},
     "nuid": "1a85b8d5-e373-45f2-b617-a73052250df1",
     "showTitle": false,
     "title": ""
    }
   },
   "source": [
    "Visualização do exemplo de estado com mais propriedades vendidas (São Paulo) usando um gráfico de pizza"
   ]
  },
  {
   "cell_type": "code",
   "execution_count": null,
   "metadata": {
    "application/vnd.databricks.v1+cell": {
     "cellMetadata": {
      "byteLimit": 2048000,
      "rowLimit": 10000
     },
     "inputWidgets": {},
     "nuid": "77d6daf1-c2ee-4dfa-b825-a2c9ac02da6b",
     "showTitle": false,
     "title": ""
    }
   },
   "outputs": [
    {
     "data": {
      "image/png": "[encoded data removed]"
     },
     "metadata": {
      "application/vnd.databricks.v1+output": {
       "addedWidgets": {},
       "arguments": {},
       "data": "data:image/png;base64,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\n",
       "datasetInfos": [],
       "metadata": {},
       "removedWidgets": [],
       "type": "image"
      }
     },
     "output_type": "display_data"
    }
   ],
   "source": [
    "import matplotlib.pyplot as plt\n",
    "\n",
    "sp_data = tipo_por_estado.loc[tipo_por_estado['Estado']=='Sao Paulo']\n",
    "sp_data = sp_data.rename(columns={'apartment': 'Apartamento', 'house': 'Casa'})\n",
    "plt.pie(sp_data.iloc[0, 1:], labels = sp_data.columns[1:], autopct='%1.1f%%', startangle=90)\n",
    "plt.show()\n"
   ]
  },
  {
   "cell_type": "markdown",
   "metadata": {
    "application/vnd.databricks.v1+cell": {
     "cellMetadata": {},
     "inputWidgets": {},
     "nuid": "64830f32-5775-4bb6-9d8b-6b30b3b233e2",
     "showTitle": false,
     "title": ""
    }
   },
   "source": [
    "# Após analisar os dados imobiliários brasileiros, podemos destacar várias insights interessantes:\n",
    "\n",
    "- Variação de Preços por Estado: Santa Catarina se destaca como o estado com o metro quadrado mais caro, enquanto Tocantins apresenta os preços mais acessíveis. Essa disparidade pode refletir diferenças econômicas e demanda por região.\n",
    "\n",
    "- Impacto do Tamanho na Precificação: O tamanho do imóvel, medido em metros quadrados, tem uma correlação significativa com o preço. Imóveis maiores geralmente têm preços mais altos, conforme observado na análise de dispersão.\n",
    "\n",
    "- Diferença entre Tipos de Propriedade: Apartamentos mostraram-se mais caros em média do que casas, sugerindo preferências de mercado e diferenciação de preço com base no tipo de propriedade.\n",
    "\n",
    "- Preferências de Compra por Estado: A maioria dos estados mostra uma predominância de vendas de apartamentos em relação a casas. São Paulo exemplifica claramente essa tendência, com uma proporção significativa de apartamentos vendidos em comparação com casas."
   ]
  },
  {
   "cell_type": "markdown",
   "metadata": {
    "application/vnd.databricks.v1+cell": {
     "cellMetadata": {},
     "inputWidgets": {},
     "nuid": "eee60036-1f26-41a5-8e9a-85ca100ef276",
     "showTitle": false,
     "title": ""
    }
   },
   "source": [
    "Salvando arquivo em parquet:"
   ]
  },
  {
   "cell_type": "code",
   "execution_count": null,
   "metadata": {
    "application/vnd.databricks.v1+cell": {
     "cellMetadata": {
      "byteLimit": 2048000,
      "rowLimit": 10000
     },
     "inputWidgets": {},
     "nuid": "3182ac05-1885-4715-8367-73ad6cd6197e",
     "showTitle": false,
     "title": ""
    }
   },
   "outputs": [],
   "source": [
    "df = ps.DataFrame(df)\n",
    "df.to_parquet('/FileStore/tables/brazil_real_estate.parquet')"
   ]
  }
 ],
 "metadata": {
  "application/vnd.databricks.v1+notebook": {
   "dashboards": [
    {
     "elements": [
      {
       "dashboardResultIndex": null,
       "elementNUID": "6d5d7022-7afd-44b2-9fb5-0ed9fe7bfcd2",
       "elementType": "command",
       "guid": "01a76937-b838-4031-a040-c4dfb9aba364",
       "options": null,
       "position": {
        "height": 1,
        "width": 12,
        "x": 0,
        "y": 6,
        "z": null
       },
       "resultIndex": null
      },
      {
       "dashboardResultIndex": null,
       "elementNUID": "9d27cda4-522e-487b-b297-e0a9dd17f0b6",
       "elementType": "command",
       "guid": "0320e7e1-9fd8-4bb2-b856-e40991b801f8",
       "options": null,
       "position": {
        "height": 2,
        "width": 12,
        "x": 0,
        "y": 79,
        "z": null
       },
       "resultIndex": null
      },
      {
       "dashboardResultIndex": null,
       "elementNUID": "514eb750-fcae-479f-8332-61cc5f9a8456",
       "elementType": "command",
       "guid": "12ad488b-142b-4bb6-ba6c-87dad0b4c064",
       "options": null,
       "position": {
        "height": 10,
        "width": 12,
        "x": 0,
        "y": 69,
        "z": null
       },
       "resultIndex": null
      },
      {
       "dashboardResultIndex": null,
       "elementNUID": "c52de2c9-5fb9-428e-8194-89d5543a639e",
       "elementType": "command",
       "guid": "18b9c850-e09c-4069-bd7d-7e409d230612",
       "options": null,
       "position": {
        "height": 6,
        "width": 12,
        "x": 0,
        "y": 55,
        "z": null
       },
       "resultIndex": null
      },
      {
       "dashboardResultIndex": 0,
       "elementNUID": "f0808c89-1250-43fb-b84c-e0d6ef249023",
       "elementType": "command",
       "guid": "22467fe5-3a63-49fe-88b7-08e44f05eb2a",
       "options": null,
       "position": {
        "height": 6,
        "width": 12,
        "x": 0,
        "y": 81,
        "z": null
       },
       "resultIndex": null
      },
      {
       "dashboardResultIndex": null,
       "elementNUID": "64830f32-5775-4bb6-9d8b-6b30b3b233e2",
       "elementType": "command",
       "guid": "3adb3d46-82fa-4ba0-84c3-5f4b2a29332e",
       "options": null,
       "position": {
        "height": 5,
        "width": 12,
        "x": 0,
        "y": 104,
        "z": null
       },
       "resultIndex": null
      },
      {
       "dashboardResultIndex": 0,
       "elementNUID": "77d6daf1-c2ee-4dfa-b825-a2c9ac02da6b",
       "elementType": "command",
       "guid": "3d272273-7b88-498e-b2d7-6890162f81d3",
       "options": null,
       "position": {
        "height": 6,
        "width": 12,
        "x": 0,
        "y": 98,
        "z": null
       },
       "resultIndex": null
      },
      {
       "dashboardResultIndex": null,
       "elementNUID": "391a864d-900f-4eb8-bf5c-a5585b0f520a",
       "elementType": "command",
       "guid": "413bb0a7-0eba-46a6-a791-5c62efe2a1b9",
       "options": null,
       "position": {
        "height": 2,
        "width": 12,
        "x": 0,
        "y": 11,
        "z": null
       },
       "resultIndex": null
      },
      {
       "dashboardResultIndex": null,
       "elementNUID": "06ad83e9-d9d3-4b05-9e85-6488af06f5ff",
       "elementType": "command",
       "guid": "5dd3b5d1-03ef-48f5-96a9-57b50b7a1e7d",
       "options": null,
       "position": {
        "height": 2,
        "width": 12,
        "x": 0,
        "y": 9,
        "z": null
       },
       "resultIndex": null
      },
      {
       "dashboardResultIndex": null,
       "elementNUID": "41e5c9c7-76a0-47e2-9aea-a3260f6927df",
       "elementType": "command",
       "guid": "608073b1-35dd-4b0d-a57d-143ed833f28f",
       "options": null,
       "position": {
        "height": 1,
        "width": 12,
        "x": 0,
        "y": 33,
        "z": null
       },
       "resultIndex": null
      },
      {
       "dashboardResultIndex": null,
       "elementNUID": "cdd1656e-5738-4f5f-a75c-b9d27eee1fea",
       "elementType": "command",
       "guid": "62c473eb-edc2-4ba9-bbb6-193cdeaed3c6",
       "options": null,
       "position": {
        "height": 1,
        "width": 12,
        "x": 0,
        "y": 8,
        "z": null
       },
       "resultIndex": null
      },
      {
       "dashboardResultIndex": 0,
       "elementNUID": "39a261f3-2297-427b-b160-eaa3829fa86b",
       "elementType": "command",
       "guid": "6c85a4b1-2b30-4c54-bb9a-354349a78dd5",
       "options": null,
       "position": {
        "height": 6,
        "width": 12,
        "x": 0,
        "y": 49,
        "z": null
       },
       "resultIndex": null
      },
      {
       "dashboardResultIndex": null,
       "elementNUID": "1a85b8d5-e373-45f2-b617-a73052250df1",
       "elementType": "command",
       "guid": "6ca98f41-eefc-4a6c-b684-8e4d84d1540b",
       "options": null,
       "position": {
        "height": 2,
        "width": 12,
        "x": 0,
        "y": 96,
        "z": null
       },
       "resultIndex": null
      },
      {
       "dashboardResultIndex": null,
       "elementNUID": "6fa42ceb-2a39-406d-8548-441281f2ecf4",
       "elementType": "command",
       "guid": "6d54ed8d-a27a-4b97-a18f-7f1e76b0c0a7",
       "options": null,
       "position": {
        "height": 2,
        "width": 12,
        "x": 0,
        "y": 61,
        "z": null
       },
       "resultIndex": null
      },
      {
       "dashboardResultIndex": null,
       "elementNUID": "eee60036-1f26-41a5-8e9a-85ca100ef276",
       "elementType": "command",
       "guid": "71d03c65-8cd2-4d56-b1bb-ebbdaf64d1d8",
       "options": {
        "autoScaleImg": false,
        "scale": 2,
        "showTitle": false,
        "titleAlign": "center"
       },
       "position": {
        "height": 2,
        "width": 12,
        "x": 0,
        "y": 109,
        "z": null
       },
       "resultIndex": null
      },
      {
       "dashboardResultIndex": null,
       "elementNUID": "11ff6330-f28e-4e5d-9984-dbd6466f2c35",
       "elementType": "command",
       "guid": "71eab2bc-559b-4ea0-9527-4b7d47cb0702",
       "options": null,
       "position": {
        "height": 9,
        "width": 12,
        "x": 0,
        "y": 87,
        "z": null
       },
       "resultIndex": null
      },
      {
       "dashboardResultIndex": null,
       "elementNUID": "5160d415-00d9-4810-8ff5-2d98996331e5",
       "elementType": "command",
       "guid": "7d68631f-4573-4d71-ae28-6bc92f1df725",
       "options": null,
       "position": {
        "height": 1,
        "width": 12,
        "x": 0,
        "y": 7,
        "z": null
       },
       "resultIndex": null
      },
      {
       "dashboardResultIndex": null,
       "elementNUID": "d8b2a8e2-4a17-4711-ba9d-7d29d661490d",
       "elementType": "command",
       "guid": "8853da1a-2bff-4ad2-a1dc-e3a95976352b",
       "options": null,
       "position": {
        "height": 2,
        "width": 12,
        "x": 0,
        "y": 13,
        "z": null
       },
       "resultIndex": null
      },
      {
       "dashboardResultIndex": 0,
       "elementNUID": "2f77b3f7-e41d-4aa3-ba45-21ac7b1b9b11",
       "elementType": "command",
       "guid": "92f1e2ff-05f5-4b0b-b519-7f4f9e4bd99f",
       "options": null,
       "position": {
        "height": 2,
        "width": 8,
        "x": 0,
        "y": 3,
        "z": null
       },
       "resultIndex": null
      },
      {
       "dashboardResultIndex": 0,
       "elementNUID": "5da9b6f5-cb24-4fda-87cc-4f3aa5750b46",
       "elementType": "command",
       "guid": "98b5f2c5-c270-4395-be70-258cc3bb3af1",
       "options": null,
       "position": {
        "height": 6,
        "width": 12,
        "x": 0,
        "y": 63,
        "z": null
       },
       "resultIndex": null
      },
      {
       "dashboardResultIndex": 0,
       "elementNUID": "eb2ab868-92a7-4616-b90b-35b3d6a015b5",
       "elementType": "command",
       "guid": "aa6dfbc8-5c27-40c5-89cc-6d331f207b8f",
       "options": null,
       "position": {
        "height": 6,
        "width": 12,
        "x": 0,
        "y": 18,
        "z": null
       },
       "resultIndex": null
      },
      {
       "dashboardResultIndex": 0,
       "elementNUID": "b5e28fef-84ec-443b-931d-0f05f4dad1ef",
       "elementType": "command",
       "guid": "ae858899-01e8-4b60-a612-009f4b51b47f",
       "options": null,
       "position": {
        "height": 6,
        "width": 12,
        "x": 0,
        "y": 34,
        "z": null
       },
       "resultIndex": null
      },
      {
       "dashboardResultIndex": null,
       "elementNUID": "f11041cf-8da9-4acc-97e7-4fcb39153001",
       "elementType": "command",
       "guid": "b12d00a4-270c-4a13-91b5-0e3eb226373b",
       "options": null,
       "position": {
        "height": 3,
        "width": 12,
        "x": 0,
        "y": 15,
        "z": null
       },
       "resultIndex": null
      },
      {
       "dashboardResultIndex": null,
       "elementNUID": "2095a1c8-c89f-45e7-8092-a39ab7190a42",
       "elementType": "command",
       "guid": "b9b0353e-28f5-4180-9837-fbbb41fe1bf4",
       "options": null,
       "position": {
        "height": 1,
        "width": 12,
        "x": 0,
        "y": 1,
        "z": null
       },
       "resultIndex": null
      },
      {
       "dashboardResultIndex": null,
       "elementNUID": "9c92bf16-b565-4332-8984-5f1a7598c055",
       "elementType": "command",
       "guid": "c20af2e7-563c-4f5e-b017-0e0d3c08e1e0",
       "options": null,
       "position": {
        "height": 9,
        "width": 12,
        "x": 0,
        "y": 24,
        "z": null
       },
       "resultIndex": null
      },
      {
       "dashboardResultIndex": null,
       "elementNUID": "aabadb0e-1515-4f2b-867d-e91489e67755",
       "elementType": "command",
       "guid": "d3dc28b7-7560-41ba-8967-66a92e049f88",
       "options": null,
       "position": {
        "height": 7,
        "width": 12,
        "x": 0,
        "y": 40,
        "z": null
       },
       "resultIndex": null
      },
      {
       "dashboardResultIndex": null,
       "elementNUID": "3d00ecd2-16fd-4889-92ce-840ae7aa838e",
       "elementType": "command",
       "guid": "e19b8221-463d-4200-b1e6-02c5b5b58680",
       "options": null,
       "position": {
        "height": 1,
        "width": 12,
        "x": 0,
        "y": 0,
        "z": null
       },
       "resultIndex": null
      },
      {
       "dashboardResultIndex": null,
       "elementNUID": "a8847306-d4b0-4164-94ee-3ee84e22ca5b",
       "elementType": "command",
       "guid": "e87b79dc-5da6-46ba-939f-9e25cf375a33",
       "options": null,
       "position": {
        "height": 1,
        "width": 12,
        "x": 0,
        "y": 2,
        "z": null
       },
       "resultIndex": null
      },
      {
       "dashboardResultIndex": null,
       "elementNUID": "c10d356e-7a44-4508-9bff-ca2a5077cf7f",
       "elementType": "command",
       "guid": "eac3d3bb-a835-4f89-b850-bf13ddd2fbf2",
       "options": null,
       "position": {
        "height": 2,
        "width": 12,
        "x": 0,
        "y": 47,
        "z": null
       },
       "resultIndex": null
      },
      {
       "dashboardResultIndex": null,
       "elementNUID": "bbc69cfc-b66d-4473-b2b1-972202482ce0",
       "elementType": "command",
       "guid": "f20b067d-454e-4336-ac00-9a3e87af430c",
       "options": null,
       "position": {
        "height": 1,
        "width": 12,
        "x": 0,
        "y": 5,
        "z": null
       },
       "resultIndex": null
      }
     ],
     "globalVars": {},
     "guid": "",
     "layoutOption": {
      "grid": true,
      "stack": true
     },
     "nuid": "f78a82d5-b244-4483-86ec-ce71a21c16fa",
     "origId": 277341781458415,
     "title": "Untitled",
     "version": "DashboardViewV1",
     "width": 1920
    },
    {
     "elements": [
      {
       "dashboardResultIndex": null,
       "elementNUID": "f11041cf-8da9-4acc-97e7-4fcb39153001",
       "elementType": "command",
       "guid": "02227ffa-b7f4-40bf-9b56-1c7946978a2a",
       "options": null,
       "position": {
        "height": 3,
        "width": 12,
        "x": 0,
        "y": 16,
        "z": null
       },
       "resultIndex": null
      },
      {
       "dashboardResultIndex": null,
       "elementNUID": "6d5d7022-7afd-44b2-9fb5-0ed9fe7bfcd2",
       "elementType": "command",
       "guid": "09056859-df68-40c4-9826-08d139d0bf75",
       "options": null,
       "position": {
        "height": 1,
        "width": 12,
        "x": 0,
        "y": 7,
        "z": null
       },
       "resultIndex": null
      },
      {
       "dashboardResultIndex": null,
       "elementNUID": "06ad83e9-d9d3-4b05-9e85-6488af06f5ff",
       "elementType": "command",
       "guid": "13ca64c6-9075-4df5-93f8-033405d09f18",
       "options": null,
       "position": {
        "height": 2,
        "width": 12,
        "x": 0,
        "y": 10,
        "z": null
       },
       "resultIndex": null
      },
      {
       "dashboardResultIndex": 0,
       "elementNUID": "77d6daf1-c2ee-4dfa-b825-a2c9ac02da6b",
       "elementType": "command",
       "guid": "20a53cc1-6423-4288-bded-eadec8b323b8",
       "options": null,
       "position": {
        "height": 6,
        "width": 12,
        "x": 0,
        "y": 99,
        "z": null
       },
       "resultIndex": null
      },
      {
       "dashboardResultIndex": null,
       "elementNUID": "391a864d-900f-4eb8-bf5c-a5585b0f520a",
       "elementType": "command",
       "guid": "432e00ce-96bb-4466-ae2f-d7664c946191",
       "options": null,
       "position": {
        "height": 2,
        "width": 12,
        "x": 0,
        "y": 12,
        "z": null
       },
       "resultIndex": null
      },
      {
       "dashboardResultIndex": 0,
       "elementNUID": "39a261f3-2297-427b-b160-eaa3829fa86b",
       "elementType": "command",
       "guid": "49ec8be8-e7d6-428d-9d21-3612869a5755",
       "options": null,
       "position": {
        "height": 6,
        "width": 12,
        "x": 0,
        "y": 50,
        "z": null
       },
       "resultIndex": null
      },
      {
       "dashboardResultIndex": null,
       "elementNUID": "514eb750-fcae-479f-8332-61cc5f9a8456",
       "elementType": "command",
       "guid": "49f3347c-9221-4edb-b81d-2699292ed594",
       "options": null,
       "position": {
        "height": 10,
        "width": 12,
        "x": 0,
        "y": 70,
        "z": null
       },
       "resultIndex": null
      },
      {
       "dashboardResultIndex": null,
       "elementNUID": "6fa42ceb-2a39-406d-8548-441281f2ecf4",
       "elementType": "command",
       "guid": "51e5a93f-7536-4520-9de6-41de2430c8da",
       "options": null,
       "position": {
        "height": 2,
        "width": 12,
        "x": 0,
        "y": 62,
        "z": null
       },
       "resultIndex": null
      },
      {
       "dashboardResultIndex": null,
       "elementNUID": "a8847306-d4b0-4164-94ee-3ee84e22ca5b",
       "elementType": "command",
       "guid": "566ea42c-ed1f-4934-8202-2059b157d541",
       "options": null,
       "position": {
        "height": 1,
        "width": 12,
        "x": 0,
        "y": 2,
        "z": null
       },
       "resultIndex": null
      },
      {
       "dashboardResultIndex": null,
       "elementNUID": "c10d356e-7a44-4508-9bff-ca2a5077cf7f",
       "elementType": "command",
       "guid": "607a8fdb-f321-4133-91db-023d6c3d09b2",
       "options": null,
       "position": {
        "height": 2,
        "width": 12,
        "x": 0,
        "y": 48,
        "z": null
       },
       "resultIndex": null
      },
      {
       "dashboardResultIndex": null,
       "elementNUID": "c52de2c9-5fb9-428e-8194-89d5543a639e",
       "elementType": "command",
       "guid": "68fa32ea-fa3c-4d6d-9866-67a6f6a3def1",
       "options": null,
       "position": {
        "height": 6,
        "width": 12,
        "x": 0,
        "y": 56,
        "z": null
       },
       "resultIndex": null
      },
      {
       "dashboardResultIndex": null,
       "elementNUID": "aabadb0e-1515-4f2b-867d-e91489e67755",
       "elementType": "command",
       "guid": "723249b2-fd74-46f4-863a-0099d32ee424",
       "options": null,
       "position": {
        "height": 7,
        "width": 12,
        "x": 0,
        "y": 41,
        "z": null
       },
       "resultIndex": null
      },
      {
       "dashboardResultIndex": null,
       "elementNUID": "d8b2a8e2-4a17-4711-ba9d-7d29d661490d",
       "elementType": "command",
       "guid": "7830a37e-19c9-40f7-b4a6-a4b5a1fff16f",
       "options": null,
       "position": {
        "height": 2,
        "width": 12,
        "x": 0,
        "y": 14,
        "z": null
       },
       "resultIndex": null
      },
      {
       "dashboardResultIndex": 0,
       "elementNUID": "5da9b6f5-cb24-4fda-87cc-4f3aa5750b46",
       "elementType": "command",
       "guid": "7ca6aff6-0fd9-4dbc-b96a-a4976b3af05a",
       "options": null,
       "position": {
        "height": 6,
        "width": 12,
        "x": 0,
        "y": 64,
        "z": null
       },
       "resultIndex": null
      },
      {
       "dashboardResultIndex": 0,
       "elementNUID": "b5e28fef-84ec-443b-931d-0f05f4dad1ef",
       "elementType": "command",
       "guid": "7dd186d5-eef3-4a2f-ab97-0c8ad4b5ffa1",
       "options": null,
       "position": {
        "height": 6,
        "width": 12,
        "x": 0,
        "y": 35,
        "z": null
       },
       "resultIndex": null
      },
      {
       "dashboardResultIndex": null,
       "elementNUID": "5160d415-00d9-4810-8ff5-2d98996331e5",
       "elementType": "command",
       "guid": "86172fcf-010f-4588-b156-dbf66c24057a",
       "options": null,
       "position": {
        "height": 1,
        "width": 12,
        "x": 0,
        "y": 8,
        "z": null
       },
       "resultIndex": null
      },
      {
       "dashboardResultIndex": null,
       "elementNUID": "11ff6330-f28e-4e5d-9984-dbd6466f2c35",
       "elementType": "command",
       "guid": "86a02fdc-05b5-4761-a8d9-ef258704267e",
       "options": null,
       "position": {
        "height": 9,
        "width": 12,
        "x": 0,
        "y": 88,
        "z": null
       },
       "resultIndex": null
      },
      {
       "dashboardResultIndex": null,
       "elementNUID": "cdd1656e-5738-4f5f-a75c-b9d27eee1fea",
       "elementType": "command",
       "guid": "880f8c09-41e8-4cf1-921e-d89ab2e7f495",
       "options": null,
       "position": {
        "height": 1,
        "width": 12,
        "x": 0,
        "y": 9,
        "z": null
       },
       "resultIndex": null
      },
      {
       "dashboardResultIndex": null,
       "elementNUID": "bbc69cfc-b66d-4473-b2b1-972202482ce0",
       "elementType": "command",
       "guid": "8d46f0d8-35b0-4da2-935c-c76375a578d8",
       "options": null,
       "position": {
        "height": 1,
        "width": 12,
        "x": 0,
        "y": 6,
        "z": null
       },
       "resultIndex": null
      },
      {
       "dashboardResultIndex": 0,
       "elementNUID": "eb2ab868-92a7-4616-b90b-35b3d6a015b5",
       "elementType": "command",
       "guid": "933ac1f3-0a67-49cc-9bb4-3c7ba2b3ca61",
       "options": null,
       "position": {
        "height": 6,
        "width": 12,
        "x": 0,
        "y": 19,
        "z": null
       },
       "resultIndex": null
      },
      {
       "dashboardResultIndex": null,
       "elementNUID": "1a85b8d5-e373-45f2-b617-a73052250df1",
       "elementType": "command",
       "guid": "a65e3858-b7c2-4f95-b6a5-1e12f1840909",
       "options": null,
       "position": {
        "height": 2,
        "width": 12,
        "x": 0,
        "y": 97,
        "z": null
       },
       "resultIndex": null
      },
      {
       "dashboardResultIndex": 0,
       "elementNUID": "2f77b3f7-e41d-4aa3-ba45-21ac7b1b9b11",
       "elementType": "command",
       "guid": "a79d23df-77f2-49a0-8ba6-ad89369162fd",
       "options": null,
       "position": {
        "height": 3,
        "width": 8,
        "x": 0,
        "y": 3,
        "z": null
       },
       "resultIndex": null
      },
      {
       "dashboardResultIndex": null,
       "elementNUID": "9d27cda4-522e-487b-b297-e0a9dd17f0b6",
       "elementType": "command",
       "guid": "ae2b3033-cb4d-489e-8c66-bde7ab86d8c8",
       "options": null,
       "position": {
        "height": 2,
        "width": 12,
        "x": 0,
        "y": 80,
        "z": null
       },
       "resultIndex": null
      },
      {
       "dashboardResultIndex": 0,
       "elementNUID": "f0808c89-1250-43fb-b84c-e0d6ef249023",
       "elementType": "command",
       "guid": "cd9d905a-5b3b-42d1-91eb-ee189ec57e1c",
       "options": null,
       "position": {
        "height": 6,
        "width": 12,
        "x": 0,
        "y": 82,
        "z": null
       },
       "resultIndex": null
      },
      {
       "dashboardResultIndex": null,
       "elementNUID": "3d00ecd2-16fd-4889-92ce-840ae7aa838e",
       "elementType": "command",
       "guid": "d5bda011-ec6d-47c0-99be-12cefc4a4f04",
       "options": null,
       "position": {
        "height": 2,
        "width": 12,
        "x": 0,
        "y": 0,
        "z": null
       },
       "resultIndex": null
      },
      {
       "dashboardResultIndex": null,
       "elementNUID": "eee60036-1f26-41a5-8e9a-85ca100ef276",
       "elementType": "command",
       "guid": "e3dd89cb-b6b5-4761-98a0-11406a1e050d",
       "options": null,
       "position": {
        "height": 1,
        "width": 12,
        "x": 0,
        "y": 122,
        "z": null
       },
       "resultIndex": null
      },
      {
       "dashboardResultIndex": null,
       "elementNUID": "64830f32-5775-4bb6-9d8b-6b30b3b233e2",
       "elementType": "command",
       "guid": "e859f8b7-80dc-40b0-9305-b8f3f1a551b5",
       "options": null,
       "position": {
        "height": 17,
        "width": 12,
        "x": 0,
        "y": 105,
        "z": null
       },
       "resultIndex": null
      },
      {
       "dashboardResultIndex": null,
       "elementNUID": "41e5c9c7-76a0-47e2-9aea-a3260f6927df",
       "elementType": "command",
       "guid": "e9588ffa-7ef7-4e2a-9143-de3c812f6f4a",
       "options": null,
       "position": {
        "height": 1,
        "width": 12,
        "x": 0,
        "y": 34,
        "z": null
       },
       "resultIndex": null
      },
      {
       "dashboardResultIndex": null,
       "elementNUID": "9c92bf16-b565-4332-8984-5f1a7598c055",
       "elementType": "command",
       "guid": "f607653c-7dc0-44bb-b156-144b884b5d3e",
       "options": null,
       "position": {
        "height": 9,
        "width": 12,
        "x": 0,
        "y": 25,
        "z": null
       },
       "resultIndex": null
      }
     ],
     "globalVars": {},
     "guid": "",
     "layoutOption": {
      "grid": true,
      "stack": true
     },
     "nuid": "b2cf67f2-1b48-4854-85b4-b9ab726b4111",
     "origId": 277341781458416,
     "title": "Untitled",
     "version": "DashboardViewV1",
     "width": 1920
    },
    {
     "elements": [
      {
       "dashboardResultIndex": null,
       "elementNUID": "a8847306-d4b0-4164-94ee-3ee84e22ca5b",
       "elementType": "command",
       "guid": "00005074-58ed-49bd-a8a3-cfef780d8fa6",
       "options": null,
       "position": {
        "height": 2,
        "width": 12,
        "x": 5,
        "y": 2,
        "z": null
       },
       "resultIndex": null
      },
      {
       "dashboardResultIndex": 0,
       "elementNUID": "77d6daf1-c2ee-4dfa-b825-a2c9ac02da6b",
       "elementType": "command",
       "guid": "0163448f-b6fb-4b57-8ec3-dfded4ba261b",
       "options": null,
       "position": {
        "height": 6,
        "width": 12,
        "x": 0,
        "y": 88,
        "z": null
       },
       "resultIndex": null
      },
      {
       "dashboardResultIndex": 0,
       "elementNUID": "39a261f3-2297-427b-b160-eaa3829fa86b",
       "elementType": "command",
       "guid": "1929a0b2-9641-4f78-8266-c228e932a611",
       "options": null,
       "position": {
        "height": 10,
        "width": 24,
        "x": 0,
        "y": 30,
        "z": null
       },
       "resultIndex": null
      },
      {
       "dashboardResultIndex": null,
       "elementNUID": "6fa42ceb-2a39-406d-8548-441281f2ecf4",
       "elementType": "command",
       "guid": "1fab074a-6319-4a71-8340-518a4e2d4fef",
       "options": null,
       "position": {
        "height": 6,
        "width": 12,
        "x": 0,
        "y": 46,
        "z": null
       },
       "resultIndex": null
      },
      {
       "dashboardResultIndex": 0,
       "elementNUID": "5da9b6f5-cb24-4fda-87cc-4f3aa5750b46",
       "elementType": "command",
       "guid": "27f43621-fa20-45f7-8214-4a26bfd5796e",
       "options": null,
       "position": {
        "height": 6,
        "width": 12,
        "x": 0,
        "y": 52,
        "z": null
       },
       "resultIndex": null
      },
      {
       "dashboardResultIndex": null,
       "elementNUID": "11ff6330-f28e-4e5d-9984-dbd6466f2c35",
       "elementType": "command",
       "guid": "4153faf8-0463-433f-a92c-208c54e3bee2",
       "options": null,
       "position": {
        "height": 6,
        "width": 12,
        "x": 0,
        "y": 76,
        "z": null
       },
       "resultIndex": null
      },
      {
       "dashboardResultIndex": null,
       "elementNUID": "c52de2c9-5fb9-428e-8194-89d5543a639e",
       "elementType": "command",
       "guid": "6502e012-91a3-408a-9ae7-394da92e305a",
       "options": null,
       "position": {
        "height": 6,
        "width": 12,
        "x": 0,
        "y": 40,
        "z": null
       },
       "resultIndex": null
      },
      {
       "dashboardResultIndex": null,
       "elementNUID": "1a85b8d5-e373-45f2-b617-a73052250df1",
       "elementType": "command",
       "guid": "67c5646e-cc80-432f-9ea9-6b3a3445ca2b",
       "options": null,
       "position": {
        "height": 6,
        "width": 12,
        "x": 0,
        "y": 82,
        "z": null
       },
       "resultIndex": null
      },
      {
       "dashboardResultIndex": 0,
       "elementNUID": "b5e28fef-84ec-443b-931d-0f05f4dad1ef",
       "elementType": "command",
       "guid": "8fcd80e8-0df7-4667-88e5-6076b9ab41aa",
       "options": null,
       "position": {
        "height": 10,
        "width": 24,
        "x": 0,
        "y": 15,
        "z": null
       },
       "resultIndex": null
      },
      {
       "dashboardResultIndex": 0,
       "elementNUID": "f0808c89-1250-43fb-b84c-e0d6ef249023",
       "elementType": "command",
       "guid": "a645ad52-5305-40ef-af99-48722d22bf8b",
       "options": null,
       "position": {
        "height": 6,
        "width": 12,
        "x": 0,
        "y": 70,
        "z": null
       },
       "resultIndex": null
      },
      {
       "dashboardResultIndex": null,
       "elementNUID": "eee60036-1f26-41a5-8e9a-85ca100ef276",
       "elementType": "command",
       "guid": "ad3aa70d-c11c-43b3-a919-0b58be5aa9c3",
       "options": null,
       "position": {
        "height": 6,
        "width": 12,
        "x": 0,
        "y": 100,
        "z": null
       },
       "resultIndex": null
      },
      {
       "dashboardResultIndex": null,
       "elementNUID": "9c92bf16-b565-4332-8984-5f1a7598c055",
       "elementType": "command",
       "guid": "b20552ee-621d-4eb4-bc9b-d5ef271d41e3",
       "options": null,
       "position": {
        "height": 5,
        "width": 24,
        "x": 0,
        "y": 10,
        "z": null
       },
       "resultIndex": null
      },
      {
       "dashboardResultIndex": null,
       "elementNUID": "9d27cda4-522e-487b-b297-e0a9dd17f0b6",
       "elementType": "command",
       "guid": "bc869b34-281c-46ad-90d5-6d3d709f20ff",
       "options": null,
       "position": {
        "height": 6,
        "width": 12,
        "x": 0,
        "y": 64,
        "z": null
       },
       "resultIndex": null
      },
      {
       "dashboardResultIndex": null,
       "elementNUID": "3d00ecd2-16fd-4889-92ce-840ae7aa838e",
       "elementType": "command",
       "guid": "cadad0fc-cf57-4f6b-ac21-b30cab57d7d4",
       "options": null,
       "position": {
        "height": 2,
        "width": 12,
        "x": 5,
        "y": 0,
        "z": null
       },
       "resultIndex": null
      },
      {
       "dashboardResultIndex": null,
       "elementNUID": "aabadb0e-1515-4f2b-867d-e91489e67755",
       "elementType": "command",
       "guid": "d09c51e3-2e46-4371-a019-efab152cb53a",
       "options": null,
       "position": {
        "height": 5,
        "width": 24,
        "x": 0,
        "y": 25,
        "z": null
       },
       "resultIndex": null
      },
      {
       "dashboardResultIndex": null,
       "elementNUID": "64830f32-5775-4bb6-9d8b-6b30b3b233e2",
       "elementType": "command",
       "guid": "d9878d23-521c-42a9-8ffe-ace4a19789f3",
       "options": null,
       "position": {
        "height": 6,
        "width": 12,
        "x": 0,
        "y": 94,
        "z": null
       },
       "resultIndex": null
      },
      {
       "dashboardResultIndex": null,
       "elementNUID": "514eb750-fcae-479f-8332-61cc5f9a8456",
       "elementType": "command",
       "guid": "e33621e7-117c-48fa-96da-72179218ddc6",
       "options": null,
       "position": {
        "height": 6,
        "width": 12,
        "x": 0,
        "y": 58,
        "z": null
       },
       "resultIndex": null
      }
     ],
     "globalVars": {},
     "guid": "",
     "layoutOption": {
      "grid": true,
      "stack": true
     },
     "nuid": "e82a917f-fba2-44e8-b057-4c9c3ca675f4",
     "origId": 3840329423177899,
     "title": "Untitled",
     "version": "DashboardViewV1",
     "width": 1024
    },
    {
     "elements": [
      {
       "dashboardResultIndex": 0,
       "elementNUID": "b5e28fef-84ec-443b-931d-0f05f4dad1ef",
       "elementType": "command",
       "guid": "0be07526-ee24-40d2-bf0c-8d5cb5093787",
       "options": null,
       "position": {
        "height": 6,
        "width": 12,
        "x": 0,
        "y": 9,
        "z": null
       },
       "resultIndex": null
      },
      {
       "dashboardResultIndex": null,
       "elementNUID": "11ff6330-f28e-4e5d-9984-dbd6466f2c35",
       "elementType": "command",
       "guid": "0c9089a5-4898-4372-8d93-588b4d70dd88",
       "options": null,
       "position": {
        "height": 3,
        "width": 12,
        "x": 0,
        "y": 41,
        "z": null
       },
       "resultIndex": null
      },
      {
       "dashboardResultIndex": null,
       "elementNUID": "9c92bf16-b565-4332-8984-5f1a7598c055",
       "elementType": "command",
       "guid": "23d0a099-297d-4de0-8dc5-8ba680720af7",
       "options": null,
       "position": {
        "height": 2,
        "width": 12,
        "x": 0,
        "y": 7,
        "z": null
       },
       "resultIndex": null
      },
      {
       "dashboardResultIndex": null,
       "elementNUID": "c52de2c9-5fb9-428e-8194-89d5543a639e",
       "elementType": "command",
       "guid": "288ce6bc-f5ba-4801-b637-37c580922e11",
       "options": null,
       "position": {
        "height": 2,
        "width": 12,
        "x": 0,
        "y": 25,
        "z": null
       },
       "resultIndex": null
      },
      {
       "dashboardResultIndex": 0,
       "elementNUID": "f0808c89-1250-43fb-b84c-e0d6ef249023",
       "elementType": "command",
       "guid": "3b488ffe-b489-4a1a-909c-4429a154972f",
       "options": null,
       "position": {
        "height": 6,
        "width": 12,
        "x": 0,
        "y": 35,
        "z": null
       },
       "resultIndex": null
      },
      {
       "dashboardResultIndex": null,
       "elementNUID": "514eb750-fcae-479f-8332-61cc5f9a8456",
       "elementType": "command",
       "guid": "4eb37167-e0b5-4461-9e97-d5936dc72660",
       "options": null,
       "position": {
        "height": 2,
        "width": 14,
        "x": 0,
        "y": 33,
        "z": null
       },
       "resultIndex": null
      },
      {
       "dashboardResultIndex": 0,
       "elementNUID": "a682529d-89f7-43fd-b818-812b5e2dc56c",
       "elementType": "command",
       "guid": "5c1cbf93-15e4-42a8-9e61-037f2adce0a7",
       "options": {
        "autoScaleImg": false,
        "scale": 0,
        "showTitle": false,
        "titleAlign": "center"
       },
       "position": {
        "height": 3,
        "width": 10,
        "x": 0,
        "y": 4,
        "z": null
       },
       "resultIndex": null
      },
      {
       "dashboardResultIndex": 0,
       "elementNUID": "5da9b6f5-cb24-4fda-87cc-4f3aa5750b46",
       "elementType": "command",
       "guid": "60c98fb3-e0b2-442f-8ae3-28ed6d7c12de",
       "options": null,
       "position": {
        "height": 6,
        "width": 12,
        "x": 0,
        "y": 27,
        "z": null
       },
       "resultIndex": null
      },
      {
       "dashboardResultIndex": null,
       "elementNUID": "3d00ecd2-16fd-4889-92ce-840ae7aa838e",
       "elementType": "command",
       "guid": "69ec6b6e-86e6-4cc0-b0b1-d2a5cc5a54f6",
       "options": {
        "autoScaleImg": false,
        "scale": 3,
        "showTitle": false,
        "titleAlign": "center"
       },
       "position": {
        "height": 2,
        "width": 10,
        "x": 0,
        "y": 0,
        "z": null
       },
       "resultIndex": null
      },
      {
       "dashboardResultIndex": 0,
       "elementNUID": "39a261f3-2297-427b-b160-eaa3829fa86b",
       "elementType": "command",
       "guid": "71ec5463-07f3-4260-b927-eaa5b522a624",
       "options": null,
       "position": {
        "height": 6,
        "width": 12,
        "x": 0,
        "y": 19,
        "z": null
       },
       "resultIndex": null
      },
      {
       "dashboardResultIndex": null,
       "elementNUID": "aabadb0e-1515-4f2b-867d-e91489e67755",
       "elementType": "command",
       "guid": "87e4169b-3739-4a41-95f9-012fb6ae2c53",
       "options": null,
       "position": {
        "height": 4,
        "width": 16,
        "x": 0,
        "y": 15,
        "z": null
       },
       "resultIndex": null
      },
      {
       "dashboardResultIndex": null,
       "elementNUID": "5160d415-00d9-4810-8ff5-2d98996331e5",
       "elementType": "command",
       "guid": "897f5ad8-a2e0-4ce0-bb3c-0c85c76f2418",
       "options": {
        "autoScaleImg": false,
        "scale": 4,
        "showTitle": false,
        "titleAlign": "center"
       },
       "position": {
        "height": 2,
        "width": 10,
        "x": 0,
        "y": 2,
        "z": null
       },
       "resultIndex": null
      },
      {
       "dashboardResultIndex": null,
       "elementNUID": "1a85b8d5-e373-45f2-b617-a73052250df1",
       "elementType": "command",
       "guid": "b55d6274-f124-4ad6-8fd4-cab0b415ef34",
       "options": null,
       "position": {
        "height": 2,
        "width": 13,
        "x": 0,
        "y": 44,
        "z": null
       },
       "resultIndex": null
      },
      {
       "dashboardResultIndex": null,
       "elementNUID": "64830f32-5775-4bb6-9d8b-6b30b3b233e2",
       "elementType": "command",
       "guid": "de6a5ea5-7441-48cb-bcf5-1d0440506d54",
       "options": null,
       "position": {
        "height": 9,
        "width": 13,
        "x": 0,
        "y": 50,
        "z": null
       },
       "resultIndex": null
      },
      {
       "dashboardResultIndex": 0,
       "elementNUID": "77d6daf1-c2ee-4dfa-b825-a2c9ac02da6b",
       "elementType": "command",
       "guid": "fec9cfc8-2bfa-4bb5-95ad-93d83ad57a1f",
       "options": null,
       "position": {
        "height": 4,
        "width": 7,
        "x": 3,
        "y": 46,
        "z": null
       },
       "resultIndex": null
      }
     ],
     "globalVars": {},
     "guid": "",
     "layoutOption": {
      "grid": true,
      "stack": true
     },
     "nuid": "0f288f54-e418-4935-a72c-6ad4d734d7c0",
     "origId": 3840329423177901,
     "title": "Untitled",
     "version": "DashboardViewV1",
     "width": 1440
    }
   ],
   "environmentMetadata": null,
   "language": "python",
   "notebookMetadata": {
    "pythonIndentUnit": 4
   },
   "notebookName": "Brazil Real Estate",
   "widgets": {}
  },
  "language_info": {
   "name": "python"
  }
 },
 "nbformat": 4,
 "nbformat_minor": 0
}
